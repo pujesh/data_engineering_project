{
 "cells": [
  {
   "cell_type": "markdown",
   "id": "890359fc",
   "metadata": {},
   "source": [
    "### Extract Data \n",
    "\n",
    "The csv files for the project can be found under data folder. \n",
    "\n",
    "Requried libraries: \n",
    "- psycopg2\n",
    "- pandas\n",
    "- sqlalchemy "
   ]
  },
  {
   "cell_type": "code",
   "execution_count": 17,
   "id": "8691490c",
   "metadata": {},
   "outputs": [],
   "source": [
    "import psycopg2\n",
    "import pandas as pd\n",
    "import sqlalchemy"
   ]
  },
  {
   "cell_type": "markdown",
   "id": "6fe2a698",
   "metadata": {},
   "source": [
    "Connecting to PostgreSQL database that is hosted on a Google Cloud Platform \n",
    "\n",
    "Update pwd variable with a password and host value for connecting to the database. \n",
    "Typically the password is extracted from a environment variable and is stored in a separate file. "
   ]
  },
  {
   "cell_type": "code",
   "execution_count": 18,
   "id": "b77f19b0",
   "metadata": {},
   "outputs": [],
   "source": [
    "try:\n",
    "    pwd = \"xxxxxxxxx\"\n",
    "    conn = psycopg2.connect(\"host=xx.xx.xx.xx dbname=postgres user=postgres password={}\".format(pwd))\n",
    "    conn.set_session(autocommit=True)\n",
    "    \n",
    "    cur = conn.cursor()\n",
    "    \n",
    "    engine = sqlalchemy.create_engine(\"postgresql://postgres:{}@34.145.47.78:5432/postgres\".format(pwd))\n",
    "    engine.raw_connection().set_session(autocommit=True)\n",
    "except Exception as e:\n",
    "    print(\"Error occurred while connecting to the database.\")\n",
    "    print(e)"
   ]
  },
  {
   "cell_type": "markdown",
   "id": "8e899d15",
   "metadata": {},
   "source": [
    "Reading all the csv files and storing them on to a pandas DataFrame. Then we are showing information regarding each dataframe and storing them into a staging tables."
   ]
  },
  {
   "cell_type": "code",
   "execution_count": 19,
   "id": "bd45c038",
   "metadata": {},
   "outputs": [],
   "source": [
    "names = pd.read_csv(\"data/movie-datasets/IMDb_names.csv\")\n",
    "ratings = pd.read_csv(\"data/movie-datasets/IMDb_ratings.csv\")\n",
    "title_principals = pd.read_csv(\"data/movie-datasets/IMDb_title_principals.csv\")\n",
    "movies = pd.read_csv(\"data/movie-datasets/IMDb_movies.csv\")"
   ]
  },
  {
   "cell_type": "code",
   "execution_count": 20,
   "id": "6dd3b701",
   "metadata": {},
   "outputs": [
    {
     "name": "stdout",
     "output_type": "stream",
     "text": [
      "<class 'pandas.core.frame.DataFrame'>\n",
      "RangeIndex: 297705 entries, 0 to 297704\n",
      "Data columns (total 17 columns):\n",
      " #   Column                 Non-Null Count   Dtype  \n",
      "---  ------                 --------------   -----  \n",
      " 0   imdb_name_id           297705 non-null  object \n",
      " 1   name                   297705 non-null  object \n",
      " 2   birth_name             297705 non-null  object \n",
      " 3   height                 44681 non-null   float64\n",
      " 4   bio                    204698 non-null  object \n",
      " 5   birth_details          110612 non-null  object \n",
      " 6   date_of_birth          110612 non-null  object \n",
      " 7   place_of_birth         103992 non-null  object \n",
      " 8   death_details          39933 non-null   object \n",
      " 9   date_of_death          39933 non-null   object \n",
      " 10  place_of_death         37038 non-null   object \n",
      " 11  reason_of_death        22694 non-null   object \n",
      " 12  spouses_string         45352 non-null   object \n",
      " 13  spouses                297705 non-null  int64  \n",
      " 14  divorces               297705 non-null  int64  \n",
      " 15  spouses_with_children  297705 non-null  int64  \n",
      " 16  children               297705 non-null  int64  \n",
      "dtypes: float64(1), int64(4), object(12)\n",
      "memory usage: 38.6+ MB\n"
     ]
    }
   ],
   "source": [
    "names.info()"
   ]
  },
  {
   "cell_type": "code",
   "execution_count": 21,
   "id": "64085aa4",
   "metadata": {},
   "outputs": [],
   "source": [
    "cur.execute(\"\"\"\n",
    "    DROP TABLE IF EXISTS stg_names\n",
    "\"\"\")\n",
    "\n",
    "cur.execute(\"\"\"\n",
    "    CREATE TABLE IF NOT EXISTS stg_names(\n",
    "        imdb_name_id varchar,\n",
    "        name varchar,\n",
    "        birth_name varchar,\n",
    "        height varchar,\n",
    "        bio varchar,\n",
    "        birth_details varchar,\n",
    "        date_of_birth varchar,\n",
    "        place_of_birth varchar,\n",
    "        death_details varchar,\n",
    "        date_of_death varchar,\n",
    "        place_of_death varchar,\n",
    "        reason_of_death varchar,\n",
    "        spouses_string varchar,\n",
    "        spouses varchar,\n",
    "        divorces varchar,\n",
    "        spouses_with_children varchar,\n",
    "        children varchar,\n",
    "        created_date timestamp default now()\n",
    "    );\n",
    "\"\"\")"
   ]
  },
  {
   "cell_type": "code",
   "execution_count": 22,
   "id": "9be87bb5",
   "metadata": {},
   "outputs": [
    {
     "name": "stdout",
     "output_type": "stream",
     "text": [
      "<class 'pandas.core.frame.DataFrame'>\n",
      "RangeIndex: 85855 entries, 0 to 85854\n",
      "Data columns (total 49 columns):\n",
      " #   Column                     Non-Null Count  Dtype  \n",
      "---  ------                     --------------  -----  \n",
      " 0   imdb_title_id              85855 non-null  object \n",
      " 1   weighted_average_vote      85855 non-null  float64\n",
      " 2   total_votes                85855 non-null  int64  \n",
      " 3   mean_vote                  85855 non-null  float64\n",
      " 4   median_vote                85855 non-null  float64\n",
      " 5   votes_10                   85855 non-null  int64  \n",
      " 6   votes_9                    85855 non-null  int64  \n",
      " 7   votes_8                    85855 non-null  int64  \n",
      " 8   votes_7                    85855 non-null  int64  \n",
      " 9   votes_6                    85855 non-null  int64  \n",
      " 10  votes_5                    85855 non-null  int64  \n",
      " 11  votes_4                    85855 non-null  int64  \n",
      " 12  votes_3                    85855 non-null  int64  \n",
      " 13  votes_2                    85855 non-null  int64  \n",
      " 14  votes_1                    85855 non-null  int64  \n",
      " 15  allgenders_0age_avg_vote   33359 non-null  float64\n",
      " 16  allgenders_0age_votes      33359 non-null  float64\n",
      " 17  allgenders_18age_avg_vote  85149 non-null  float64\n",
      " 18  allgenders_18age_votes     85149 non-null  float64\n",
      " 19  allgenders_30age_avg_vote  85845 non-null  float64\n",
      " 20  allgenders_30age_votes     85845 non-null  float64\n",
      " 21  allgenders_45age_avg_vote  85775 non-null  float64\n",
      " 22  allgenders_45age_votes     85775 non-null  float64\n",
      " 23  males_allages_avg_vote     85854 non-null  float64\n",
      " 24  males_allages_votes        85854 non-null  float64\n",
      " 25  males_0age_avg_vote        27411 non-null  float64\n",
      " 26  males_0age_votes           27411 non-null  float64\n",
      " 27  males_18age_avg_vote       84390 non-null  float64\n",
      " 28  males_18age_votes          84390 non-null  float64\n",
      " 29  males_30age_avg_vote       85843 non-null  float64\n",
      " 30  males_30age_votes          85843 non-null  float64\n",
      " 31  males_45age_avg_vote       85754 non-null  float64\n",
      " 32  males_45age_votes          85754 non-null  float64\n",
      " 33  females_allages_avg_vote   85774 non-null  float64\n",
      " 34  females_allages_votes      85774 non-null  float64\n",
      " 35  females_0age_avg_vote      22117 non-null  float64\n",
      " 36  females_0age_votes         22117 non-null  float64\n",
      " 37  females_18age_avg_vote     79334 non-null  float64\n",
      " 38  females_18age_votes        79334 non-null  float64\n",
      " 39  females_30age_avg_vote     84911 non-null  float64\n",
      " 40  females_30age_votes        84911 non-null  float64\n",
      " 41  females_45age_avg_vote     83057 non-null  float64\n",
      " 42  females_45age_votes        83057 non-null  float64\n",
      " 43  top1000_voters_rating      85176 non-null  float64\n",
      " 44  top1000_voters_votes       85176 non-null  float64\n",
      " 45  us_voters_rating           85646 non-null  float64\n",
      " 46  us_voters_votes            85646 non-null  float64\n",
      " 47  non_us_voters_rating       85854 non-null  float64\n",
      " 48  non_us_voters_votes        85854 non-null  float64\n",
      "dtypes: float64(37), int64(11), object(1)\n",
      "memory usage: 32.1+ MB\n"
     ]
    }
   ],
   "source": [
    "ratings.info()"
   ]
  },
  {
   "cell_type": "code",
   "execution_count": 23,
   "id": "6974c5d6",
   "metadata": {},
   "outputs": [],
   "source": [
    "cur.execute(\"\"\"\n",
    "    DROP TABLE IF EXISTS stg_ratings\n",
    "\"\"\")\n",
    "\n",
    "cur.execute(\"\"\"\n",
    "    CREATE TABLE IF NOT EXISTS stg_ratings(\n",
    "        imdb_title_id varchar,\n",
    "        weighted_average_vote varchar,\n",
    "        total_votes varchar,\n",
    "        mean_vote varchar,\n",
    "        median_vote varchar,\n",
    "        votes_10 varchar,\n",
    "        votes_9 varchar,\n",
    "        votes_8 varchar,\n",
    "        votes_7 varchar,\n",
    "        votes_6 varchar,\n",
    "        votes_5 varchar,\n",
    "        votes_4 varchar,\n",
    "        votes_3 varchar,\n",
    "        votes_2 varchar,\n",
    "        votes_1 varchar,\n",
    "        allgenders_0age_avg_vote varchar,\n",
    "        allgenders_0age_votes varchar,\n",
    "        allgenders_18age_avg_vote varchar,\n",
    "        allgenders_18age_votes varchar,\n",
    "        allgenders_30age_avg_vote varchar,\n",
    "        allgenders_30age_votes varchar,\n",
    "        allgenders_45age_avg_vote varchar,\n",
    "        allgenders_45age_votes varchar,\n",
    "        males_allages_avg_vote varchar,\n",
    "        males_allages_votes varchar,\n",
    "        males_0age_avg_vote varchar,\n",
    "        males_0age_votes varchar,\n",
    "        males_18age_avg_vote varchar,\n",
    "        males_18age_votes varchar,\n",
    "        males_30age_avg_vote varchar,\n",
    "        males_30age_votes varchar,\n",
    "        males_45age_avg_vote varchar,\n",
    "        males_45age_votes varchar,\n",
    "        females_allages_avg_vote varchar,\n",
    "        females_allages_votes varchar,\n",
    "        females_0age_avg_vote varchar,\n",
    "        females_0age_votes varchar,\n",
    "        females_18age_avg_vote varchar,\n",
    "        females_18age_votes varchar,\n",
    "        females_30age_avg_vote varchar,\n",
    "        females_30age_votes varchar,\n",
    "        females_45age_avg_vote varchar,\n",
    "        females_45age_votes varchar,\n",
    "        top1000_voters_rating varchar,\n",
    "        top1000_voters_votes varchar,\n",
    "        us_voters_rating varchar,\n",
    "        us_voters_votes varchar,\n",
    "        non_us_voters_rating varchar,\n",
    "        non_us_voters_votes varchar,\n",
    "        created_date timestamp default now()\n",
    "    );\n",
    "\"\"\")"
   ]
  },
  {
   "cell_type": "code",
   "execution_count": 24,
   "id": "49f5f71c",
   "metadata": {},
   "outputs": [
    {
     "name": "stdout",
     "output_type": "stream",
     "text": [
      "<class 'pandas.core.frame.DataFrame'>\n",
      "RangeIndex: 835513 entries, 0 to 835512\n",
      "Data columns (total 6 columns):\n",
      " #   Column         Non-Null Count   Dtype \n",
      "---  ------         --------------   ----- \n",
      " 0   imdb_title_id  835513 non-null  object\n",
      " 1   ordering       835513 non-null  int64 \n",
      " 2   imdb_name_id   835513 non-null  object\n",
      " 3   category       835513 non-null  object\n",
      " 4   job            212731 non-null  object\n",
      " 5   characters     340836 non-null  object\n",
      "dtypes: int64(1), object(5)\n",
      "memory usage: 38.2+ MB\n"
     ]
    }
   ],
   "source": [
    "title_principals.info()"
   ]
  },
  {
   "cell_type": "code",
   "execution_count": 25,
   "id": "9ac4182c",
   "metadata": {},
   "outputs": [],
   "source": [
    "cur.execute(\"\"\"\n",
    "    DROP TABLE IF EXISTS stg_title_principals\n",
    "\"\"\")\n",
    "\n",
    "cur.execute(\"\"\"\n",
    "    CREATE TABLE IF NOT EXISTS stg_title_principals(\n",
    "        imdb_title_id varchar,\n",
    "        ordering varchar,\n",
    "        imdb_name_id varchar,\n",
    "        category varchar,\n",
    "        job varchar,\n",
    "        characters varchar,\n",
    "        created_date timestamp default now()\n",
    "    );\n",
    "\"\"\")"
   ]
  },
  {
   "cell_type": "code",
   "execution_count": 26,
   "id": "1021894e",
   "metadata": {},
   "outputs": [
    {
     "name": "stdout",
     "output_type": "stream",
     "text": [
      "<class 'pandas.core.frame.DataFrame'>\n",
      "RangeIndex: 85855 entries, 0 to 85854\n",
      "Data columns (total 22 columns):\n",
      " #   Column                 Non-Null Count  Dtype  \n",
      "---  ------                 --------------  -----  \n",
      " 0   imdb_title_id          85855 non-null  object \n",
      " 1   title                  85855 non-null  object \n",
      " 2   original_title         85855 non-null  object \n",
      " 3   year                   85855 non-null  int64  \n",
      " 4   date_published         85855 non-null  object \n",
      " 5   genre                  85855 non-null  object \n",
      " 6   duration               85855 non-null  int64  \n",
      " 7   country                85791 non-null  object \n",
      " 8   language               85022 non-null  object \n",
      " 9   director               85768 non-null  object \n",
      " 10  writer                 84283 non-null  object \n",
      " 11  production_company     81400 non-null  object \n",
      " 12  actors                 85786 non-null  object \n",
      " 13  description            83740 non-null  object \n",
      " 14  avg_vote               85855 non-null  float64\n",
      " 15  votes                  85855 non-null  int64  \n",
      " 16  budget                 23710 non-null  object \n",
      " 17  usa_gross_income       15326 non-null  object \n",
      " 18  worlwide_gross_income  31016 non-null  object \n",
      " 19  metascore              13305 non-null  float64\n",
      " 20  reviews_from_users     78258 non-null  float64\n",
      " 21  reviews_from_critics   74058 non-null  float64\n",
      "dtypes: float64(4), int64(3), object(15)\n",
      "memory usage: 14.4+ MB\n"
     ]
    }
   ],
   "source": [
    "movies.info()"
   ]
  },
  {
   "cell_type": "code",
   "execution_count": 27,
   "id": "ce79a3c4",
   "metadata": {},
   "outputs": [],
   "source": [
    "cur.execute(\"\"\"\n",
    "    DROP TABLE IF EXISTS stg_movies\n",
    "\"\"\")\n",
    "\n",
    "cur.execute(\"\"\"\n",
    "    CREATE TABLE IF NOT EXISTS stg_movies(\n",
    "        imdb_title_id varchar,\n",
    "        title varchar,\n",
    "        original_title varchar,\n",
    "        year varchar,\n",
    "        date_published varchar,\n",
    "        genre varchar,\n",
    "        duration varchar,\n",
    "        country varchar,\n",
    "        language varchar,\n",
    "        director varchar,\n",
    "        writer varchar,\n",
    "        production_company varchar,\n",
    "        actors varchar,\n",
    "        description varchar,\n",
    "        avg_vote varchar,\n",
    "        votes varchar,\n",
    "        budget varchar,\n",
    "        usa_gross_income varchar,\n",
    "        worlwide_gross_income varchar,\n",
    "        metascore varchar,\n",
    "        reviews_from_users varchar,\n",
    "        reviews_from_critics varchar,\n",
    "        created_date timestamp default now()\n",
    "    );\n",
    "\"\"\")"
   ]
  },
  {
   "cell_type": "markdown",
   "id": "1fcc9ece",
   "metadata": {},
   "source": [
    "Deleting data for the same day before inserting the data so that duplicate data are not stored. "
   ]
  },
  {
   "cell_type": "code",
   "execution_count": 28,
   "id": "77b5196d",
   "metadata": {},
   "outputs": [],
   "source": [
    "cur.execute(\"\"\"\n",
    "    DELETE FROM stg_names \n",
    "    WHERE date_trunc('day', created_date) = date_trunc('day', now())\n",
    "\"\"\")\n",
    "\n",
    "names.to_sql('stg_names', con=engine, if_exists=\"append\", index=False, method=\"multi\", chunksize=500)"
   ]
  },
  {
   "cell_type": "code",
   "execution_count": 29,
   "id": "2f8a80a0",
   "metadata": {},
   "outputs": [],
   "source": [
    "cur.execute(\"\"\"\n",
    "    DELETE FROM stg_ratings \n",
    "    WHERE date_trunc('day', created_date) = date_trunc('day', now())\n",
    "\"\"\")\n",
    "\n",
    "ratings.to_sql('stg_ratings', con=engine, if_exists=\"append\", index=False, method=\"multi\", chunksize=500)"
   ]
  },
  {
   "cell_type": "code",
   "execution_count": 30,
   "id": "a356f19f",
   "metadata": {},
   "outputs": [],
   "source": [
    "cur.execute(\"\"\"\n",
    "    DELETE FROM stg_title_principals \n",
    "    WHERE date_trunc('day', created_date) = date_trunc('day', now())\n",
    "\"\"\")\n",
    "\n",
    "titles.to_sql('stg_title_principals', con=engine, if_exists=\"append\", index=False, method=\"multi\", chunksize=500)"
   ]
  },
  {
   "cell_type": "code",
   "execution_count": 31,
   "id": "beb93b41",
   "metadata": {},
   "outputs": [],
   "source": [
    "cur.execute(\"\"\"\n",
    "    DELETE FROM stg_movies\n",
    "    WHERE date_trunc('day', created_date) = date_trunc('day', now())\n",
    "\"\"\")\n",
    "\n",
    "movies.to_sql('stg_movies', con=engine, if_exists=\"append\", index=False, method=\"multi\", chunksize=500)"
   ]
  },
  {
   "cell_type": "code",
   "execution_count": 32,
   "id": "7b1504bc",
   "metadata": {},
   "outputs": [
    {
     "name": "stdout",
     "output_type": "stream",
     "text": [
      "Total number of rows inserted into stg_names is : 297705\n",
      "Total number of rows inserted into stg_ratings is : 85855\n",
      "Total number of rows inserted into stg_title_principals is : 835513\n",
      "Total number of rows inserted into stg_movies is : 85855\n"
     ]
    }
   ],
   "source": [
    "cur.execute(\"SELECT count(*) from stg_names WHERE date_trunc('day', created_date) = date_trunc('day', now())\")\n",
    "print(\"Total number of rows inserted into stg_names is : {}\".format(cur.fetchone()[0]))\n",
    "\n",
    "cur.execute(\"SELECT count(*) from stg_ratings WHERE date_trunc('day', created_date) = date_trunc('day', now())\")\n",
    "print(\"Total number of rows inserted into stg_ratings is : {}\".format(cur.fetchone()[0]))\n",
    "\n",
    "cur.execute(\"SELECT count(*) from stg_title_principals WHERE date_trunc('day', created_date) = date_trunc('day', now())\")\n",
    "print(\"Total number of rows inserted into stg_title_principals is : {}\".format(cur.fetchone()[0]))\n",
    "\n",
    "cur.execute(\"SELECT count(*) from stg_movies WHERE date_trunc('day', created_date) = date_trunc('day', now())\")\n",
    "print(\"Total number of rows inserted into stg_movies is : {}\".format(cur.fetchone()[0]))"
   ]
  }
 ],
 "metadata": {
  "kernelspec": {
   "display_name": "Python 3",
   "language": "python",
   "name": "python3"
  },
  "language_info": {
   "codemirror_mode": {
    "name": "ipython",
    "version": 3
   },
   "file_extension": ".py",
   "mimetype": "text/x-python",
   "name": "python",
   "nbconvert_exporter": "python",
   "pygments_lexer": "ipython3",
   "version": "3.8.8"
  }
 },
 "nbformat": 4,
 "nbformat_minor": 5
}
