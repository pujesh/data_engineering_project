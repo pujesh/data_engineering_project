{
 "cells": [
  {
   "cell_type": "markdown",
   "id": "df736573",
   "metadata": {},
   "source": [
    "### Analyze Data "
   ]
  },
  {
   "cell_type": "code",
   "execution_count": 62,
   "id": "5e4c83b8",
   "metadata": {},
   "outputs": [],
   "source": [
    "import psycopg2\n",
    "import pandas as pd\n",
    "import sqlalchemy"
   ]
  },
  {
   "cell_type": "markdown",
   "id": "9a91b9fa",
   "metadata": {},
   "source": [
    "The PostgreSQL database is hosted on a GCP. Update the pwd variable with password and the host IP. "
   ]
  },
  {
   "cell_type": "code",
   "execution_count": 63,
   "id": "db37749f",
   "metadata": {},
   "outputs": [],
   "source": [
    "try:\n",
    "    pwd = \"xxxxxxxxx\"\n",
    "    conn = sqlalchemy.create_engine(\"postgresql://postgres:{}@xx.xx.xx.xx:5432/postgres\".format(pwd))\n",
    "    \n",
    "    conn.raw_connection().set_session(autocommit=True)\n",
    "    \n",
    "    cur = conn.raw_connection().cursor()\n",
    "    \n",
    "except Exception as e:\n",
    "    print(\"Error occurred while connecting to the database!\")\n",
    "    print(e)"
   ]
  },
  {
   "cell_type": "markdown",
   "id": "e8641d1c",
   "metadata": {},
   "source": [
    "Reading the table from the database and storing into a pandas DataFrame. "
   ]
  },
  {
   "cell_type": "code",
   "execution_count": 64,
   "id": "b8041f12",
   "metadata": {},
   "outputs": [],
   "source": [
    "names = pd.read_sql(\"stg_names\", conn)\n",
    "movies = pd.read_sql(\"stg_movies\", conn)"
   ]
  },
  {
   "cell_type": "code",
   "execution_count": 65,
   "id": "4d6b8edb",
   "metadata": {},
   "outputs": [
    {
     "data": {
      "text/html": [
       "<div>\n",
       "<style scoped>\n",
       "    .dataframe tbody tr th:only-of-type {\n",
       "        vertical-align: middle;\n",
       "    }\n",
       "\n",
       "    .dataframe tbody tr th {\n",
       "        vertical-align: top;\n",
       "    }\n",
       "\n",
       "    .dataframe thead th {\n",
       "        text-align: right;\n",
       "    }\n",
       "</style>\n",
       "<table border=\"1\" class=\"dataframe\">\n",
       "  <thead>\n",
       "    <tr style=\"text-align: right;\">\n",
       "      <th></th>\n",
       "      <th>imdb_title_id</th>\n",
       "      <th>title</th>\n",
       "      <th>original_title</th>\n",
       "      <th>year</th>\n",
       "      <th>date_published</th>\n",
       "      <th>genre</th>\n",
       "      <th>duration</th>\n",
       "      <th>country</th>\n",
       "      <th>language</th>\n",
       "      <th>director</th>\n",
       "      <th>...</th>\n",
       "      <th>description</th>\n",
       "      <th>avg_vote</th>\n",
       "      <th>votes</th>\n",
       "      <th>budget</th>\n",
       "      <th>usa_gross_income</th>\n",
       "      <th>worlwide_gross_income</th>\n",
       "      <th>metascore</th>\n",
       "      <th>reviews_from_users</th>\n",
       "      <th>reviews_from_critics</th>\n",
       "      <th>created_date</th>\n",
       "    </tr>\n",
       "  </thead>\n",
       "  <tbody>\n",
       "    <tr>\n",
       "      <th>0</th>\n",
       "      <td>tt0000009</td>\n",
       "      <td>Miss Jerry</td>\n",
       "      <td>Miss Jerry</td>\n",
       "      <td>1894</td>\n",
       "      <td>1894-10-09</td>\n",
       "      <td>Romance</td>\n",
       "      <td>45</td>\n",
       "      <td>USA</td>\n",
       "      <td>None</td>\n",
       "      <td>Alexander Black</td>\n",
       "      <td>...</td>\n",
       "      <td>The adventures of a female reporter in the 1890s.</td>\n",
       "      <td>5.9</td>\n",
       "      <td>154</td>\n",
       "      <td>None</td>\n",
       "      <td>None</td>\n",
       "      <td>None</td>\n",
       "      <td>None</td>\n",
       "      <td>1.0</td>\n",
       "      <td>2.0</td>\n",
       "      <td>2022-01-10 23:07:10.042679</td>\n",
       "    </tr>\n",
       "    <tr>\n",
       "      <th>1</th>\n",
       "      <td>tt0000574</td>\n",
       "      <td>The Story of the Kelly Gang</td>\n",
       "      <td>The Story of the Kelly Gang</td>\n",
       "      <td>1906</td>\n",
       "      <td>1906-12-26</td>\n",
       "      <td>Biography, Crime, Drama</td>\n",
       "      <td>70</td>\n",
       "      <td>Australia</td>\n",
       "      <td>None</td>\n",
       "      <td>Charles Tait</td>\n",
       "      <td>...</td>\n",
       "      <td>True story of notorious Australian outlaw Ned ...</td>\n",
       "      <td>6.1</td>\n",
       "      <td>589</td>\n",
       "      <td>$ 2250</td>\n",
       "      <td>None</td>\n",
       "      <td>None</td>\n",
       "      <td>None</td>\n",
       "      <td>7.0</td>\n",
       "      <td>7.0</td>\n",
       "      <td>2022-01-10 23:07:10.042679</td>\n",
       "    </tr>\n",
       "    <tr>\n",
       "      <th>2</th>\n",
       "      <td>tt0001892</td>\n",
       "      <td>Den sorte drøm</td>\n",
       "      <td>Den sorte drøm</td>\n",
       "      <td>1911</td>\n",
       "      <td>1911-08-19</td>\n",
       "      <td>Drama</td>\n",
       "      <td>53</td>\n",
       "      <td>Germany, Denmark</td>\n",
       "      <td>None</td>\n",
       "      <td>Urban Gad</td>\n",
       "      <td>...</td>\n",
       "      <td>Two men of high rank are both wooing the beaut...</td>\n",
       "      <td>5.8</td>\n",
       "      <td>188</td>\n",
       "      <td>None</td>\n",
       "      <td>None</td>\n",
       "      <td>None</td>\n",
       "      <td>None</td>\n",
       "      <td>5.0</td>\n",
       "      <td>2.0</td>\n",
       "      <td>2022-01-10 23:07:10.042679</td>\n",
       "    </tr>\n",
       "    <tr>\n",
       "      <th>3</th>\n",
       "      <td>tt0002101</td>\n",
       "      <td>Cleopatra</td>\n",
       "      <td>Cleopatra</td>\n",
       "      <td>1912</td>\n",
       "      <td>1912-11-13</td>\n",
       "      <td>Drama, History</td>\n",
       "      <td>100</td>\n",
       "      <td>USA</td>\n",
       "      <td>English</td>\n",
       "      <td>Charles L. Gaskill</td>\n",
       "      <td>...</td>\n",
       "      <td>The fabled queen of Egypt's affair with Roman ...</td>\n",
       "      <td>5.2</td>\n",
       "      <td>446</td>\n",
       "      <td>$ 45000</td>\n",
       "      <td>None</td>\n",
       "      <td>None</td>\n",
       "      <td>None</td>\n",
       "      <td>25.0</td>\n",
       "      <td>3.0</td>\n",
       "      <td>2022-01-10 23:07:10.042679</td>\n",
       "    </tr>\n",
       "    <tr>\n",
       "      <th>4</th>\n",
       "      <td>tt0002130</td>\n",
       "      <td>L'Inferno</td>\n",
       "      <td>L'Inferno</td>\n",
       "      <td>1911</td>\n",
       "      <td>1911-03-06</td>\n",
       "      <td>Adventure, Drama, Fantasy</td>\n",
       "      <td>68</td>\n",
       "      <td>Italy</td>\n",
       "      <td>Italian</td>\n",
       "      <td>Francesco Bertolini, Adolfo Padovan</td>\n",
       "      <td>...</td>\n",
       "      <td>Loosely adapted from Dante's Divine Comedy and...</td>\n",
       "      <td>7.0</td>\n",
       "      <td>2237</td>\n",
       "      <td>None</td>\n",
       "      <td>None</td>\n",
       "      <td>None</td>\n",
       "      <td>None</td>\n",
       "      <td>31.0</td>\n",
       "      <td>14.0</td>\n",
       "      <td>2022-01-10 23:07:10.042679</td>\n",
       "    </tr>\n",
       "  </tbody>\n",
       "</table>\n",
       "<p>5 rows × 23 columns</p>\n",
       "</div>"
      ],
      "text/plain": [
       "  imdb_title_id                        title               original_title  \\\n",
       "0     tt0000009                   Miss Jerry                   Miss Jerry   \n",
       "1     tt0000574  The Story of the Kelly Gang  The Story of the Kelly Gang   \n",
       "2     tt0001892               Den sorte drøm               Den sorte drøm   \n",
       "3     tt0002101                    Cleopatra                    Cleopatra   \n",
       "4     tt0002130                    L'Inferno                    L'Inferno   \n",
       "\n",
       "   year date_published                      genre duration           country  \\\n",
       "0  1894     1894-10-09                    Romance       45               USA   \n",
       "1  1906     1906-12-26    Biography, Crime, Drama       70         Australia   \n",
       "2  1911     1911-08-19                      Drama       53  Germany, Denmark   \n",
       "3  1912     1912-11-13             Drama, History      100               USA   \n",
       "4  1911     1911-03-06  Adventure, Drama, Fantasy       68             Italy   \n",
       "\n",
       "  language                             director  ...  \\\n",
       "0     None                      Alexander Black  ...   \n",
       "1     None                         Charles Tait  ...   \n",
       "2     None                            Urban Gad  ...   \n",
       "3  English                   Charles L. Gaskill  ...   \n",
       "4  Italian  Francesco Bertolini, Adolfo Padovan  ...   \n",
       "\n",
       "                                         description avg_vote votes   budget  \\\n",
       "0  The adventures of a female reporter in the 1890s.      5.9   154     None   \n",
       "1  True story of notorious Australian outlaw Ned ...      6.1   589   $ 2250   \n",
       "2  Two men of high rank are both wooing the beaut...      5.8   188     None   \n",
       "3  The fabled queen of Egypt's affair with Roman ...      5.2   446  $ 45000   \n",
       "4  Loosely adapted from Dante's Divine Comedy and...      7.0  2237     None   \n",
       "\n",
       "  usa_gross_income worlwide_gross_income metascore reviews_from_users  \\\n",
       "0             None                  None      None                1.0   \n",
       "1             None                  None      None                7.0   \n",
       "2             None                  None      None                5.0   \n",
       "3             None                  None      None               25.0   \n",
       "4             None                  None      None               31.0   \n",
       "\n",
       "  reviews_from_critics               created_date  \n",
       "0                  2.0 2022-01-10 23:07:10.042679  \n",
       "1                  7.0 2022-01-10 23:07:10.042679  \n",
       "2                  2.0 2022-01-10 23:07:10.042679  \n",
       "3                  3.0 2022-01-10 23:07:10.042679  \n",
       "4                 14.0 2022-01-10 23:07:10.042679  \n",
       "\n",
       "[5 rows x 23 columns]"
      ]
     },
     "execution_count": 65,
     "metadata": {},
     "output_type": "execute_result"
    }
   ],
   "source": [
    "movies.head()"
   ]
  },
  {
   "cell_type": "markdown",
   "id": "bee6fdc0",
   "metadata": {},
   "source": [
    "Finding the percentage of null values in each field"
   ]
  },
  {
   "cell_type": "code",
   "execution_count": 66,
   "id": "6faf5287",
   "metadata": {},
   "outputs": [
    {
     "data": {
      "text/plain": [
       "metascore                84.502941\n",
       "usa_gross_income         82.148972\n",
       "budget                   72.383670\n",
       "worlwide_gross_income    63.873974\n",
       "reviews_from_critics     13.740609\n",
       "reviews_from_users        8.848640\n",
       "production_company        5.188981\n",
       "description               2.463456\n",
       "writer                    1.830994\n",
       "language                  0.970241\n",
       "director                  0.101334\n",
       "actors                    0.080368\n",
       "country                   0.074544\n",
       "dtype: float64"
      ]
     },
     "execution_count": 66,
     "metadata": {},
     "output_type": "execute_result"
    }
   ],
   "source": [
    "s = movies.isnull().sum() / len(movies) * 100\n",
    "s.where(s>0).dropna().sort_values(ascending=False)"
   ]
  },
  {
   "cell_type": "markdown",
   "id": "eb6c19e8",
   "metadata": {},
   "source": [
    "Finding duplicate values in movies dataframe"
   ]
  },
  {
   "cell_type": "code",
   "execution_count": 67,
   "id": "ebe4653a",
   "metadata": {},
   "outputs": [
    {
     "data": {
      "text/plain": [
       "0"
      ]
     },
     "execution_count": 67,
     "metadata": {},
     "output_type": "execute_result"
    }
   ],
   "source": [
    "movies.duplicated(subset=[\"imdb_title_id\"]).sum()"
   ]
  },
  {
   "cell_type": "code",
   "execution_count": 68,
   "id": "74fac0bf",
   "metadata": {},
   "outputs": [
    {
     "data": {
      "text/plain": [
       "imdb_title_id                    object\n",
       "title                            object\n",
       "original_title                   object\n",
       "year                             object\n",
       "date_published                   object\n",
       "genre                            object\n",
       "duration                         object\n",
       "country                          object\n",
       "language                         object\n",
       "director                         object\n",
       "writer                           object\n",
       "production_company               object\n",
       "actors                           object\n",
       "description                      object\n",
       "avg_vote                         object\n",
       "votes                            object\n",
       "budget                           object\n",
       "usa_gross_income                 object\n",
       "worlwide_gross_income            object\n",
       "metascore                        object\n",
       "reviews_from_users               object\n",
       "reviews_from_critics             object\n",
       "created_date             datetime64[ns]\n",
       "dtype: object"
      ]
     },
     "execution_count": 68,
     "metadata": {},
     "output_type": "execute_result"
    }
   ],
   "source": [
    "movies.dtypes"
   ]
  },
  {
   "cell_type": "code",
   "execution_count": 69,
   "id": "e72e6274",
   "metadata": {},
   "outputs": [
    {
     "data": {
      "text/html": [
       "<div>\n",
       "<style scoped>\n",
       "    .dataframe tbody tr th:only-of-type {\n",
       "        vertical-align: middle;\n",
       "    }\n",
       "\n",
       "    .dataframe tbody tr th {\n",
       "        vertical-align: top;\n",
       "    }\n",
       "\n",
       "    .dataframe thead th {\n",
       "        text-align: right;\n",
       "    }\n",
       "</style>\n",
       "<table border=\"1\" class=\"dataframe\">\n",
       "  <thead>\n",
       "    <tr style=\"text-align: right;\">\n",
       "      <th></th>\n",
       "      <th>avg_vote</th>\n",
       "      <th>votes</th>\n",
       "      <th>budget</th>\n",
       "      <th>usa_gross_income</th>\n",
       "      <th>worlwide_gross_income</th>\n",
       "      <th>metascore</th>\n",
       "    </tr>\n",
       "  </thead>\n",
       "  <tbody>\n",
       "    <tr>\n",
       "      <th>68698</th>\n",
       "      <td>6.5</td>\n",
       "      <td>301891</td>\n",
       "      <td>$ 44000000</td>\n",
       "      <td>$ 6105175</td>\n",
       "      <td>$ 11782625</td>\n",
       "      <td>52.0</td>\n",
       "    </tr>\n",
       "    <tr>\n",
       "      <th>42233</th>\n",
       "      <td>7.5</td>\n",
       "      <td>51433</td>\n",
       "      <td>$ 30000000</td>\n",
       "      <td>$ 42070939</td>\n",
       "      <td>$ 48260279</td>\n",
       "      <td>52.0</td>\n",
       "    </tr>\n",
       "    <tr>\n",
       "      <th>40718</th>\n",
       "      <td>6.6</td>\n",
       "      <td>128009</td>\n",
       "      <td>$ 46000000</td>\n",
       "      <td>$ 52802140</td>\n",
       "      <td>$ 101191884</td>\n",
       "      <td>56.0</td>\n",
       "    </tr>\n",
       "    <tr>\n",
       "      <th>20844</th>\n",
       "      <td>7.2</td>\n",
       "      <td>32192</td>\n",
       "      <td>$ 8000000</td>\n",
       "      <td>$ 56399659</td>\n",
       "      <td>$ 56399659</td>\n",
       "      <td>61.0</td>\n",
       "    </tr>\n",
       "    <tr>\n",
       "      <th>29417</th>\n",
       "      <td>5.4</td>\n",
       "      <td>29771</td>\n",
       "      <td>$ 25000000</td>\n",
       "      <td>$ 4064495</td>\n",
       "      <td>$ 4064495</td>\n",
       "      <td>46.0</td>\n",
       "    </tr>\n",
       "    <tr>\n",
       "      <th>35625</th>\n",
       "      <td>6.6</td>\n",
       "      <td>57265</td>\n",
       "      <td>$ 50000000</td>\n",
       "      <td>$ 44737059</td>\n",
       "      <td>$ 50054511</td>\n",
       "      <td>30.0</td>\n",
       "    </tr>\n",
       "    <tr>\n",
       "      <th>30485</th>\n",
       "      <td>8.1</td>\n",
       "      <td>713883</td>\n",
       "      <td>$ 15000000</td>\n",
       "      <td>$ 18034458</td>\n",
       "      <td>$ 46735469</td>\n",
       "      <td>71.0</td>\n",
       "    </tr>\n",
       "    <tr>\n",
       "      <th>48672</th>\n",
       "      <td>6.7</td>\n",
       "      <td>96790</td>\n",
       "      <td>$ 25000000</td>\n",
       "      <td>$ 47642963</td>\n",
       "      <td>$ 68474305</td>\n",
       "      <td>65.0</td>\n",
       "    </tr>\n",
       "    <tr>\n",
       "      <th>56377</th>\n",
       "      <td>6.8</td>\n",
       "      <td>159018</td>\n",
       "      <td>$ 145000000</td>\n",
       "      <td>$ 216391482</td>\n",
       "      <td>$ 746921274</td>\n",
       "      <td>60.0</td>\n",
       "    </tr>\n",
       "    <tr>\n",
       "      <th>62528</th>\n",
       "      <td>6.0</td>\n",
       "      <td>8605</td>\n",
       "      <td>$ 1300000</td>\n",
       "      <td>$ 4404</td>\n",
       "      <td>$ 4404</td>\n",
       "      <td>41.0</td>\n",
       "    </tr>\n",
       "  </tbody>\n",
       "</table>\n",
       "</div>"
      ],
      "text/plain": [
       "      avg_vote   votes       budget usa_gross_income worlwide_gross_income  \\\n",
       "68698      6.5  301891   $ 44000000        $ 6105175            $ 11782625   \n",
       "42233      7.5   51433   $ 30000000       $ 42070939            $ 48260279   \n",
       "40718      6.6  128009   $ 46000000       $ 52802140           $ 101191884   \n",
       "20844      7.2   32192    $ 8000000       $ 56399659            $ 56399659   \n",
       "29417      5.4   29771   $ 25000000        $ 4064495             $ 4064495   \n",
       "35625      6.6   57265   $ 50000000       $ 44737059            $ 50054511   \n",
       "30485      8.1  713883   $ 15000000       $ 18034458            $ 46735469   \n",
       "48672      6.7   96790   $ 25000000       $ 47642963            $ 68474305   \n",
       "56377      6.8  159018  $ 145000000      $ 216391482           $ 746921274   \n",
       "62528      6.0    8605    $ 1300000           $ 4404                $ 4404   \n",
       "\n",
       "      metascore  \n",
       "68698      52.0  \n",
       "42233      52.0  \n",
       "40718      56.0  \n",
       "20844      61.0  \n",
       "29417      46.0  \n",
       "35625      30.0  \n",
       "30485      71.0  \n",
       "48672      65.0  \n",
       "56377      60.0  \n",
       "62528      41.0  "
      ]
     },
     "execution_count": 69,
     "metadata": {},
     "output_type": "execute_result"
    }
   ],
   "source": [
    "movies[[\"avg_vote\", \"votes\", \"budget\", \"usa_gross_income\", \"worlwide_gross_income\", \"metascore\"]].dropna().sample(10)"
   ]
  },
  {
   "cell_type": "markdown",
   "id": "f450b67c",
   "metadata": {},
   "source": [
    "Finding out if there are any fields that has multiple value in each record. If there are we must remove it and create a separate record for each. "
   ]
  },
  {
   "cell_type": "code",
   "execution_count": 70,
   "id": "bed5272f",
   "metadata": {},
   "outputs": [
    {
     "name": "stdout",
     "output_type": "stream",
     "text": [
      "title\n",
      "original_title\n",
      "genre\n",
      "country\n",
      "language\n",
      "director\n",
      "writer\n",
      "production_company\n",
      "actors\n",
      "description\n"
     ]
    }
   ],
   "source": [
    "for col in movies:\n",
    "    if movies[col].astype(str).str.contains(',').any():\n",
    "        print(col)"
   ]
  },
  {
   "cell_type": "code",
   "execution_count": 71,
   "id": "360a5678",
   "metadata": {},
   "outputs": [
    {
     "data": {
      "text/plain": [
       "False"
      ]
     },
     "execution_count": 71,
     "metadata": {},
     "output_type": "execute_result"
    }
   ],
   "source": [
    "movies['imdb_title_id'].astype(str).str.contains(',', na=False).any()"
   ]
  },
  {
   "cell_type": "code",
   "execution_count": 72,
   "id": "6125bde1",
   "metadata": {},
   "outputs": [
    {
     "name": "stdout",
     "output_type": "stream",
     "text": [
      "23372\n"
     ]
    }
   ],
   "source": [
    "print(movies.loc[movies['title'] != movies['original_title']].shape[0])"
   ]
  },
  {
   "cell_type": "code",
   "execution_count": 73,
   "id": "e6827af6",
   "metadata": {},
   "outputs": [
    {
     "data": {
      "text/html": [
       "<div>\n",
       "<style scoped>\n",
       "    .dataframe tbody tr th:only-of-type {\n",
       "        vertical-align: middle;\n",
       "    }\n",
       "\n",
       "    .dataframe tbody tr th {\n",
       "        vertical-align: top;\n",
       "    }\n",
       "\n",
       "    .dataframe thead th {\n",
       "        text-align: right;\n",
       "    }\n",
       "</style>\n",
       "<table border=\"1\" class=\"dataframe\">\n",
       "  <thead>\n",
       "    <tr style=\"text-align: right;\">\n",
       "      <th></th>\n",
       "      <th>title</th>\n",
       "      <th>original_title</th>\n",
       "    </tr>\n",
       "  </thead>\n",
       "  <tbody>\n",
       "    <tr>\n",
       "      <th>12</th>\n",
       "      <td>Il calvario di una madre</td>\n",
       "      <td>Ingeborg Holm</td>\n",
       "    </tr>\n",
       "    <tr>\n",
       "      <th>18</th>\n",
       "      <td>Amore di madre</td>\n",
       "      <td>Home, Sweet Home</td>\n",
       "    </tr>\n",
       "    <tr>\n",
       "      <th>19</th>\n",
       "      <td>Lo studente di Praga</td>\n",
       "      <td>Der Student von Prag</td>\n",
       "    </tr>\n",
       "    <tr>\n",
       "      <th>39</th>\n",
       "      <td>La madonnina del porto</td>\n",
       "      <td>Tess of the Storm Country</td>\n",
       "    </tr>\n",
       "    <tr>\n",
       "      <th>48</th>\n",
       "      <td>Nascita di una nazione</td>\n",
       "      <td>The Birth of a Nation</td>\n",
       "    </tr>\n",
       "    <tr>\n",
       "      <th>...</th>\n",
       "      <td>...</td>\n",
       "      <td>...</td>\n",
       "    </tr>\n",
       "    <tr>\n",
       "      <th>85791</th>\n",
       "      <td>#IoSonoQui</td>\n",
       "      <td>#jesuislà</td>\n",
       "    </tr>\n",
       "    <tr>\n",
       "      <th>85806</th>\n",
       "      <td>Children of the Sea</td>\n",
       "      <td>Kaijû no kodomo</td>\n",
       "    </tr>\n",
       "    <tr>\n",
       "      <th>85808</th>\n",
       "      <td>Dreambuilders - La fabbrica dei sogni</td>\n",
       "      <td>Drømmebyggerne</td>\n",
       "    </tr>\n",
       "    <tr>\n",
       "      <th>85812</th>\n",
       "      <td>Falling Inn Love - Ristrutturazione con amore</td>\n",
       "      <td>Falling Inn Love</td>\n",
       "    </tr>\n",
       "    <tr>\n",
       "      <th>85843</th>\n",
       "      <td>Lupin III: La menzogna di Fujiko Mine</td>\n",
       "      <td>Lupin the IIIrd: Mine Fujiko no Uso</td>\n",
       "    </tr>\n",
       "  </tbody>\n",
       "</table>\n",
       "<p>23372 rows × 2 columns</p>\n",
       "</div>"
      ],
      "text/plain": [
       "                                               title  \\\n",
       "12                          Il calvario di una madre   \n",
       "18                                    Amore di madre   \n",
       "19                              Lo studente di Praga   \n",
       "39                            La madonnina del porto   \n",
       "48                            Nascita di una nazione   \n",
       "...                                              ...   \n",
       "85791                                     #IoSonoQui   \n",
       "85806                            Children of the Sea   \n",
       "85808          Dreambuilders - La fabbrica dei sogni   \n",
       "85812  Falling Inn Love - Ristrutturazione con amore   \n",
       "85843          Lupin III: La menzogna di Fujiko Mine   \n",
       "\n",
       "                            original_title  \n",
       "12                           Ingeborg Holm  \n",
       "18                        Home, Sweet Home  \n",
       "19                    Der Student von Prag  \n",
       "39               Tess of the Storm Country  \n",
       "48                   The Birth of a Nation  \n",
       "...                                    ...  \n",
       "85791                            #jesuislà  \n",
       "85806                      Kaijû no kodomo  \n",
       "85808                       Drømmebyggerne  \n",
       "85812                     Falling Inn Love  \n",
       "85843  Lupin the IIIrd: Mine Fujiko no Uso  \n",
       "\n",
       "[23372 rows x 2 columns]"
      ]
     },
     "execution_count": 73,
     "metadata": {},
     "output_type": "execute_result"
    }
   ],
   "source": [
    "movies[movies['title'] != movies['original_title']][['title', 'original_title']]"
   ]
  },
  {
   "cell_type": "markdown",
   "id": "7d3c83b5",
   "metadata": {},
   "source": [
    "There are records whose title does not match with the original_title field. This is due to the different language for the title. "
   ]
  },
  {
   "cell_type": "markdown",
   "id": "b224885f",
   "metadata": {},
   "source": [
    "Checking out if the date_published and the year data are same or not. Also, we will check if there are any null values. Additionally, we will check if the date_published field has all the dates in the right format. "
   ]
  },
  {
   "cell_type": "code",
   "execution_count": 74,
   "id": "582d7ee0",
   "metadata": {},
   "outputs": [
    {
     "data": {
      "text/plain": [
       "37362    1999\n",
       "26594    1992\n",
       "8965     1957\n",
       "45386    2004\n",
       "39908    1976\n",
       "12483    1966\n",
       "67411    2014\n",
       "35867    1959\n",
       "29426    1995\n",
       "64959    2012\n",
       "Name: date_published, dtype: object"
      ]
     },
     "execution_count": 74,
     "metadata": {},
     "output_type": "execute_result"
    }
   ],
   "source": [
    "movies[movies['date_published'].astype(str).str.len() != len(\"yyyy-mm-dd\")]['date_published'].sample(10)"
   ]
  },
  {
   "cell_type": "code",
   "execution_count": 75,
   "id": "a6f4ada8",
   "metadata": {},
   "outputs": [
    {
     "data": {
      "text/plain": [
       "0"
      ]
     },
     "execution_count": 75,
     "metadata": {},
     "output_type": "execute_result"
    }
   ],
   "source": [
    "movies['date_published'].isnull().sum()"
   ]
  },
  {
   "cell_type": "code",
   "execution_count": 76,
   "id": "c5f6ebb4",
   "metadata": {},
   "outputs": [
    {
     "data": {
      "text/plain": [
       "0       1894-10-09\n",
       "1       1906-12-26\n",
       "2       1911-08-19\n",
       "3       1912-11-13\n",
       "4       1911-03-06\n",
       "           ...    \n",
       "85850   2019-09-27\n",
       "85851   2020-01-29\n",
       "85852   2020-02-13\n",
       "85853   2019-03-08\n",
       "85854   2020-02-05\n",
       "Name: date_published, Length: 85855, dtype: datetime64[ns]"
      ]
     },
     "execution_count": 76,
     "metadata": {},
     "output_type": "execute_result"
    }
   ],
   "source": [
    "date_check = pd.to_datetime(movies['date_published'])\n",
    "date_check"
   ]
  },
  {
   "cell_type": "code",
   "execution_count": 77,
   "id": "0c2b6fe3",
   "metadata": {},
   "outputs": [
    {
     "data": {
      "text/html": [
       "<div>\n",
       "<style scoped>\n",
       "    .dataframe tbody tr th:only-of-type {\n",
       "        vertical-align: middle;\n",
       "    }\n",
       "\n",
       "    .dataframe tbody tr th {\n",
       "        vertical-align: top;\n",
       "    }\n",
       "\n",
       "    .dataframe thead th {\n",
       "        text-align: right;\n",
       "    }\n",
       "</style>\n",
       "<table border=\"1\" class=\"dataframe\">\n",
       "  <thead>\n",
       "    <tr style=\"text-align: right;\">\n",
       "      <th></th>\n",
       "      <th>year</th>\n",
       "      <th>date_published</th>\n",
       "    </tr>\n",
       "  </thead>\n",
       "  <tbody>\n",
       "    <tr>\n",
       "      <th>5</th>\n",
       "      <td>1912</td>\n",
       "      <td>1913</td>\n",
       "    </tr>\n",
       "    <tr>\n",
       "      <th>12</th>\n",
       "      <td>1913</td>\n",
       "      <td>1915-10-18</td>\n",
       "    </tr>\n",
       "    <tr>\n",
       "      <th>22</th>\n",
       "      <td>1915</td>\n",
       "      <td>1916-05-01</td>\n",
       "    </tr>\n",
       "    <tr>\n",
       "      <th>29</th>\n",
       "      <td>1914</td>\n",
       "      <td>1916-09-04</td>\n",
       "    </tr>\n",
       "    <tr>\n",
       "      <th>67</th>\n",
       "      <td>1915</td>\n",
       "      <td>1916-06-02</td>\n",
       "    </tr>\n",
       "    <tr>\n",
       "      <th>...</th>\n",
       "      <td>...</td>\n",
       "      <td>...</td>\n",
       "    </tr>\n",
       "    <tr>\n",
       "      <th>85803</th>\n",
       "      <td>2019</td>\n",
       "      <td>2020-02-12</td>\n",
       "    </tr>\n",
       "    <tr>\n",
       "      <th>85804</th>\n",
       "      <td>2019</td>\n",
       "      <td>2020-02-06</td>\n",
       "    </tr>\n",
       "    <tr>\n",
       "      <th>85807</th>\n",
       "      <td>2019</td>\n",
       "      <td>2020-10-22</td>\n",
       "    </tr>\n",
       "    <tr>\n",
       "      <th>85838</th>\n",
       "      <td>2019</td>\n",
       "      <td>2020-02-14</td>\n",
       "    </tr>\n",
       "    <tr>\n",
       "      <th>85854</th>\n",
       "      <td>2019</td>\n",
       "      <td>2020-02-05</td>\n",
       "    </tr>\n",
       "  </tbody>\n",
       "</table>\n",
       "<p>17818 rows × 2 columns</p>\n",
       "</div>"
      ],
      "text/plain": [
       "       year date_published\n",
       "5      1912           1913\n",
       "12     1913     1915-10-18\n",
       "22     1915     1916-05-01\n",
       "29     1914     1916-09-04\n",
       "67     1915     1916-06-02\n",
       "...     ...            ...\n",
       "85803  2019     2020-02-12\n",
       "85804  2019     2020-02-06\n",
       "85807  2019     2020-10-22\n",
       "85838  2019     2020-02-14\n",
       "85854  2019     2020-02-05\n",
       "\n",
       "[17818 rows x 2 columns]"
      ]
     },
     "execution_count": 77,
     "metadata": {},
     "output_type": "execute_result"
    }
   ],
   "source": [
    "movies[date_check.dt.year != movies['year'].astype(int)][['year', 'date_published']]"
   ]
  },
  {
   "cell_type": "markdown",
   "id": "024d87eb",
   "metadata": {},
   "source": [
    "Checking if the budget, usa_gross_income, worldwide_gross_income can be translated to integer data type."
   ]
  },
  {
   "cell_type": "code",
   "execution_count": 78,
   "id": "50038115",
   "metadata": {},
   "outputs": [
    {
     "data": {
      "text/html": [
       "<div>\n",
       "<style scoped>\n",
       "    .dataframe tbody tr th:only-of-type {\n",
       "        vertical-align: middle;\n",
       "    }\n",
       "\n",
       "    .dataframe tbody tr th {\n",
       "        vertical-align: top;\n",
       "    }\n",
       "\n",
       "    .dataframe thead th {\n",
       "        text-align: right;\n",
       "    }\n",
       "</style>\n",
       "<table border=\"1\" class=\"dataframe\">\n",
       "  <thead>\n",
       "    <tr style=\"text-align: right;\">\n",
       "      <th></th>\n",
       "      <th>budget</th>\n",
       "      <th>usa_gross_income</th>\n",
       "      <th>worlwide_gross_income</th>\n",
       "    </tr>\n",
       "  </thead>\n",
       "  <tbody>\n",
       "    <tr>\n",
       "      <th>26544</th>\n",
       "      <td>$ 31000000</td>\n",
       "      <td>$ 9493259</td>\n",
       "      <td>$ 9493259</td>\n",
       "    </tr>\n",
       "    <tr>\n",
       "      <th>39297</th>\n",
       "      <td>$ 30000000</td>\n",
       "      <td>$ 80936232</td>\n",
       "      <td>$ 102992536</td>\n",
       "    </tr>\n",
       "    <tr>\n",
       "      <th>49379</th>\n",
       "      <td>$ 21000000</td>\n",
       "      <td>$ 28563179</td>\n",
       "      <td>$ 55033767</td>\n",
       "    </tr>\n",
       "    <tr>\n",
       "      <th>58055</th>\n",
       "      <td>$ 40000000</td>\n",
       "      <td>$ 20157300</td>\n",
       "      <td>$ 24740061</td>\n",
       "    </tr>\n",
       "    <tr>\n",
       "      <th>79643</th>\n",
       "      <td>$ 4000000</td>\n",
       "      <td>$ 1014507</td>\n",
       "      <td>$ 33262366</td>\n",
       "    </tr>\n",
       "    <tr>\n",
       "      <th>57510</th>\n",
       "      <td>$ 60000000</td>\n",
       "      <td>$ 105095</td>\n",
       "      <td>$ 22187813</td>\n",
       "    </tr>\n",
       "    <tr>\n",
       "      <th>21232</th>\n",
       "      <td>$ 12000000</td>\n",
       "      <td>$ 14000000</td>\n",
       "      <td>$ 14000000</td>\n",
       "    </tr>\n",
       "    <tr>\n",
       "      <th>76748</th>\n",
       "      <td>EUR 11270000</td>\n",
       "      <td>$ 77987</td>\n",
       "      <td>$ 2842040</td>\n",
       "    </tr>\n",
       "    <tr>\n",
       "      <th>14057</th>\n",
       "      <td>$ 25000000</td>\n",
       "      <td>$ 400881</td>\n",
       "      <td>$ 400881</td>\n",
       "    </tr>\n",
       "    <tr>\n",
       "      <th>41164</th>\n",
       "      <td>$ 7000000</td>\n",
       "      <td>$ 196067</td>\n",
       "      <td>$ 282519</td>\n",
       "    </tr>\n",
       "  </tbody>\n",
       "</table>\n",
       "</div>"
      ],
      "text/plain": [
       "             budget usa_gross_income worlwide_gross_income\n",
       "26544    $ 31000000        $ 9493259             $ 9493259\n",
       "39297    $ 30000000       $ 80936232           $ 102992536\n",
       "49379    $ 21000000       $ 28563179            $ 55033767\n",
       "58055    $ 40000000       $ 20157300            $ 24740061\n",
       "79643     $ 4000000        $ 1014507            $ 33262366\n",
       "57510    $ 60000000         $ 105095            $ 22187813\n",
       "21232    $ 12000000       $ 14000000            $ 14000000\n",
       "76748  EUR 11270000          $ 77987             $ 2842040\n",
       "14057    $ 25000000         $ 400881              $ 400881\n",
       "41164     $ 7000000         $ 196067              $ 282519"
      ]
     },
     "execution_count": 78,
     "metadata": {},
     "output_type": "execute_result"
    }
   ],
   "source": [
    "movies[[\"budget\", \"usa_gross_income\", \"worlwide_gross_income\"]].dropna().sample(10)"
   ]
  },
  {
   "cell_type": "markdown",
   "id": "f660b631",
   "metadata": {},
   "source": [
    "Listing out differnt type of currency besides USD."
   ]
  },
  {
   "cell_type": "code",
   "execution_count": 79,
   "id": "831245db",
   "metadata": {},
   "outputs": [],
   "source": [
    "non_usd_currency = movies[~movies['budget'].astype(str).str.startswith('$')]['budget'].dropna()"
   ]
  },
  {
   "cell_type": "code",
   "execution_count": 80,
   "id": "0c621862",
   "metadata": {},
   "outputs": [],
   "source": [
    "list_of_curr = non_usd_currency.astype(str).str.slice(0,3).unique().tolist()"
   ]
  },
  {
   "cell_type": "code",
   "execution_count": 81,
   "id": "dc73594f",
   "metadata": {},
   "outputs": [
    {
     "data": {
      "text/plain": [
       "78"
      ]
     },
     "execution_count": 81,
     "metadata": {},
     "output_type": "execute_result"
    }
   ],
   "source": [
    "len(list_of_curr)"
   ]
  },
  {
   "cell_type": "code",
   "execution_count": 82,
   "id": "837da661",
   "metadata": {},
   "outputs": [],
   "source": [
    "non_usd_currency = movies[~movies['usa_gross_income'].astype(str).str.startswith('$')]['usa_gross_income'].dropna()\n",
    "list_of_curr.extend(non_usd_currency.astype(str).str.slice(0,3).unique().tolist())"
   ]
  },
  {
   "cell_type": "code",
   "execution_count": 83,
   "id": "792276eb",
   "metadata": {},
   "outputs": [
    {
     "data": {
      "text/plain": [
       "81"
      ]
     },
     "execution_count": 83,
     "metadata": {},
     "output_type": "execute_result"
    }
   ],
   "source": [
    "len(list_of_curr)"
   ]
  },
  {
   "cell_type": "code",
   "execution_count": 84,
   "id": "768c0291",
   "metadata": {},
   "outputs": [],
   "source": [
    "non_usd_currency = movies[~movies['worlwide_gross_income'].astype(str).str.startswith('$')]['worlwide_gross_income'].dropna()\n",
    "list_of_curr.extend(non_usd_currency.astype(str).str.slice(0,3).unique().tolist())"
   ]
  },
  {
   "cell_type": "code",
   "execution_count": 85,
   "id": "fbbeff23",
   "metadata": {},
   "outputs": [
    {
     "data": {
      "text/plain": [
       "85"
      ]
     },
     "execution_count": 85,
     "metadata": {},
     "output_type": "execute_result"
    }
   ],
   "source": [
    "len(list_of_curr)"
   ]
  },
  {
   "cell_type": "code",
   "execution_count": 86,
   "id": "0c1aaeb5",
   "metadata": {},
   "outputs": [
    {
     "name": "stdout",
     "output_type": "stream",
     "text": [
      "78\n"
     ]
    }
   ],
   "source": [
    "set_of_curr = set(list_of_curr)\n",
    "print(len(set_of_curr))"
   ]
  },
  {
   "cell_type": "code",
   "execution_count": 87,
   "id": "97510733",
   "metadata": {},
   "outputs": [
    {
     "data": {
      "text/html": [
       "<div>\n",
       "<style scoped>\n",
       "    .dataframe tbody tr th:only-of-type {\n",
       "        vertical-align: middle;\n",
       "    }\n",
       "\n",
       "    .dataframe tbody tr th {\n",
       "        vertical-align: top;\n",
       "    }\n",
       "\n",
       "    .dataframe thead th {\n",
       "        text-align: right;\n",
       "    }\n",
       "</style>\n",
       "<table border=\"1\" class=\"dataframe\">\n",
       "  <thead>\n",
       "    <tr style=\"text-align: right;\">\n",
       "      <th></th>\n",
       "      <th>imdb_name_id</th>\n",
       "      <th>name</th>\n",
       "      <th>birth_name</th>\n",
       "      <th>height</th>\n",
       "      <th>bio</th>\n",
       "      <th>birth_details</th>\n",
       "      <th>date_of_birth</th>\n",
       "      <th>place_of_birth</th>\n",
       "      <th>death_details</th>\n",
       "      <th>date_of_death</th>\n",
       "      <th>place_of_death</th>\n",
       "      <th>reason_of_death</th>\n",
       "      <th>spouses_string</th>\n",
       "      <th>spouses</th>\n",
       "      <th>divorces</th>\n",
       "      <th>spouses_with_children</th>\n",
       "      <th>children</th>\n",
       "      <th>created_date</th>\n",
       "    </tr>\n",
       "  </thead>\n",
       "  <tbody>\n",
       "    <tr>\n",
       "      <th>0</th>\n",
       "      <td>nm0000001</td>\n",
       "      <td>Fred Astaire</td>\n",
       "      <td>Frederic Austerlitz Jr.</td>\n",
       "      <td>177.0</td>\n",
       "      <td>Fred Astaire was born in Omaha, Nebraska, to J...</td>\n",
       "      <td>May 10, 1899 in Omaha, Nebraska, USA</td>\n",
       "      <td>1899-05-10</td>\n",
       "      <td>Omaha, Nebraska, USA</td>\n",
       "      <td>June 22, 1987 in Los Angeles, California, USA ...</td>\n",
       "      <td>1987-06-22</td>\n",
       "      <td>Los Angeles, California, USA</td>\n",
       "      <td>pneumonia</td>\n",
       "      <td>Robyn Smith  (27 June 1980 - 22 June 1987) (hi...</td>\n",
       "      <td>2</td>\n",
       "      <td>0</td>\n",
       "      <td>1</td>\n",
       "      <td>2</td>\n",
       "      <td>2022-01-10 23:01:20.370673</td>\n",
       "    </tr>\n",
       "    <tr>\n",
       "      <th>1</th>\n",
       "      <td>nm0000002</td>\n",
       "      <td>Lauren Bacall</td>\n",
       "      <td>Betty Joan Perske</td>\n",
       "      <td>174.0</td>\n",
       "      <td>Lauren Bacall was born Betty Joan Perske on Se...</td>\n",
       "      <td>September 16, 1924 in The Bronx, New York City...</td>\n",
       "      <td>1924-09-16</td>\n",
       "      <td>The Bronx, New York City, New York, USA</td>\n",
       "      <td>August 12, 2014 in New York City, New York, US...</td>\n",
       "      <td>2014-08-12</td>\n",
       "      <td>New York City, New York, USA</td>\n",
       "      <td>stroke</td>\n",
       "      <td>Jason Robards  (4 July 1961 - 10 September 196...</td>\n",
       "      <td>2</td>\n",
       "      <td>1</td>\n",
       "      <td>2</td>\n",
       "      <td>3</td>\n",
       "      <td>2022-01-10 23:01:20.370673</td>\n",
       "    </tr>\n",
       "    <tr>\n",
       "      <th>2</th>\n",
       "      <td>nm0000003</td>\n",
       "      <td>Brigitte Bardot</td>\n",
       "      <td>Brigitte Bardot</td>\n",
       "      <td>166.0</td>\n",
       "      <td>Brigitte Bardot was born on September 28, 1934...</td>\n",
       "      <td>September 28, 1934 in Paris, France</td>\n",
       "      <td>1934-09-28</td>\n",
       "      <td>Paris, France</td>\n",
       "      <td>None</td>\n",
       "      <td>None</td>\n",
       "      <td>None</td>\n",
       "      <td>None</td>\n",
       "      <td>Bernard d'Ormale  (16 August 1992 - present)\\n...</td>\n",
       "      <td>4</td>\n",
       "      <td>3</td>\n",
       "      <td>1</td>\n",
       "      <td>1</td>\n",
       "      <td>2022-01-10 23:01:20.370673</td>\n",
       "    </tr>\n",
       "    <tr>\n",
       "      <th>3</th>\n",
       "      <td>nm0000004</td>\n",
       "      <td>John Belushi</td>\n",
       "      <td>John Adam Belushi</td>\n",
       "      <td>170.0</td>\n",
       "      <td>John Belushi was born in Chicago, Illinois, US...</td>\n",
       "      <td>January 24, 1949 in Chicago, Illinois, USA</td>\n",
       "      <td>1949-01-24</td>\n",
       "      <td>Chicago, Illinois, USA</td>\n",
       "      <td>March 5, 1982 in Hollywood, Los Angeles, Calif...</td>\n",
       "      <td>1982-03-05</td>\n",
       "      <td>Hollywood, Los Angeles, California, USA</td>\n",
       "      <td>acute cocaine and heroin intoxication</td>\n",
       "      <td>Judith Belushi-Pisano  (31 December 1976 - 5 M...</td>\n",
       "      <td>1</td>\n",
       "      <td>0</td>\n",
       "      <td>0</td>\n",
       "      <td>0</td>\n",
       "      <td>2022-01-10 23:01:20.370673</td>\n",
       "    </tr>\n",
       "    <tr>\n",
       "      <th>4</th>\n",
       "      <td>nm0000005</td>\n",
       "      <td>Ingmar Bergman</td>\n",
       "      <td>Ernst Ingmar Bergman</td>\n",
       "      <td>179.0</td>\n",
       "      <td>Ernst Ingmar Bergman was born July 14, 1918, t...</td>\n",
       "      <td>July 14, 1918 in Uppsala, Uppsala län, Sweden</td>\n",
       "      <td>1918-07-14</td>\n",
       "      <td>Uppsala, Uppsala län, Sweden</td>\n",
       "      <td>July 30, 2007 in Fårö, Gotlands län, Sweden  (...</td>\n",
       "      <td>2007-07-30</td>\n",
       "      <td>Fårö, Gotlands län, Sweden</td>\n",
       "      <td>natural causes</td>\n",
       "      <td>Ingrid Bergman  (11 November 1971 - 20 May 199...</td>\n",
       "      <td>5</td>\n",
       "      <td>4</td>\n",
       "      <td>5</td>\n",
       "      <td>8</td>\n",
       "      <td>2022-01-10 23:01:20.370673</td>\n",
       "    </tr>\n",
       "  </tbody>\n",
       "</table>\n",
       "</div>"
      ],
      "text/plain": [
       "  imdb_name_id             name               birth_name height  \\\n",
       "0    nm0000001     Fred Astaire  Frederic Austerlitz Jr.  177.0   \n",
       "1    nm0000002    Lauren Bacall        Betty Joan Perske  174.0   \n",
       "2    nm0000003  Brigitte Bardot          Brigitte Bardot  166.0   \n",
       "3    nm0000004     John Belushi        John Adam Belushi  170.0   \n",
       "4    nm0000005   Ingmar Bergman     Ernst Ingmar Bergman  179.0   \n",
       "\n",
       "                                                 bio  \\\n",
       "0  Fred Astaire was born in Omaha, Nebraska, to J...   \n",
       "1  Lauren Bacall was born Betty Joan Perske on Se...   \n",
       "2  Brigitte Bardot was born on September 28, 1934...   \n",
       "3  John Belushi was born in Chicago, Illinois, US...   \n",
       "4  Ernst Ingmar Bergman was born July 14, 1918, t...   \n",
       "\n",
       "                                       birth_details date_of_birth  \\\n",
       "0               May 10, 1899 in Omaha, Nebraska, USA    1899-05-10   \n",
       "1  September 16, 1924 in The Bronx, New York City...    1924-09-16   \n",
       "2                September 28, 1934 in Paris, France    1934-09-28   \n",
       "3         January 24, 1949 in Chicago, Illinois, USA    1949-01-24   \n",
       "4      July 14, 1918 in Uppsala, Uppsala län, Sweden    1918-07-14   \n",
       "\n",
       "                            place_of_birth  \\\n",
       "0                     Omaha, Nebraska, USA   \n",
       "1  The Bronx, New York City, New York, USA   \n",
       "2                            Paris, France   \n",
       "3                   Chicago, Illinois, USA   \n",
       "4             Uppsala, Uppsala län, Sweden   \n",
       "\n",
       "                                       death_details date_of_death  \\\n",
       "0  June 22, 1987 in Los Angeles, California, USA ...    1987-06-22   \n",
       "1  August 12, 2014 in New York City, New York, US...    2014-08-12   \n",
       "2                                               None          None   \n",
       "3  March 5, 1982 in Hollywood, Los Angeles, Calif...    1982-03-05   \n",
       "4  July 30, 2007 in Fårö, Gotlands län, Sweden  (...    2007-07-30   \n",
       "\n",
       "                              place_of_death  \\\n",
       "0             Los Angeles, California, USA     \n",
       "1             New York City, New York, USA     \n",
       "2                                       None   \n",
       "3  Hollywood, Los Angeles, California, USA     \n",
       "4               Fårö, Gotlands län, Sweden     \n",
       "\n",
       "                         reason_of_death  \\\n",
       "0                              pneumonia   \n",
       "1                                 stroke   \n",
       "2                                   None   \n",
       "3  acute cocaine and heroin intoxication   \n",
       "4                         natural causes   \n",
       "\n",
       "                                      spouses_string spouses divorces  \\\n",
       "0  Robyn Smith  (27 June 1980 - 22 June 1987) (hi...       2        0   \n",
       "1  Jason Robards  (4 July 1961 - 10 September 196...       2        1   \n",
       "2  Bernard d'Ormale  (16 August 1992 - present)\\n...       4        3   \n",
       "3  Judith Belushi-Pisano  (31 December 1976 - 5 M...       1        0   \n",
       "4  Ingrid Bergman  (11 November 1971 - 20 May 199...       5        4   \n",
       "\n",
       "  spouses_with_children children               created_date  \n",
       "0                     1        2 2022-01-10 23:01:20.370673  \n",
       "1                     2        3 2022-01-10 23:01:20.370673  \n",
       "2                     1        1 2022-01-10 23:01:20.370673  \n",
       "3                     0        0 2022-01-10 23:01:20.370673  \n",
       "4                     5        8 2022-01-10 23:01:20.370673  "
      ]
     },
     "execution_count": 87,
     "metadata": {},
     "output_type": "execute_result"
    }
   ],
   "source": [
    "names.head()"
   ]
  },
  {
   "cell_type": "markdown",
   "id": "381286ec",
   "metadata": {},
   "source": [
    "Checking for null values in names dataframe. "
   ]
  },
  {
   "cell_type": "code",
   "execution_count": 88,
   "id": "da85b741",
   "metadata": {},
   "outputs": [
    {
     "data": {
      "text/plain": [
       "reason_of_death    92.377018\n",
       "place_of_death     87.558825\n",
       "death_details      86.586386\n",
       "date_of_death      86.586386\n",
       "height             84.991518\n",
       "spouses_string     84.766128\n",
       "place_of_birth     65.068776\n",
       "birth_details      62.845098\n",
       "date_of_birth      62.845098\n",
       "bio                31.241330\n",
       "dtype: float64"
      ]
     },
     "execution_count": 88,
     "metadata": {},
     "output_type": "execute_result"
    }
   ],
   "source": [
    "null_names_pct = names.isnull().sum() / len(names) * 100\n",
    "null_names_pct.where(null_names_pct > 0).dropna().sort_values(ascending=False)"
   ]
  },
  {
   "cell_type": "code",
   "execution_count": 89,
   "id": "8f0e143d",
   "metadata": {},
   "outputs": [
    {
     "data": {
      "text/plain": [
       "imdb_name_id                     object\n",
       "name                             object\n",
       "birth_name                       object\n",
       "height                           object\n",
       "bio                              object\n",
       "birth_details                    object\n",
       "date_of_birth                    object\n",
       "place_of_birth                   object\n",
       "death_details                    object\n",
       "date_of_death                    object\n",
       "place_of_death                   object\n",
       "reason_of_death                  object\n",
       "spouses_string                   object\n",
       "spouses                          object\n",
       "divorces                         object\n",
       "spouses_with_children            object\n",
       "children                         object\n",
       "created_date             datetime64[ns]\n",
       "dtype: object"
      ]
     },
     "execution_count": 89,
     "metadata": {},
     "output_type": "execute_result"
    }
   ],
   "source": [
    "names.dtypes"
   ]
  },
  {
   "cell_type": "markdown",
   "id": "ddd382d1",
   "metadata": {},
   "source": [
    "Finding if there are any duplicated values present. "
   ]
  },
  {
   "cell_type": "code",
   "execution_count": 90,
   "id": "036cbecc",
   "metadata": {},
   "outputs": [
    {
     "name": "stdout",
     "output_type": "stream",
     "text": [
      "False\n"
     ]
    }
   ],
   "source": [
    "print(names.duplicated(subset=['imdb_name_id']).any())"
   ]
  },
  {
   "cell_type": "markdown",
   "id": "de7ee00a",
   "metadata": {},
   "source": [
    "Finding fields that has multiple values stored. "
   ]
  },
  {
   "cell_type": "code",
   "execution_count": 91,
   "id": "d2231a49",
   "metadata": {},
   "outputs": [
    {
     "name": "stdout",
     "output_type": "stream",
     "text": [
      "name\n",
      "birth_name\n",
      "bio\n",
      "birth_details\n",
      "date_of_birth\n",
      "place_of_birth\n",
      "death_details\n",
      "date_of_death\n",
      "place_of_death\n",
      "reason_of_death\n",
      "spouses_string\n"
     ]
    }
   ],
   "source": [
    "for col in names: \n",
    "    if names[col].astype(str).str.contains(',').any():\n",
    "        print(col)"
   ]
  },
  {
   "cell_type": "code",
   "execution_count": 92,
   "id": "73c88a56",
   "metadata": {},
   "outputs": [
    {
     "data": {
      "text/html": [
       "<div>\n",
       "<style scoped>\n",
       "    .dataframe tbody tr th:only-of-type {\n",
       "        vertical-align: middle;\n",
       "    }\n",
       "\n",
       "    .dataframe tbody tr th {\n",
       "        vertical-align: top;\n",
       "    }\n",
       "\n",
       "    .dataframe thead th {\n",
       "        text-align: right;\n",
       "    }\n",
       "</style>\n",
       "<table border=\"1\" class=\"dataframe\">\n",
       "  <thead>\n",
       "    <tr style=\"text-align: right;\">\n",
       "      <th></th>\n",
       "      <th>place_of_birth</th>\n",
       "      <th>date_of_birth</th>\n",
       "      <th>place_of_death</th>\n",
       "      <th>date_of_death</th>\n",
       "    </tr>\n",
       "  </thead>\n",
       "  <tbody>\n",
       "    <tr>\n",
       "      <th>42464</th>\n",
       "      <td>Madrid, Spain</td>\n",
       "      <td>1885 in Madrid, Spain</td>\n",
       "      <td>Los Angeles, California, USA</td>\n",
       "      <td>1929-02-08</td>\n",
       "    </tr>\n",
       "    <tr>\n",
       "      <th>219053</th>\n",
       "      <td>Broome, Western Australia, Australia</td>\n",
       "      <td>1948 in Broome, Western Australia, Australia</td>\n",
       "      <td>Broome, Western Australia, Australia</td>\n",
       "      <td>2017-06-26</td>\n",
       "    </tr>\n",
       "    <tr>\n",
       "      <th>128615</th>\n",
       "      <td>Salamina, Greece</td>\n",
       "      <td>1921 in Salamina, Greece</td>\n",
       "      <td>Athens, Greece</td>\n",
       "      <td>2002-01-11</td>\n",
       "    </tr>\n",
       "    <tr>\n",
       "      <th>105980</th>\n",
       "      <td>Almería, Spain</td>\n",
       "      <td>1919 in Almería, Spain</td>\n",
       "      <td>Madrid, Spain</td>\n",
       "      <td>1993-04-24</td>\n",
       "    </tr>\n",
       "    <tr>\n",
       "      <th>99553</th>\n",
       "      <td>Fortaleza, Ceará, Brazil</td>\n",
       "      <td>1934 in Fortaleza, Ceará, Brazil</td>\n",
       "      <td>Rio de Janeiro, Rio de Janeiro, Brazil</td>\n",
       "      <td>2011-01-31</td>\n",
       "    </tr>\n",
       "    <tr>\n",
       "      <th>158477</th>\n",
       "      <td>São José do Rio Preto, São Paulo, Brazil</td>\n",
       "      <td>1966 in São José do Rio Preto, São Paulo, Brazil</td>\n",
       "      <td>São Paulo, São Paulo, Brazil</td>\n",
       "      <td>2010-05-18</td>\n",
       "    </tr>\n",
       "    <tr>\n",
       "      <th>13153</th>\n",
       "      <td>England, UK</td>\n",
       "      <td>1862 in England, UK</td>\n",
       "      <td>Kyoto, Japan</td>\n",
       "      <td>1931-01-03</td>\n",
       "    </tr>\n",
       "    <tr>\n",
       "      <th>25033</th>\n",
       "      <td>Morelia, Michoacan, Mexico</td>\n",
       "      <td>1900 in Morelia, Michoacan, Mexico</td>\n",
       "      <td>Mexico, D.F., Mexico</td>\n",
       "      <td>1978 in Mexico, D.F., Mexico</td>\n",
       "    </tr>\n",
       "    <tr>\n",
       "      <th>17428</th>\n",
       "      <td>Cincinnati, Ohio, USA</td>\n",
       "      <td>1906 in Cincinnati, Ohio, USA</td>\n",
       "      <td>New York City, New York, USA</td>\n",
       "      <td>1954-09-24</td>\n",
       "    </tr>\n",
       "    <tr>\n",
       "      <th>125734</th>\n",
       "      <td>Boston, Massachusetts, USA</td>\n",
       "      <td>1944 in Boston, Massachusetts, USA</td>\n",
       "      <td>Woodland Hills, California, USA</td>\n",
       "      <td>2014-12-11</td>\n",
       "    </tr>\n",
       "    <tr>\n",
       "      <th>116408</th>\n",
       "      <td>Athens, Greece</td>\n",
       "      <td>1927 in Athens, Greece</td>\n",
       "      <td>Athens, Greece</td>\n",
       "      <td>2009-05-25</td>\n",
       "    </tr>\n",
       "    <tr>\n",
       "      <th>138932</th>\n",
       "      <td>Shanghai, China</td>\n",
       "      <td>1901 in Shanghai, China</td>\n",
       "      <td>Hong Kong</td>\n",
       "      <td>1999-07-03</td>\n",
       "    </tr>\n",
       "    <tr>\n",
       "      <th>139116</th>\n",
       "      <td>Larissa, Greece</td>\n",
       "      <td>1916 in Larissa, Greece</td>\n",
       "      <td>Athens, Greece</td>\n",
       "      <td>2004-09-02</td>\n",
       "    </tr>\n",
       "    <tr>\n",
       "      <th>30985</th>\n",
       "      <td>Barcelona, Barcelona, Catalonia, Spain</td>\n",
       "      <td>1946 in Barcelona, Barcelona, Catalonia, Spain</td>\n",
       "      <td>Barcelona, Barcelona, Catalonia, Spain</td>\n",
       "      <td>1987-12-25</td>\n",
       "    </tr>\n",
       "    <tr>\n",
       "      <th>9476</th>\n",
       "      <td>Alicante, Spain</td>\n",
       "      <td>1902 in Alicante, Spain</td>\n",
       "      <td>Mexico City, Distrito Federal, Mexico</td>\n",
       "      <td>1965-11-03</td>\n",
       "    </tr>\n",
       "    <tr>\n",
       "      <th>27090</th>\n",
       "      <td>Narayanganj, Eastern Bengal and Assam, British...</td>\n",
       "      <td>1907 in Narayanganj, Eastern Bengal and Assam,...</td>\n",
       "      <td>India</td>\n",
       "      <td>1975-05-27</td>\n",
       "    </tr>\n",
       "    <tr>\n",
       "      <th>145945</th>\n",
       "      <td>Kerala, India</td>\n",
       "      <td>1972 in Kerala, India</td>\n",
       "      <td>Kochi, Kerala, India</td>\n",
       "      <td>2017-03-13</td>\n",
       "    </tr>\n",
       "    <tr>\n",
       "      <th>116003</th>\n",
       "      <td>Rize, Turkey</td>\n",
       "      <td>1927 in Rize, Turkey</td>\n",
       "      <td>Istanbul, Turkey</td>\n",
       "      <td>2005-01-31</td>\n",
       "    </tr>\n",
       "    <tr>\n",
       "      <th>100906</th>\n",
       "      <td>Cadiz, Spain</td>\n",
       "      <td>c. 1896 in Cadiz, Spain</td>\n",
       "      <td>Cadiz, Spain</td>\n",
       "      <td>1981-07-19</td>\n",
       "    </tr>\n",
       "    <tr>\n",
       "      <th>177140</th>\n",
       "      <td>Tehran, Iran</td>\n",
       "      <td>1932 in Tehran, Iran</td>\n",
       "      <td>Tehran, Iran</td>\n",
       "      <td>2012-11-22</td>\n",
       "    </tr>\n",
       "  </tbody>\n",
       "</table>\n",
       "</div>"
      ],
      "text/plain": [
       "                                           place_of_birth  \\\n",
       "42464                                       Madrid, Spain   \n",
       "219053               Broome, Western Australia, Australia   \n",
       "128615                                   Salamina, Greece   \n",
       "105980                                     Almería, Spain   \n",
       "99553                            Fortaleza, Ceará, Brazil   \n",
       "158477           São José do Rio Preto, São Paulo, Brazil   \n",
       "13153                                         England, UK   \n",
       "25033                          Morelia, Michoacan, Mexico   \n",
       "17428                               Cincinnati, Ohio, USA   \n",
       "125734                         Boston, Massachusetts, USA   \n",
       "116408                                     Athens, Greece   \n",
       "138932                                    Shanghai, China   \n",
       "139116                                    Larissa, Greece   \n",
       "30985              Barcelona, Barcelona, Catalonia, Spain   \n",
       "9476                                      Alicante, Spain   \n",
       "27090   Narayanganj, Eastern Bengal and Assam, British...   \n",
       "145945                                      Kerala, India   \n",
       "116003                                       Rize, Turkey   \n",
       "100906                                       Cadiz, Spain   \n",
       "177140                                       Tehran, Iran   \n",
       "\n",
       "                                            date_of_birth  \\\n",
       "42464                               1885 in Madrid, Spain   \n",
       "219053       1948 in Broome, Western Australia, Australia   \n",
       "128615                           1921 in Salamina, Greece   \n",
       "105980                             1919 in Almería, Spain   \n",
       "99553                    1934 in Fortaleza, Ceará, Brazil   \n",
       "158477   1966 in São José do Rio Preto, São Paulo, Brazil   \n",
       "13153                                 1862 in England, UK   \n",
       "25033                  1900 in Morelia, Michoacan, Mexico   \n",
       "17428                       1906 in Cincinnati, Ohio, USA   \n",
       "125734                 1944 in Boston, Massachusetts, USA   \n",
       "116408                             1927 in Athens, Greece   \n",
       "138932                            1901 in Shanghai, China   \n",
       "139116                            1916 in Larissa, Greece   \n",
       "30985      1946 in Barcelona, Barcelona, Catalonia, Spain   \n",
       "9476                              1902 in Alicante, Spain   \n",
       "27090   1907 in Narayanganj, Eastern Bengal and Assam,...   \n",
       "145945                              1972 in Kerala, India   \n",
       "116003                               1927 in Rize, Turkey   \n",
       "100906                            c. 1896 in Cadiz, Spain   \n",
       "177140                               1932 in Tehran, Iran   \n",
       "\n",
       "                                  place_of_death                 date_of_death  \n",
       "42464               Los Angeles, California, USA                    1929-02-08  \n",
       "219053      Broome, Western Australia, Australia                    2017-06-26  \n",
       "128615                            Athens, Greece                    2002-01-11  \n",
       "105980                             Madrid, Spain                    1993-04-24  \n",
       "99553   Rio de Janeiro, Rio de Janeiro, Brazil                      2011-01-31  \n",
       "158477            São Paulo, São Paulo, Brazil                      2010-05-18  \n",
       "13153                               Kyoto, Japan                    1931-01-03  \n",
       "25033                       Mexico, D.F., Mexico  1978 in Mexico, D.F., Mexico  \n",
       "17428               New York City, New York, USA                    1954-09-24  \n",
       "125734         Woodland Hills, California, USA                      2014-12-11  \n",
       "116408                            Athens, Greece                    2009-05-25  \n",
       "138932                                 Hong Kong                    1999-07-03  \n",
       "139116                            Athens, Greece                    2004-09-02  \n",
       "30985   Barcelona, Barcelona, Catalonia, Spain                      1987-12-25  \n",
       "9476     Mexico City, Distrito Federal, Mexico                      1965-11-03  \n",
       "27090                                      India                    1975-05-27  \n",
       "145945                    Kochi, Kerala, India                      2017-03-13  \n",
       "116003                        Istanbul, Turkey                      2005-01-31  \n",
       "100906                              Cadiz, Spain                    1981-07-19  \n",
       "177140                            Tehran, Iran                      2012-11-22  "
      ]
     },
     "execution_count": 92,
     "metadata": {},
     "output_type": "execute_result"
    }
   ],
   "source": [
    "names[names['date_of_birth'].astype(str).str.contains(',')][['place_of_birth','date_of_birth','place_of_death','date_of_death']].dropna().sample(20)"
   ]
  },
  {
   "cell_type": "markdown",
   "id": "09681532",
   "metadata": {},
   "source": [
    "Found that the date of birth and date of death has a ',' in the value. This shows that these fields need to be transfromed. "
   ]
  },
  {
   "cell_type": "code",
   "execution_count": 93,
   "id": "60f40929",
   "metadata": {},
   "outputs": [],
   "source": [
    "names_from_comma = set()\n",
    "for idx, val in movies[~movies['director'].str.title()\n",
    "                      .isin([x.title().strip() for x in names['name'].to_list()])]['director'].str.split(',').items():\n",
    "    try:\n",
    "        names_list = [str.title().strip() for str in val]\n",
    "        names_from_comma.update(names_list)\n",
    "    except:\n",
    "        pass"
   ]
  },
  {
   "cell_type": "markdown",
   "id": "84049ce0",
   "metadata": {},
   "source": [
    "Finding out list of names that are not present in names dataframe but are present in movies dataframe under actors, director and writer field."
   ]
  },
  {
   "cell_type": "code",
   "execution_count": 94,
   "id": "149162bc",
   "metadata": {},
   "outputs": [],
   "source": [
    "names_diff_dir = names_from_comma - set([s.title().strip() for s in names['name']])"
   ]
  },
  {
   "cell_type": "code",
   "execution_count": 95,
   "id": "8cb0e654",
   "metadata": {},
   "outputs": [
    {
     "name": "stdout",
     "output_type": "stream",
     "text": [
      "{'Ewelina Lukaszewska'}\n"
     ]
    }
   ],
   "source": [
    "print(names_diff_dir)"
   ]
  },
  {
   "cell_type": "code",
   "execution_count": 96,
   "id": "f08b81c2",
   "metadata": {},
   "outputs": [
    {
     "data": {
      "text/plain": [
       "2        Urban Gad, Gebhard Schätzler-Perasini\n",
       "6                    Norbert Falk, Hanns Kräly\n",
       "7          Henryk Sienkiewicz, Enrico Guazzoni\n",
       "8             Aristide Demetriade, Petre Liciu\n",
       "9             James Keane, William Shakespeare\n",
       "                         ...                  \n",
       "85847               Michael Wright, Tom George\n",
       "85851    Alexandre Coquelle, Matthieu Le Naour\n",
       "85852             Radek Bajgar, Herman Finkers\n",
       "85853         Vineesh Aaradya, Vineesh Aaradya\n",
       "85854                     Coral Cruz, Pep Puig\n",
       "Name: writer, Length: 55242, dtype: object"
      ]
     },
     "execution_count": 96,
     "metadata": {},
     "output_type": "execute_result"
    }
   ],
   "source": [
    "name_list = names['name'].to_list()\n",
    "writer_names = movies[~movies['writer'].str.title().isin([x.title().strip() for x in name_list])]['writer'].dropna()\n",
    "writer_names"
   ]
  },
  {
   "cell_type": "code",
   "execution_count": 97,
   "id": "224aa93e",
   "metadata": {},
   "outputs": [
    {
     "name": "stdout",
     "output_type": "stream",
     "text": [
      "51482\n"
     ]
    }
   ],
   "source": [
    "writer_name_set = set()\n",
    "for idx, writer in writer_names.str.split(',').items():\n",
    "    names_list = [x.title().strip() for x in writer]\n",
    "    writer_name_set.update(names_list)\n",
    "    \n",
    "print(len(writer_name_set))"
   ]
  },
  {
   "cell_type": "code",
   "execution_count": 98,
   "id": "a0b40feb",
   "metadata": {},
   "outputs": [],
   "source": [
    "# writer_name_set = set()\n",
    "# for writer in writer_names:\n",
    "#     names_list = [x.title().strip() for x in writer.split(',')]\n",
    "#     writer_name_set.update(names_list)\n",
    "    \n",
    "# print(writer_name_set)"
   ]
  },
  {
   "cell_type": "code",
   "execution_count": 99,
   "id": "8a1eb856",
   "metadata": {},
   "outputs": [],
   "source": [
    "name_diff_wir = writer_name_set - set([x.title().strip() for x in name_list])"
   ]
  },
  {
   "cell_type": "code",
   "execution_count": 100,
   "id": "4fd373a3",
   "metadata": {},
   "outputs": [
    {
     "data": {
      "text/plain": [
       "87"
      ]
     },
     "execution_count": 100,
     "metadata": {},
     "output_type": "execute_result"
    }
   ],
   "source": [
    "name_diff = set() \n",
    "name_diff.update(names_diff_dir)\n",
    "name_diff.update(name_diff_wir)\n",
    "len(name_diff)"
   ]
  },
  {
   "cell_type": "code",
   "execution_count": 101,
   "id": "ff90b48b",
   "metadata": {},
   "outputs": [
    {
     "data": {
      "text/plain": [
       "list"
      ]
     },
     "execution_count": 101,
     "metadata": {},
     "output_type": "execute_result"
    }
   ],
   "source": [
    "actor_names = movies[~movies['actors'].str.title().isin([x.title().strip() for x in name_list])]['actors'].dropna().str.strip().to_list()\n",
    "type(actor_names)"
   ]
  },
  {
   "cell_type": "code",
   "execution_count": 102,
   "id": "340bcce4",
   "metadata": {},
   "outputs": [
    {
     "data": {
      "text/plain": [
       "417223"
      ]
     },
     "execution_count": 102,
     "metadata": {},
     "output_type": "execute_result"
    }
   ],
   "source": [
    "actor_names_comma = set()\n",
    "for actor in actor_names:\n",
    "    actor_list = [x.title().strip() for x in actor.split(',')]\n",
    "    actor_names_comma.update(actor_list)\n",
    "    \n",
    "len(actor_names_comma)"
   ]
  },
  {
   "cell_type": "code",
   "execution_count": 103,
   "id": "b23b224c",
   "metadata": {},
   "outputs": [
    {
     "name": "stdout",
     "output_type": "stream",
     "text": [
      "270445\n",
      "270520\n"
     ]
    }
   ],
   "source": [
    "name_diff_act = actor_names_comma - set([x.title().strip() for x in name_list])\n",
    "print(len(name_diff_act))\n",
    "name_diff.update(name_diff_act)\n",
    "print(len(name_diff))"
   ]
  },
  {
   "cell_type": "code",
   "execution_count": 104,
   "id": "f1fa4063",
   "metadata": {},
   "outputs": [],
   "source": [
    "ratings = pd.read_sql(\"stg_ratings\", conn)"
   ]
  },
  {
   "cell_type": "code",
   "execution_count": 105,
   "id": "837232e1",
   "metadata": {},
   "outputs": [
    {
     "data": {
      "text/html": [
       "<div>\n",
       "<style scoped>\n",
       "    .dataframe tbody tr th:only-of-type {\n",
       "        vertical-align: middle;\n",
       "    }\n",
       "\n",
       "    .dataframe tbody tr th {\n",
       "        vertical-align: top;\n",
       "    }\n",
       "\n",
       "    .dataframe thead th {\n",
       "        text-align: right;\n",
       "    }\n",
       "</style>\n",
       "<table border=\"1\" class=\"dataframe\">\n",
       "  <thead>\n",
       "    <tr style=\"text-align: right;\">\n",
       "      <th></th>\n",
       "      <th>imdb_title_id</th>\n",
       "      <th>weighted_average_vote</th>\n",
       "      <th>total_votes</th>\n",
       "      <th>mean_vote</th>\n",
       "      <th>median_vote</th>\n",
       "      <th>votes_10</th>\n",
       "      <th>votes_9</th>\n",
       "      <th>votes_8</th>\n",
       "      <th>votes_7</th>\n",
       "      <th>votes_6</th>\n",
       "      <th>...</th>\n",
       "      <th>females_30age_votes</th>\n",
       "      <th>females_45age_avg_vote</th>\n",
       "      <th>females_45age_votes</th>\n",
       "      <th>top1000_voters_rating</th>\n",
       "      <th>top1000_voters_votes</th>\n",
       "      <th>us_voters_rating</th>\n",
       "      <th>us_voters_votes</th>\n",
       "      <th>non_us_voters_rating</th>\n",
       "      <th>non_us_voters_votes</th>\n",
       "      <th>created_date</th>\n",
       "    </tr>\n",
       "  </thead>\n",
       "  <tbody>\n",
       "    <tr>\n",
       "      <th>0</th>\n",
       "      <td>tt0000009</td>\n",
       "      <td>5.9</td>\n",
       "      <td>154</td>\n",
       "      <td>5.9</td>\n",
       "      <td>6.0</td>\n",
       "      <td>12</td>\n",
       "      <td>4</td>\n",
       "      <td>10</td>\n",
       "      <td>43</td>\n",
       "      <td>28</td>\n",
       "      <td>...</td>\n",
       "      <td>13.0</td>\n",
       "      <td>4.5</td>\n",
       "      <td>4.0</td>\n",
       "      <td>5.7</td>\n",
       "      <td>34.0</td>\n",
       "      <td>6.4</td>\n",
       "      <td>51.0</td>\n",
       "      <td>6.0</td>\n",
       "      <td>70.0</td>\n",
       "      <td>2022-01-10 23:03:36.188320</td>\n",
       "    </tr>\n",
       "    <tr>\n",
       "      <th>1</th>\n",
       "      <td>tt0000574</td>\n",
       "      <td>6.1</td>\n",
       "      <td>589</td>\n",
       "      <td>6.3</td>\n",
       "      <td>6.0</td>\n",
       "      <td>57</td>\n",
       "      <td>18</td>\n",
       "      <td>58</td>\n",
       "      <td>137</td>\n",
       "      <td>139</td>\n",
       "      <td>...</td>\n",
       "      <td>23.0</td>\n",
       "      <td>6.6</td>\n",
       "      <td>14.0</td>\n",
       "      <td>6.4</td>\n",
       "      <td>66.0</td>\n",
       "      <td>6.0</td>\n",
       "      <td>96.0</td>\n",
       "      <td>6.2</td>\n",
       "      <td>331.0</td>\n",
       "      <td>2022-01-10 23:03:36.188320</td>\n",
       "    </tr>\n",
       "    <tr>\n",
       "      <th>2</th>\n",
       "      <td>tt0001892</td>\n",
       "      <td>5.8</td>\n",
       "      <td>188</td>\n",
       "      <td>6.0</td>\n",
       "      <td>6.0</td>\n",
       "      <td>6</td>\n",
       "      <td>6</td>\n",
       "      <td>17</td>\n",
       "      <td>44</td>\n",
       "      <td>52</td>\n",
       "      <td>...</td>\n",
       "      <td>4.0</td>\n",
       "      <td>6.8</td>\n",
       "      <td>7.0</td>\n",
       "      <td>5.4</td>\n",
       "      <td>32.0</td>\n",
       "      <td>6.2</td>\n",
       "      <td>31.0</td>\n",
       "      <td>5.9</td>\n",
       "      <td>123.0</td>\n",
       "      <td>2022-01-10 23:03:36.188320</td>\n",
       "    </tr>\n",
       "    <tr>\n",
       "      <th>3</th>\n",
       "      <td>tt0002101</td>\n",
       "      <td>5.2</td>\n",
       "      <td>446</td>\n",
       "      <td>5.3</td>\n",
       "      <td>5.0</td>\n",
       "      <td>15</td>\n",
       "      <td>8</td>\n",
       "      <td>16</td>\n",
       "      <td>62</td>\n",
       "      <td>98</td>\n",
       "      <td>...</td>\n",
       "      <td>14.0</td>\n",
       "      <td>6.1</td>\n",
       "      <td>21.0</td>\n",
       "      <td>4.9</td>\n",
       "      <td>57.0</td>\n",
       "      <td>5.5</td>\n",
       "      <td>207.0</td>\n",
       "      <td>4.7</td>\n",
       "      <td>105.0</td>\n",
       "      <td>2022-01-10 23:03:36.188320</td>\n",
       "    </tr>\n",
       "    <tr>\n",
       "      <th>4</th>\n",
       "      <td>tt0002130</td>\n",
       "      <td>7.0</td>\n",
       "      <td>2237</td>\n",
       "      <td>6.9</td>\n",
       "      <td>7.0</td>\n",
       "      <td>210</td>\n",
       "      <td>225</td>\n",
       "      <td>436</td>\n",
       "      <td>641</td>\n",
       "      <td>344</td>\n",
       "      <td>...</td>\n",
       "      <td>82.0</td>\n",
       "      <td>7.4</td>\n",
       "      <td>77.0</td>\n",
       "      <td>6.9</td>\n",
       "      <td>139.0</td>\n",
       "      <td>7.0</td>\n",
       "      <td>488.0</td>\n",
       "      <td>7.0</td>\n",
       "      <td>1166.0</td>\n",
       "      <td>2022-01-10 23:03:36.188320</td>\n",
       "    </tr>\n",
       "  </tbody>\n",
       "</table>\n",
       "<p>5 rows × 50 columns</p>\n",
       "</div>"
      ],
      "text/plain": [
       "  imdb_title_id weighted_average_vote total_votes mean_vote median_vote  \\\n",
       "0     tt0000009                   5.9         154       5.9         6.0   \n",
       "1     tt0000574                   6.1         589       6.3         6.0   \n",
       "2     tt0001892                   5.8         188       6.0         6.0   \n",
       "3     tt0002101                   5.2         446       5.3         5.0   \n",
       "4     tt0002130                   7.0        2237       6.9         7.0   \n",
       "\n",
       "  votes_10 votes_9 votes_8 votes_7 votes_6  ... females_30age_votes  \\\n",
       "0       12       4      10      43      28  ...                13.0   \n",
       "1       57      18      58     137     139  ...                23.0   \n",
       "2        6       6      17      44      52  ...                 4.0   \n",
       "3       15       8      16      62      98  ...                14.0   \n",
       "4      210     225     436     641     344  ...                82.0   \n",
       "\n",
       "  females_45age_avg_vote females_45age_votes top1000_voters_rating  \\\n",
       "0                    4.5                 4.0                   5.7   \n",
       "1                    6.6                14.0                   6.4   \n",
       "2                    6.8                 7.0                   5.4   \n",
       "3                    6.1                21.0                   4.9   \n",
       "4                    7.4                77.0                   6.9   \n",
       "\n",
       "  top1000_voters_votes us_voters_rating us_voters_votes non_us_voters_rating  \\\n",
       "0                 34.0              6.4            51.0                  6.0   \n",
       "1                 66.0              6.0            96.0                  6.2   \n",
       "2                 32.0              6.2            31.0                  5.9   \n",
       "3                 57.0              5.5           207.0                  4.7   \n",
       "4                139.0              7.0           488.0                  7.0   \n",
       "\n",
       "  non_us_voters_votes               created_date  \n",
       "0                70.0 2022-01-10 23:03:36.188320  \n",
       "1               331.0 2022-01-10 23:03:36.188320  \n",
       "2               123.0 2022-01-10 23:03:36.188320  \n",
       "3               105.0 2022-01-10 23:03:36.188320  \n",
       "4              1166.0 2022-01-10 23:03:36.188320  \n",
       "\n",
       "[5 rows x 50 columns]"
      ]
     },
     "execution_count": 105,
     "metadata": {},
     "output_type": "execute_result"
    }
   ],
   "source": [
    "ratings.head()"
   ]
  },
  {
   "cell_type": "markdown",
   "id": "82b4592f",
   "metadata": {},
   "source": [
    "Finding null values."
   ]
  },
  {
   "cell_type": "code",
   "execution_count": 106,
   "id": "14a695b5",
   "metadata": {},
   "outputs": [
    {
     "data": {
      "text/plain": [
       "females_0age_votes           74.239124\n",
       "females_0age_avg_vote        74.239124\n",
       "males_0age_votes             68.072914\n",
       "males_0age_avg_vote          68.072914\n",
       "allgenders_0age_votes        61.144954\n",
       "allgenders_0age_avg_vote     61.144954\n",
       "females_18age_votes           7.595364\n",
       "females_18age_avg_vote        7.595364\n",
       "females_45age_votes           3.258983\n",
       "females_45age_avg_vote        3.258983\n",
       "males_18age_avg_vote          1.706365\n",
       "males_18age_votes             1.706365\n",
       "females_30age_votes           1.099528\n",
       "females_30age_avg_vote        1.099528\n",
       "allgenders_18age_votes        0.822317\n",
       "allgenders_18age_avg_vote     0.822317\n",
       "top1000_voters_votes          0.790868\n",
       "top1000_voters_rating         0.790868\n",
       "us_voters_votes               0.243434\n",
       "us_voters_rating              0.243434\n",
       "males_45age_votes             0.117640\n",
       "males_45age_avg_vote          0.117640\n",
       "females_allages_votes         0.094345\n",
       "females_allages_avg_vote      0.094345\n",
       "allgenders_45age_votes        0.093180\n",
       "allgenders_45age_avg_vote     0.093180\n",
       "males_30age_votes             0.013977\n",
       "males_30age_avg_vote          0.013977\n",
       "allgenders_30age_votes        0.011648\n",
       "allgenders_30age_avg_vote     0.011648\n",
       "males_allages_votes           0.001165\n",
       "males_allages_avg_vote        0.001165\n",
       "non_us_voters_rating          0.001165\n",
       "non_us_voters_votes           0.001165\n",
       "dtype: float64"
      ]
     },
     "execution_count": 106,
     "metadata": {},
     "output_type": "execute_result"
    }
   ],
   "source": [
    "rating_pct = ratings.isnull().sum()/len(ratings) * 100 \n",
    "rating_pct.where(rating_pct > 0).dropna().sort_values(ascending=False)"
   ]
  },
  {
   "cell_type": "code",
   "execution_count": 107,
   "id": "fc905208",
   "metadata": {},
   "outputs": [
    {
     "data": {
      "text/plain": [
       "imdb_title_id                        object\n",
       "weighted_average_vote                object\n",
       "total_votes                          object\n",
       "mean_vote                            object\n",
       "median_vote                          object\n",
       "votes_10                             object\n",
       "votes_9                              object\n",
       "votes_8                              object\n",
       "votes_7                              object\n",
       "votes_6                              object\n",
       "votes_5                              object\n",
       "votes_4                              object\n",
       "votes_3                              object\n",
       "votes_2                              object\n",
       "votes_1                              object\n",
       "allgenders_0age_avg_vote             object\n",
       "allgenders_0age_votes                object\n",
       "allgenders_18age_avg_vote            object\n",
       "allgenders_18age_votes               object\n",
       "allgenders_30age_avg_vote            object\n",
       "allgenders_30age_votes               object\n",
       "allgenders_45age_avg_vote            object\n",
       "allgenders_45age_votes               object\n",
       "males_allages_avg_vote               object\n",
       "males_allages_votes                  object\n",
       "males_0age_avg_vote                  object\n",
       "males_0age_votes                     object\n",
       "males_18age_avg_vote                 object\n",
       "males_18age_votes                    object\n",
       "males_30age_avg_vote                 object\n",
       "males_30age_votes                    object\n",
       "males_45age_avg_vote                 object\n",
       "males_45age_votes                    object\n",
       "females_allages_avg_vote             object\n",
       "females_allages_votes                object\n",
       "females_0age_avg_vote                object\n",
       "females_0age_votes                   object\n",
       "females_18age_avg_vote               object\n",
       "females_18age_votes                  object\n",
       "females_30age_avg_vote               object\n",
       "females_30age_votes                  object\n",
       "females_45age_avg_vote               object\n",
       "females_45age_votes                  object\n",
       "top1000_voters_rating                object\n",
       "top1000_voters_votes                 object\n",
       "us_voters_rating                     object\n",
       "us_voters_votes                      object\n",
       "non_us_voters_rating                 object\n",
       "non_us_voters_votes                  object\n",
       "created_date                 datetime64[ns]\n",
       "dtype: object"
      ]
     },
     "execution_count": 107,
     "metadata": {},
     "output_type": "execute_result"
    }
   ],
   "source": [
    "ratings.dtypes"
   ]
  },
  {
   "cell_type": "markdown",
   "id": "d6b01c43",
   "metadata": {},
   "source": [
    "Finding duplicate values"
   ]
  },
  {
   "cell_type": "code",
   "execution_count": 108,
   "id": "6b0b8663",
   "metadata": {},
   "outputs": [
    {
     "data": {
      "text/plain": [
       "0"
      ]
     },
     "execution_count": 108,
     "metadata": {},
     "output_type": "execute_result"
    }
   ],
   "source": [
    "ratings.duplicated(subset=['imdb_title_id']).sum()"
   ]
  },
  {
   "cell_type": "markdown",
   "id": "a446a685",
   "metadata": {},
   "source": [
    "Getting unique country names"
   ]
  },
  {
   "cell_type": "code",
   "execution_count": 109,
   "id": "15d37d6e",
   "metadata": {},
   "outputs": [
    {
     "data": {
      "text/plain": [
       "array(['USA', 'Australia', 'Germany, Denmark', ...,\n",
       "       'Iran, France, Germany, Switzerland, Luxembourg, Lebanon',\n",
       "       'Spain, Portugal, Argentina', 'India, Netherlands, Singapore'],\n",
       "      dtype=object)"
      ]
     },
     "execution_count": 109,
     "metadata": {},
     "output_type": "execute_result"
    }
   ],
   "source": [
    "movies['country'].unique()"
   ]
  },
  {
   "cell_type": "markdown",
   "id": "7351a4d8",
   "metadata": {},
   "source": [
    "Checking if all the votes add up to total_votes field"
   ]
  },
  {
   "cell_type": "code",
   "execution_count": 110,
   "id": "ccc21c82",
   "metadata": {},
   "outputs": [
    {
     "data": {
      "text/html": [
       "<div>\n",
       "<style scoped>\n",
       "    .dataframe tbody tr th:only-of-type {\n",
       "        vertical-align: middle;\n",
       "    }\n",
       "\n",
       "    .dataframe tbody tr th {\n",
       "        vertical-align: top;\n",
       "    }\n",
       "\n",
       "    .dataframe thead th {\n",
       "        text-align: right;\n",
       "    }\n",
       "</style>\n",
       "<table border=\"1\" class=\"dataframe\">\n",
       "  <thead>\n",
       "    <tr style=\"text-align: right;\">\n",
       "      <th></th>\n",
       "      <th>imdb_title_id</th>\n",
       "      <th>weighted_average_vote</th>\n",
       "      <th>total_votes</th>\n",
       "      <th>mean_vote</th>\n",
       "      <th>median_vote</th>\n",
       "      <th>votes_10</th>\n",
       "      <th>votes_9</th>\n",
       "      <th>votes_8</th>\n",
       "      <th>votes_7</th>\n",
       "      <th>votes_6</th>\n",
       "      <th>...</th>\n",
       "      <th>females_30age_votes</th>\n",
       "      <th>females_45age_avg_vote</th>\n",
       "      <th>females_45age_votes</th>\n",
       "      <th>top1000_voters_rating</th>\n",
       "      <th>top1000_voters_votes</th>\n",
       "      <th>us_voters_rating</th>\n",
       "      <th>us_voters_votes</th>\n",
       "      <th>non_us_voters_rating</th>\n",
       "      <th>non_us_voters_votes</th>\n",
       "      <th>created_date</th>\n",
       "    </tr>\n",
       "  </thead>\n",
       "  <tbody>\n",
       "  </tbody>\n",
       "</table>\n",
       "<p>0 rows × 50 columns</p>\n",
       "</div>"
      ],
      "text/plain": [
       "Empty DataFrame\n",
       "Columns: [imdb_title_id, weighted_average_vote, total_votes, mean_vote, median_vote, votes_10, votes_9, votes_8, votes_7, votes_6, votes_5, votes_4, votes_3, votes_2, votes_1, allgenders_0age_avg_vote, allgenders_0age_votes, allgenders_18age_avg_vote, allgenders_18age_votes, allgenders_30age_avg_vote, allgenders_30age_votes, allgenders_45age_avg_vote, allgenders_45age_votes, males_allages_avg_vote, males_allages_votes, males_0age_avg_vote, males_0age_votes, males_18age_avg_vote, males_18age_votes, males_30age_avg_vote, males_30age_votes, males_45age_avg_vote, males_45age_votes, females_allages_avg_vote, females_allages_votes, females_0age_avg_vote, females_0age_votes, females_18age_avg_vote, females_18age_votes, females_30age_avg_vote, females_30age_votes, females_45age_avg_vote, females_45age_votes, top1000_voters_rating, top1000_voters_votes, us_voters_rating, us_voters_votes, non_us_voters_rating, non_us_voters_votes, created_date]\n",
       "Index: []\n",
       "\n",
       "[0 rows x 50 columns]"
      ]
     },
     "execution_count": 110,
     "metadata": {},
     "output_type": "execute_result"
    }
   ],
   "source": [
    "ratings.loc[ratings[\"total_votes\"].astype(int) != \n",
    "            ratings[\"votes_1\"].astype(int) + ratings[\"votes_2\"].astype(int) \n",
    "            + ratings[\"votes_3\"].astype(int) + ratings[\"votes_4\"].astype(int)\n",
    "            + ratings[\"votes_5\"].astype(int) + ratings[\"votes_6\"].astype(int)\n",
    "            + ratings[\"votes_7\"].astype(int) + ratings[\"votes_8\"].astype(int) \n",
    "            + ratings[\"votes_9\"].astype(int) + ratings[\"votes_10\"].astype(int)]"
   ]
  },
  {
   "cell_type": "code",
   "execution_count": 111,
   "id": "582c5f3c",
   "metadata": {},
   "outputs": [],
   "source": [
    "title_principals = pd.read_sql('stg_title_principals', conn)"
   ]
  },
  {
   "cell_type": "code",
   "execution_count": 112,
   "id": "d8875200",
   "metadata": {
    "scrolled": true
   },
   "outputs": [
    {
     "data": {
      "text/html": [
       "<div>\n",
       "<style scoped>\n",
       "    .dataframe tbody tr th:only-of-type {\n",
       "        vertical-align: middle;\n",
       "    }\n",
       "\n",
       "    .dataframe tbody tr th {\n",
       "        vertical-align: top;\n",
       "    }\n",
       "\n",
       "    .dataframe thead th {\n",
       "        text-align: right;\n",
       "    }\n",
       "</style>\n",
       "<table border=\"1\" class=\"dataframe\">\n",
       "  <thead>\n",
       "    <tr style=\"text-align: right;\">\n",
       "      <th></th>\n",
       "      <th>imdb_title_id</th>\n",
       "      <th>ordering</th>\n",
       "      <th>imdb_name_id</th>\n",
       "      <th>category</th>\n",
       "      <th>job</th>\n",
       "      <th>characters</th>\n",
       "      <th>created_date</th>\n",
       "    </tr>\n",
       "  </thead>\n",
       "  <tbody>\n",
       "    <tr>\n",
       "      <th>0</th>\n",
       "      <td>tt0000009</td>\n",
       "      <td>1</td>\n",
       "      <td>nm0063086</td>\n",
       "      <td>actress</td>\n",
       "      <td>None</td>\n",
       "      <td>[\"Miss Geraldine Holbrook (Miss Jerry)\"]</td>\n",
       "      <td>2022-01-10 23:04:46.555751</td>\n",
       "    </tr>\n",
       "    <tr>\n",
       "      <th>1</th>\n",
       "      <td>tt0000009</td>\n",
       "      <td>2</td>\n",
       "      <td>nm0183823</td>\n",
       "      <td>actor</td>\n",
       "      <td>None</td>\n",
       "      <td>[\"Mr. Hamilton\"]</td>\n",
       "      <td>2022-01-10 23:04:46.555751</td>\n",
       "    </tr>\n",
       "    <tr>\n",
       "      <th>2</th>\n",
       "      <td>tt0000009</td>\n",
       "      <td>3</td>\n",
       "      <td>nm1309758</td>\n",
       "      <td>actor</td>\n",
       "      <td>None</td>\n",
       "      <td>[\"Chauncey Depew - the Director of the New Yor...</td>\n",
       "      <td>2022-01-10 23:04:46.555751</td>\n",
       "    </tr>\n",
       "    <tr>\n",
       "      <th>3</th>\n",
       "      <td>tt0000009</td>\n",
       "      <td>4</td>\n",
       "      <td>nm0085156</td>\n",
       "      <td>director</td>\n",
       "      <td>None</td>\n",
       "      <td>None</td>\n",
       "      <td>2022-01-10 23:04:46.555751</td>\n",
       "    </tr>\n",
       "    <tr>\n",
       "      <th>4</th>\n",
       "      <td>tt0000574</td>\n",
       "      <td>1</td>\n",
       "      <td>nm0846887</td>\n",
       "      <td>actress</td>\n",
       "      <td>None</td>\n",
       "      <td>[\"Kate Kelly\"]</td>\n",
       "      <td>2022-01-10 23:04:46.555751</td>\n",
       "    </tr>\n",
       "  </tbody>\n",
       "</table>\n",
       "</div>"
      ],
      "text/plain": [
       "  imdb_title_id ordering imdb_name_id  category   job  \\\n",
       "0     tt0000009        1    nm0063086   actress  None   \n",
       "1     tt0000009        2    nm0183823     actor  None   \n",
       "2     tt0000009        3    nm1309758     actor  None   \n",
       "3     tt0000009        4    nm0085156  director  None   \n",
       "4     tt0000574        1    nm0846887   actress  None   \n",
       "\n",
       "                                          characters  \\\n",
       "0           [\"Miss Geraldine Holbrook (Miss Jerry)\"]   \n",
       "1                                   [\"Mr. Hamilton\"]   \n",
       "2  [\"Chauncey Depew - the Director of the New Yor...   \n",
       "3                                               None   \n",
       "4                                     [\"Kate Kelly\"]   \n",
       "\n",
       "                created_date  \n",
       "0 2022-01-10 23:04:46.555751  \n",
       "1 2022-01-10 23:04:46.555751  \n",
       "2 2022-01-10 23:04:46.555751  \n",
       "3 2022-01-10 23:04:46.555751  \n",
       "4 2022-01-10 23:04:46.555751  "
      ]
     },
     "execution_count": 112,
     "metadata": {},
     "output_type": "execute_result"
    }
   ],
   "source": [
    "title_principals.head()"
   ]
  },
  {
   "cell_type": "markdown",
   "id": "e5d57605",
   "metadata": {},
   "source": [
    "Checking for null values."
   ]
  },
  {
   "cell_type": "code",
   "execution_count": 113,
   "id": "bedc4e55",
   "metadata": {},
   "outputs": [
    {
     "data": {
      "text/plain": [
       "job           74.538876\n",
       "characters    59.206380\n",
       "dtype: float64"
      ]
     },
     "execution_count": 113,
     "metadata": {},
     "output_type": "execute_result"
    }
   ],
   "source": [
    "s = title_principals.isnull().sum()/(len(title_principals)) * 100\n",
    "s.where(s > 0).dropna().sort_values(ascending=False)"
   ]
  },
  {
   "cell_type": "code",
   "execution_count": 114,
   "id": "a4d77541",
   "metadata": {},
   "outputs": [
    {
     "data": {
      "text/plain": [
       "producer                                                     97837\n",
       "screenplay                                                   23953\n",
       "director of photography                                      10251\n",
       "written by                                                   10234\n",
       "story                                                         9511\n",
       "                                                             ...  \n",
       "novel \"Heaven Has No Favorites\"                                  1\n",
       "novel \"Towards Zero\"                                             1\n",
       "based on the play Jeanne d'Arc by                                1\n",
       "from the famous story by                                         1\n",
       "novel \"La dame dans l'auto avec des lunettes et un fusil\"        1\n",
       "Name: job, Length: 8871, dtype: int64"
      ]
     },
     "execution_count": 114,
     "metadata": {},
     "output_type": "execute_result"
    }
   ],
   "source": [
    "title_principals.loc[title_principals[\"job\"].notnull()][\"job\"].value_counts()"
   ]
  },
  {
   "cell_type": "code",
   "execution_count": 115,
   "id": "6c78516a",
   "metadata": {},
   "outputs": [
    {
     "data": {
      "text/plain": [
       "[\"Self\"]                        720\n",
       "[\"Anna\"]                        539\n",
       "[\"Alex\"]                        460\n",
       "[\"David\"]                       455\n",
       "[\"Sam\"]                         415\n",
       "                               ... \n",
       "[\"Garabon\",\"Graeme\"]              1\n",
       "[\"Amy Ryan\"]                      1\n",
       "[\"Pyotr Nikolayevich\"]            1\n",
       "[\"Brigadier Shamsher Singh\"]      1\n",
       "[\"Tadas Blinda\"]                  1\n",
       "Name: characters, Length: 212899, dtype: int64"
      ]
     },
     "execution_count": 115,
     "metadata": {},
     "output_type": "execute_result"
    }
   ],
   "source": [
    "title_principals.loc[title_principals[\"characters\"].notnull()][\"characters\"].value_counts()"
   ]
  },
  {
   "cell_type": "markdown",
   "id": "fb4137b5",
   "metadata": {},
   "source": [
    "Checking for the count of duplicate values"
   ]
  },
  {
   "cell_type": "code",
   "execution_count": 116,
   "id": "320aded1",
   "metadata": {},
   "outputs": [
    {
     "data": {
      "text/plain": [
       "15"
      ]
     },
     "execution_count": 116,
     "metadata": {},
     "output_type": "execute_result"
    }
   ],
   "source": [
    "title_principals.duplicated(subset=[\"imdb_title_id\", \"imdb_name_id\", \"category\", \"job\", \"characters\"]).sum()"
   ]
  },
  {
   "cell_type": "markdown",
   "id": "83561876",
   "metadata": {},
   "source": [
    "Checking for the list of fields that contains multiple values"
   ]
  },
  {
   "cell_type": "code",
   "execution_count": 117,
   "id": "c1f56f38",
   "metadata": {},
   "outputs": [
    {
     "name": "stdout",
     "output_type": "stream",
     "text": [
      "job\n",
      "characters\n"
     ]
    }
   ],
   "source": [
    "for col in title_principals:\n",
    "    if title_principals[col].astype(str).str.contains(\",\", na=False).any():\n",
    "        print(col)"
   ]
  },
  {
   "cell_type": "code",
   "execution_count": 118,
   "id": "cf5473fb",
   "metadata": {},
   "outputs": [
    {
     "data": {
      "text/plain": [
       "208     stories The Pit and the Pendulum, The Tell-Tal...\n",
       "483                       Picturized By, i.e., screenplay\n",
       "962                stories Raffles, the Amateur Cracksman\n",
       "964                 play \"Raffles, the Amateur Cracksman\"\n",
       "1418                        story \"Kitty, Mind Your Feet\"\n",
       "Name: job, dtype: object"
      ]
     },
     "execution_count": 118,
     "metadata": {},
     "output_type": "execute_result"
    }
   ],
   "source": [
    "title_principals.loc[title_principals[\"job\"].astype(str)\n",
    "                     .str.contains(\",\", na=False)][\"job\"].head()"
   ]
  },
  {
   "cell_type": "code",
   "execution_count": 119,
   "id": "7afccf25",
   "metadata": {},
   "outputs": [
    {
     "data": {
      "text/plain": [
       "97942             [\"Mr. Cogez, the Miller\"]\n",
       "495822     [\"The Narrator\",\"The Navy Suit\"]\n",
       "759060            [\"Peter\",\"serial killer\"]\n",
       "205717      [\"Old Devil\",\"Master Ruthless\"]\n",
       "106698    [\"Sister Malgorzata\",\"Margareth\"]\n",
       "Name: characters, dtype: object"
      ]
     },
     "execution_count": 119,
     "metadata": {},
     "output_type": "execute_result"
    }
   ],
   "source": [
    "ser_characters = title_principals.loc[title_principals[\"characters\"].astype(str)\n",
    "                                      .str.contains(\",\", na=False)][\"characters\"]\n",
    "ser_characters.sample(5)"
   ]
  },
  {
   "cell_type": "code",
   "execution_count": 120,
   "id": "cd50d155",
   "metadata": {},
   "outputs": [
    {
     "data": {
      "text/plain": [
       "{'tt1860336', 'tt2082513'}"
      ]
     },
     "execution_count": 120,
     "metadata": {},
     "output_type": "execute_result"
    }
   ],
   "source": [
    "set(title_principals[\"imdb_title_id\"].tolist()) - set(movies[\"imdb_title_id\"].tolist())"
   ]
  },
  {
   "cell_type": "code",
   "execution_count": 121,
   "id": "a413d95d",
   "metadata": {},
   "outputs": [
    {
     "data": {
      "text/plain": [
       "{'nm7638113'}"
      ]
     },
     "execution_count": 121,
     "metadata": {},
     "output_type": "execute_result"
    }
   ],
   "source": [
    "set(title_principals[\"imdb_name_id\"].tolist()) - set(names[\"imdb_name_id\"].tolist())"
   ]
  },
  {
   "cell_type": "code",
   "execution_count": null,
   "id": "977413bf",
   "metadata": {},
   "outputs": [],
   "source": []
  }
 ],
 "metadata": {
  "kernelspec": {
   "display_name": "Python 3",
   "language": "python",
   "name": "python3"
  },
  "language_info": {
   "codemirror_mode": {
    "name": "ipython",
    "version": 3
   },
   "file_extension": ".py",
   "mimetype": "text/x-python",
   "name": "python",
   "nbconvert_exporter": "python",
   "pygments_lexer": "ipython3",
   "version": "3.8.8"
  }
 },
 "nbformat": 4,
 "nbformat_minor": 5
}
