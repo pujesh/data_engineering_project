{
 "cells": [
  {
   "cell_type": "code",
   "execution_count": 85,
   "id": "5e4c83b8",
   "metadata": {},
   "outputs": [],
   "source": [
    "import psycopg2\n",
    "import pandas as pd\n",
    "import sqlalchemy"
   ]
  },
  {
   "cell_type": "code",
   "execution_count": 86,
   "id": "db37749f",
   "metadata": {},
   "outputs": [],
   "source": [
    "try:\n",
    "    pwd = \"SpiderMonkey6.\"\n",
    "    conn = sqlalchemy.create_engine(\"postgresql://postgres:{}@34.145.47.78:5432/postgres\".format(pwd))\n",
    "    \n",
    "    conn.raw_connection().set_session(autocommit=True)\n",
    "    \n",
    "    cur = conn.raw_connection().cursor()\n",
    "    \n",
    "except Exception as e:\n",
    "    print(\"Error occurred while connecting to the database!\")\n",
    "    print(e)"
   ]
  },
  {
   "cell_type": "code",
   "execution_count": 162,
   "id": "b8041f12",
   "metadata": {},
   "outputs": [],
   "source": [
    "names = pd.read_sql(\"stg_names\", conn)\n",
    "movies = pd.read_sql(\"stg_movies\", conn)"
   ]
  },
  {
   "cell_type": "code",
   "execution_count": 88,
   "id": "4d6b8edb",
   "metadata": {},
   "outputs": [
    {
     "data": {
      "text/html": [
       "<div>\n",
       "<style scoped>\n",
       "    .dataframe tbody tr th:only-of-type {\n",
       "        vertical-align: middle;\n",
       "    }\n",
       "\n",
       "    .dataframe tbody tr th {\n",
       "        vertical-align: top;\n",
       "    }\n",
       "\n",
       "    .dataframe thead th {\n",
       "        text-align: right;\n",
       "    }\n",
       "</style>\n",
       "<table border=\"1\" class=\"dataframe\">\n",
       "  <thead>\n",
       "    <tr style=\"text-align: right;\">\n",
       "      <th></th>\n",
       "      <th>imdb_title_id</th>\n",
       "      <th>title</th>\n",
       "      <th>original_title</th>\n",
       "      <th>year</th>\n",
       "      <th>date_published</th>\n",
       "      <th>genre</th>\n",
       "      <th>duration</th>\n",
       "      <th>country</th>\n",
       "      <th>language</th>\n",
       "      <th>director</th>\n",
       "      <th>...</th>\n",
       "      <th>description</th>\n",
       "      <th>avg_vote</th>\n",
       "      <th>votes</th>\n",
       "      <th>budget</th>\n",
       "      <th>usa_gross_income</th>\n",
       "      <th>worlwide_gross_income</th>\n",
       "      <th>metascore</th>\n",
       "      <th>reviews_from_users</th>\n",
       "      <th>reviews_from_critics</th>\n",
       "      <th>created_date</th>\n",
       "    </tr>\n",
       "  </thead>\n",
       "  <tbody>\n",
       "    <tr>\n",
       "      <th>0</th>\n",
       "      <td>tt0138050</td>\n",
       "      <td>La vendetta dei morti viventi</td>\n",
       "      <td>Raiders of the Living Dead</td>\n",
       "      <td>1986</td>\n",
       "      <td>1986-03-01</td>\n",
       "      <td>Horror</td>\n",
       "      <td>86</td>\n",
       "      <td>USA</td>\n",
       "      <td>English</td>\n",
       "      <td>Samuel M. Sherman</td>\n",
       "      <td>...</td>\n",
       "      <td>A newspaper reporter hears of strange goings-o...</td>\n",
       "      <td>2.5</td>\n",
       "      <td>460</td>\n",
       "      <td>$ 800000</td>\n",
       "      <td>None</td>\n",
       "      <td>None</td>\n",
       "      <td>None</td>\n",
       "      <td>27.0</td>\n",
       "      <td>8.0</td>\n",
       "      <td>2022-01-05 01:28:04.053948</td>\n",
       "    </tr>\n",
       "    <tr>\n",
       "      <th>1</th>\n",
       "      <td>tt0138063</td>\n",
       "      <td>Un inguaribile romantico</td>\n",
       "      <td>So This Is Romance?</td>\n",
       "      <td>1997</td>\n",
       "      <td>1998-05-22</td>\n",
       "      <td>Comedy, Romance</td>\n",
       "      <td>95</td>\n",
       "      <td>UK</td>\n",
       "      <td>English</td>\n",
       "      <td>Kevin W. Smith</td>\n",
       "      <td>...</td>\n",
       "      <td>Mike's alcoholic father tells him there is onl...</td>\n",
       "      <td>5.1</td>\n",
       "      <td>166</td>\n",
       "      <td>None</td>\n",
       "      <td>None</td>\n",
       "      <td>None</td>\n",
       "      <td>None</td>\n",
       "      <td>7.0</td>\n",
       "      <td>2.0</td>\n",
       "      <td>2022-01-05 01:28:04.053948</td>\n",
       "    </tr>\n",
       "    <tr>\n",
       "      <th>2</th>\n",
       "      <td>tt0138073</td>\n",
       "      <td>Os Saltimbancos Trapalhões</td>\n",
       "      <td>Os Saltimbancos Trapalhões</td>\n",
       "      <td>1981</td>\n",
       "      <td>1981-12-22</td>\n",
       "      <td>Adventure, Comedy, Drama</td>\n",
       "      <td>95</td>\n",
       "      <td>Brazil</td>\n",
       "      <td>Portuguese</td>\n",
       "      <td>J.B. Tanko</td>\n",
       "      <td>...</td>\n",
       "      <td>Four humble and goofy employees of a prominent...</td>\n",
       "      <td>6.6</td>\n",
       "      <td>533</td>\n",
       "      <td>None</td>\n",
       "      <td>None</td>\n",
       "      <td>None</td>\n",
       "      <td>None</td>\n",
       "      <td>None</td>\n",
       "      <td>None</td>\n",
       "      <td>2022-01-05 01:28:04.053948</td>\n",
       "    </tr>\n",
       "    <tr>\n",
       "      <th>3</th>\n",
       "      <td>tt0138074</td>\n",
       "      <td>Santa and the Ice Cream Bunny</td>\n",
       "      <td>Santa and the Ice Cream Bunny</td>\n",
       "      <td>1972</td>\n",
       "      <td>1972-11-18</td>\n",
       "      <td>Family, Fantasy</td>\n",
       "      <td>96</td>\n",
       "      <td>USA</td>\n",
       "      <td>English</td>\n",
       "      <td>Richard Winer</td>\n",
       "      <td>...</td>\n",
       "      <td>When Santa's sleigh gets stuck in Florida, he ...</td>\n",
       "      <td>1.3</td>\n",
       "      <td>1186</td>\n",
       "      <td>None</td>\n",
       "      <td>None</td>\n",
       "      <td>None</td>\n",
       "      <td>None</td>\n",
       "      <td>51.0</td>\n",
       "      <td>24.0</td>\n",
       "      <td>2022-01-05 01:28:04.053948</td>\n",
       "    </tr>\n",
       "    <tr>\n",
       "      <th>4</th>\n",
       "      <td>tt0138075</td>\n",
       "      <td>Satan in High Heels</td>\n",
       "      <td>Satan in High Heels</td>\n",
       "      <td>1962</td>\n",
       "      <td>1967-08-03</td>\n",
       "      <td>Drama</td>\n",
       "      <td>90</td>\n",
       "      <td>USA</td>\n",
       "      <td>English</td>\n",
       "      <td>Jerald Intrator</td>\n",
       "      <td>...</td>\n",
       "      <td>A carnival burlesque dancer robs her junkie ex...</td>\n",
       "      <td>5.8</td>\n",
       "      <td>377</td>\n",
       "      <td>None</td>\n",
       "      <td>None</td>\n",
       "      <td>None</td>\n",
       "      <td>None</td>\n",
       "      <td>14.0</td>\n",
       "      <td>8.0</td>\n",
       "      <td>2022-01-05 01:28:04.053948</td>\n",
       "    </tr>\n",
       "  </tbody>\n",
       "</table>\n",
       "<p>5 rows × 23 columns</p>\n",
       "</div>"
      ],
      "text/plain": [
       "  imdb_title_id                          title                 original_title  \\\n",
       "0     tt0138050  La vendetta dei morti viventi     Raiders of the Living Dead   \n",
       "1     tt0138063       Un inguaribile romantico            So This Is Romance?   \n",
       "2     tt0138073     Os Saltimbancos Trapalhões     Os Saltimbancos Trapalhões   \n",
       "3     tt0138074  Santa and the Ice Cream Bunny  Santa and the Ice Cream Bunny   \n",
       "4     tt0138075            Satan in High Heels            Satan in High Heels   \n",
       "\n",
       "   year date_published                     genre duration country    language  \\\n",
       "0  1986     1986-03-01                    Horror       86     USA     English   \n",
       "1  1997     1998-05-22           Comedy, Romance       95      UK     English   \n",
       "2  1981     1981-12-22  Adventure, Comedy, Drama       95  Brazil  Portuguese   \n",
       "3  1972     1972-11-18           Family, Fantasy       96     USA     English   \n",
       "4  1962     1967-08-03                     Drama       90     USA     English   \n",
       "\n",
       "            director  ...                                        description  \\\n",
       "0  Samuel M. Sherman  ...  A newspaper reporter hears of strange goings-o...   \n",
       "1     Kevin W. Smith  ...  Mike's alcoholic father tells him there is onl...   \n",
       "2         J.B. Tanko  ...  Four humble and goofy employees of a prominent...   \n",
       "3      Richard Winer  ...  When Santa's sleigh gets stuck in Florida, he ...   \n",
       "4    Jerald Intrator  ...  A carnival burlesque dancer robs her junkie ex...   \n",
       "\n",
       "  avg_vote votes    budget usa_gross_income worlwide_gross_income metascore  \\\n",
       "0      2.5   460  $ 800000             None                  None      None   \n",
       "1      5.1   166      None             None                  None      None   \n",
       "2      6.6   533      None             None                  None      None   \n",
       "3      1.3  1186      None             None                  None      None   \n",
       "4      5.8   377      None             None                  None      None   \n",
       "\n",
       "  reviews_from_users reviews_from_critics               created_date  \n",
       "0               27.0                  8.0 2022-01-05 01:28:04.053948  \n",
       "1                7.0                  2.0 2022-01-05 01:28:04.053948  \n",
       "2               None                 None 2022-01-05 01:28:04.053948  \n",
       "3               51.0                 24.0 2022-01-05 01:28:04.053948  \n",
       "4               14.0                  8.0 2022-01-05 01:28:04.053948  \n",
       "\n",
       "[5 rows x 23 columns]"
      ]
     },
     "execution_count": 88,
     "metadata": {},
     "output_type": "execute_result"
    }
   ],
   "source": [
    "movies.head()"
   ]
  },
  {
   "cell_type": "code",
   "execution_count": 89,
   "id": "6faf5287",
   "metadata": {},
   "outputs": [
    {
     "data": {
      "text/plain": [
       "metascore                84.502941\n",
       "usa_gross_income         82.148972\n",
       "budget                   72.383670\n",
       "worlwide_gross_income    63.873974\n",
       "reviews_from_critics     13.740609\n",
       "reviews_from_users        8.848640\n",
       "production_company        5.188981\n",
       "description               2.463456\n",
       "writer                    1.830994\n",
       "language                  0.970241\n",
       "director                  0.101334\n",
       "actors                    0.080368\n",
       "country                   0.074544\n",
       "dtype: float64"
      ]
     },
     "execution_count": 89,
     "metadata": {},
     "output_type": "execute_result"
    }
   ],
   "source": [
    "s = movies.isnull().sum() / len(movies) * 100\n",
    "s.where(s>0).dropna().sort_values(ascending=False)"
   ]
  },
  {
   "cell_type": "code",
   "execution_count": 90,
   "id": "ebe4653a",
   "metadata": {},
   "outputs": [
    {
     "data": {
      "text/plain": [
       "0"
      ]
     },
     "execution_count": 90,
     "metadata": {},
     "output_type": "execute_result"
    }
   ],
   "source": [
    "movies.duplicated(subset=[\"imdb_title_id\"]).sum()"
   ]
  },
  {
   "cell_type": "code",
   "execution_count": 91,
   "id": "74fac0bf",
   "metadata": {},
   "outputs": [
    {
     "data": {
      "text/plain": [
       "imdb_title_id                    object\n",
       "title                            object\n",
       "original_title                   object\n",
       "year                             object\n",
       "date_published                   object\n",
       "genre                            object\n",
       "duration                         object\n",
       "country                          object\n",
       "language                         object\n",
       "director                         object\n",
       "writer                           object\n",
       "production_company               object\n",
       "actors                           object\n",
       "description                      object\n",
       "avg_vote                         object\n",
       "votes                            object\n",
       "budget                           object\n",
       "usa_gross_income                 object\n",
       "worlwide_gross_income            object\n",
       "metascore                        object\n",
       "reviews_from_users               object\n",
       "reviews_from_critics             object\n",
       "created_date             datetime64[ns]\n",
       "dtype: object"
      ]
     },
     "execution_count": 91,
     "metadata": {},
     "output_type": "execute_result"
    }
   ],
   "source": [
    "movies.dtypes"
   ]
  },
  {
   "cell_type": "code",
   "execution_count": 92,
   "id": "e72e6274",
   "metadata": {},
   "outputs": [
    {
     "data": {
      "text/html": [
       "<div>\n",
       "<style scoped>\n",
       "    .dataframe tbody tr th:only-of-type {\n",
       "        vertical-align: middle;\n",
       "    }\n",
       "\n",
       "    .dataframe tbody tr th {\n",
       "        vertical-align: top;\n",
       "    }\n",
       "\n",
       "    .dataframe thead th {\n",
       "        text-align: right;\n",
       "    }\n",
       "</style>\n",
       "<table border=\"1\" class=\"dataframe\">\n",
       "  <thead>\n",
       "    <tr style=\"text-align: right;\">\n",
       "      <th></th>\n",
       "      <th>avg_vote</th>\n",
       "      <th>votes</th>\n",
       "      <th>budget</th>\n",
       "      <th>usa_gross_income</th>\n",
       "      <th>worlwide_gross_income</th>\n",
       "      <th>metascore</th>\n",
       "    </tr>\n",
       "  </thead>\n",
       "  <tbody>\n",
       "    <tr>\n",
       "      <th>69128</th>\n",
       "      <td>8.1</td>\n",
       "      <td>78200</td>\n",
       "      <td>RUR 1000000</td>\n",
       "      <td>$ 22168</td>\n",
       "      <td>$ 134788</td>\n",
       "      <td>90.0</td>\n",
       "    </tr>\n",
       "    <tr>\n",
       "      <th>68308</th>\n",
       "      <td>6.3</td>\n",
       "      <td>31416</td>\n",
       "      <td>$ 2500000</td>\n",
       "      <td>$ 12348905</td>\n",
       "      <td>$ 12348905</td>\n",
       "      <td>69.0</td>\n",
       "    </tr>\n",
       "    <tr>\n",
       "      <th>42043</th>\n",
       "      <td>7.3</td>\n",
       "      <td>9028</td>\n",
       "      <td>EUR 6000000</td>\n",
       "      <td>$ 1065665</td>\n",
       "      <td>$ 7400324</td>\n",
       "      <td>78.0</td>\n",
       "    </tr>\n",
       "    <tr>\n",
       "      <th>17039</th>\n",
       "      <td>6.4</td>\n",
       "      <td>37249</td>\n",
       "      <td>$ 40000000</td>\n",
       "      <td>$ 40946255</td>\n",
       "      <td>$ 103967384</td>\n",
       "      <td>71.0</td>\n",
       "    </tr>\n",
       "    <tr>\n",
       "      <th>37156</th>\n",
       "      <td>7.4</td>\n",
       "      <td>254949</td>\n",
       "      <td>$ 175000000</td>\n",
       "      <td>$ 364001123</td>\n",
       "      <td>$ 966552003</td>\n",
       "      <td>77.0</td>\n",
       "    </tr>\n",
       "    <tr>\n",
       "      <th>11291</th>\n",
       "      <td>6.5</td>\n",
       "      <td>238570</td>\n",
       "      <td>$ 60000000</td>\n",
       "      <td>$ 114197520</td>\n",
       "      <td>$ 256697520</td>\n",
       "      <td>44.0</td>\n",
       "    </tr>\n",
       "    <tr>\n",
       "      <th>48273</th>\n",
       "      <td>5.5</td>\n",
       "      <td>17278</td>\n",
       "      <td>$ 5000000</td>\n",
       "      <td>$ 3502600</td>\n",
       "      <td>$ 4554416</td>\n",
       "      <td>55.0</td>\n",
       "    </tr>\n",
       "    <tr>\n",
       "      <th>6893</th>\n",
       "      <td>6.6</td>\n",
       "      <td>60154</td>\n",
       "      <td>$ 25000000</td>\n",
       "      <td>$ 36845124</td>\n",
       "      <td>$ 64437847</td>\n",
       "      <td>58.0</td>\n",
       "    </tr>\n",
       "    <tr>\n",
       "      <th>73154</th>\n",
       "      <td>8.3</td>\n",
       "      <td>226427</td>\n",
       "      <td>DEM 32000000</td>\n",
       "      <td>$ 11487676</td>\n",
       "      <td>$ 11487676</td>\n",
       "      <td>86.0</td>\n",
       "    </tr>\n",
       "    <tr>\n",
       "      <th>78741</th>\n",
       "      <td>7.0</td>\n",
       "      <td>31038</td>\n",
       "      <td>$ 5300000</td>\n",
       "      <td>$ 2554476</td>\n",
       "      <td>$ 2554476</td>\n",
       "      <td>66.0</td>\n",
       "    </tr>\n",
       "  </tbody>\n",
       "</table>\n",
       "</div>"
      ],
      "text/plain": [
       "      avg_vote   votes        budget usa_gross_income worlwide_gross_income  \\\n",
       "69128      8.1   78200   RUR 1000000          $ 22168              $ 134788   \n",
       "68308      6.3   31416     $ 2500000       $ 12348905            $ 12348905   \n",
       "42043      7.3    9028   EUR 6000000        $ 1065665             $ 7400324   \n",
       "17039      6.4   37249    $ 40000000       $ 40946255           $ 103967384   \n",
       "37156      7.4  254949   $ 175000000      $ 364001123           $ 966552003   \n",
       "11291      6.5  238570    $ 60000000      $ 114197520           $ 256697520   \n",
       "48273      5.5   17278     $ 5000000        $ 3502600             $ 4554416   \n",
       "6893       6.6   60154    $ 25000000       $ 36845124            $ 64437847   \n",
       "73154      8.3  226427  DEM 32000000       $ 11487676            $ 11487676   \n",
       "78741      7.0   31038     $ 5300000        $ 2554476             $ 2554476   \n",
       "\n",
       "      metascore  \n",
       "69128      90.0  \n",
       "68308      69.0  \n",
       "42043      78.0  \n",
       "17039      71.0  \n",
       "37156      77.0  \n",
       "11291      44.0  \n",
       "48273      55.0  \n",
       "6893       58.0  \n",
       "73154      86.0  \n",
       "78741      66.0  "
      ]
     },
     "execution_count": 92,
     "metadata": {},
     "output_type": "execute_result"
    }
   ],
   "source": [
    "movies[[\"avg_vote\", \"votes\", \"budget\", \"usa_gross_income\", \"worlwide_gross_income\", \"metascore\"]].dropna().sample(10)"
   ]
  },
  {
   "cell_type": "code",
   "execution_count": 247,
   "id": "bed5272f",
   "metadata": {},
   "outputs": [
    {
     "name": "stdout",
     "output_type": "stream",
     "text": [
      "title\n",
      "original_title\n",
      "genre\n",
      "country\n",
      "language\n",
      "director\n",
      "writer\n",
      "production_company\n",
      "actors\n",
      "description\n"
     ]
    }
   ],
   "source": [
    "for col in movies:\n",
    "    if movies[col].astype(str).str.contains(',').any():\n",
    "        print(col)"
   ]
  },
  {
   "cell_type": "code",
   "execution_count": 94,
   "id": "360a5678",
   "metadata": {},
   "outputs": [
    {
     "data": {
      "text/plain": [
       "False"
      ]
     },
     "execution_count": 94,
     "metadata": {},
     "output_type": "execute_result"
    }
   ],
   "source": [
    "movies['imdb_title_id'].astype(str).str.contains(',', na=False).any()"
   ]
  },
  {
   "cell_type": "code",
   "execution_count": 95,
   "id": "6125bde1",
   "metadata": {},
   "outputs": [
    {
     "name": "stdout",
     "output_type": "stream",
     "text": [
      "23372\n"
     ]
    }
   ],
   "source": [
    "print(movies.loc[movies['title'] != movies['original_title']].shape[0])"
   ]
  },
  {
   "cell_type": "code",
   "execution_count": 96,
   "id": "e6827af6",
   "metadata": {},
   "outputs": [
    {
     "data": {
      "text/html": [
       "<div>\n",
       "<style scoped>\n",
       "    .dataframe tbody tr th:only-of-type {\n",
       "        vertical-align: middle;\n",
       "    }\n",
       "\n",
       "    .dataframe tbody tr th {\n",
       "        vertical-align: top;\n",
       "    }\n",
       "\n",
       "    .dataframe thead th {\n",
       "        text-align: right;\n",
       "    }\n",
       "</style>\n",
       "<table border=\"1\" class=\"dataframe\">\n",
       "  <thead>\n",
       "    <tr style=\"text-align: right;\">\n",
       "      <th></th>\n",
       "      <th>title</th>\n",
       "      <th>original_title</th>\n",
       "    </tr>\n",
       "  </thead>\n",
       "  <tbody>\n",
       "    <tr>\n",
       "      <th>0</th>\n",
       "      <td>La vendetta dei morti viventi</td>\n",
       "      <td>Raiders of the Living Dead</td>\n",
       "    </tr>\n",
       "    <tr>\n",
       "      <th>1</th>\n",
       "      <td>Un inguaribile romantico</td>\n",
       "      <td>So This Is Romance?</td>\n",
       "    </tr>\n",
       "    <tr>\n",
       "      <th>13</th>\n",
       "      <td>L'assassino ha prenotato la tua morte</td>\n",
       "      <td>Le temps de mourir</td>\n",
       "    </tr>\n",
       "    <tr>\n",
       "      <th>16</th>\n",
       "      <td>24 ore donna</td>\n",
       "      <td>The 24 Hour Woman</td>\n",
       "    </tr>\n",
       "    <tr>\n",
       "      <th>17</th>\n",
       "      <td>La trappola</td>\n",
       "      <td>Ambushed</td>\n",
       "    </tr>\n",
       "    <tr>\n",
       "      <th>...</th>\n",
       "      <td>...</td>\n",
       "      <td>...</td>\n",
       "    </tr>\n",
       "    <tr>\n",
       "      <th>85830</th>\n",
       "      <td>Arlington Road - L'inganno</td>\n",
       "      <td>Arlington Road</td>\n",
       "    </tr>\n",
       "    <tr>\n",
       "      <th>85834</th>\n",
       "      <td>Tre colpi che frantumano</td>\n",
       "      <td>Ma tou da jue dou</td>\n",
       "    </tr>\n",
       "    <tr>\n",
       "      <th>85835</th>\n",
       "      <td>Racconto d'autunno</td>\n",
       "      <td>Conte d'automne</td>\n",
       "    </tr>\n",
       "    <tr>\n",
       "      <th>85841</th>\n",
       "      <td>Relazione extraconiugale</td>\n",
       "      <td>Extramarital</td>\n",
       "    </tr>\n",
       "    <tr>\n",
       "      <th>85844</th>\n",
       "      <td>Rischio d'impatto</td>\n",
       "      <td>Ground Control</td>\n",
       "    </tr>\n",
       "  </tbody>\n",
       "</table>\n",
       "<p>23372 rows × 2 columns</p>\n",
       "</div>"
      ],
      "text/plain": [
       "                                       title              original_title\n",
       "0              La vendetta dei morti viventi  Raiders of the Living Dead\n",
       "1                   Un inguaribile romantico         So This Is Romance?\n",
       "13     L'assassino ha prenotato la tua morte          Le temps de mourir\n",
       "16                              24 ore donna           The 24 Hour Woman\n",
       "17                               La trappola                    Ambushed\n",
       "...                                      ...                         ...\n",
       "85830             Arlington Road - L'inganno              Arlington Road\n",
       "85834               Tre colpi che frantumano           Ma tou da jue dou\n",
       "85835                     Racconto d'autunno             Conte d'automne\n",
       "85841               Relazione extraconiugale                Extramarital\n",
       "85844                      Rischio d'impatto              Ground Control\n",
       "\n",
       "[23372 rows x 2 columns]"
      ]
     },
     "execution_count": 96,
     "metadata": {},
     "output_type": "execute_result"
    }
   ],
   "source": [
    "movies[movies['title'] != movies['original_title']][['title', 'original_title']]"
   ]
  },
  {
   "cell_type": "code",
   "execution_count": 97,
   "id": "582d7ee0",
   "metadata": {},
   "outputs": [
    {
     "data": {
      "text/plain": [
       "53848    1925\n",
       "10741    1995\n",
       "70992    1976\n",
       "85349    1997\n",
       "65949    1966\n",
       "73080    1980\n",
       "6538     1988\n",
       "69063    1972\n",
       "3280     1969\n",
       "49451    2018\n",
       "Name: date_published, dtype: object"
      ]
     },
     "execution_count": 97,
     "metadata": {},
     "output_type": "execute_result"
    }
   ],
   "source": [
    "movies[movies['date_published'].astype(str).str.len() != len(\"yyyy-mm-dd\")]['date_published'].sample(10)"
   ]
  },
  {
   "cell_type": "code",
   "execution_count": 98,
   "id": "a6f4ada8",
   "metadata": {},
   "outputs": [
    {
     "data": {
      "text/plain": [
       "0"
      ]
     },
     "execution_count": 98,
     "metadata": {},
     "output_type": "execute_result"
    }
   ],
   "source": [
    "movies['date_published'].isnull().sum()"
   ]
  },
  {
   "cell_type": "code",
   "execution_count": 99,
   "id": "71f7f1e4",
   "metadata": {},
   "outputs": [
    {
     "ename": "SyntaxError",
     "evalue": "invalid syntax (<ipython-input-99-fb77de13189d>, line 1)",
     "output_type": "error",
     "traceback": [
      "\u001b[0;36m  File \u001b[0;32m\"<ipython-input-99-fb77de13189d>\"\u001b[0;36m, line \u001b[0;32m1\u001b[0m\n\u001b[0;31m    movies[movies['year'] != movies['date_published'].astype(str).str.]\u001b[0m\n\u001b[0m                                                                      ^\u001b[0m\n\u001b[0;31mSyntaxError\u001b[0m\u001b[0;31m:\u001b[0m invalid syntax\n"
     ]
    }
   ],
   "source": [
    "movies[movies['year'] != movies['date_published'].astype(str).str.]"
   ]
  },
  {
   "cell_type": "code",
   "execution_count": 100,
   "id": "c5f6ebb4",
   "metadata": {},
   "outputs": [
    {
     "data": {
      "text/plain": [
       "0       1986-03-01\n",
       "1       1998-05-22\n",
       "2       1981-12-22\n",
       "3       1972-11-18\n",
       "4       1967-08-03\n",
       "           ...    \n",
       "85850   2000-01-20\n",
       "85851   1966-08-26\n",
       "85852   1954-01-01\n",
       "85853   1988-02-01\n",
       "85854   1970-01-01\n",
       "Name: date_published, Length: 85855, dtype: datetime64[ns]"
      ]
     },
     "execution_count": 100,
     "metadata": {},
     "output_type": "execute_result"
    }
   ],
   "source": [
    "date_check = pd.to_datetime(movies['date_published'])\n",
    "date_check"
   ]
  },
  {
   "cell_type": "code",
   "execution_count": 101,
   "id": "0c2b6fe3",
   "metadata": {},
   "outputs": [
    {
     "data": {
      "text/html": [
       "<div>\n",
       "<style scoped>\n",
       "    .dataframe tbody tr th:only-of-type {\n",
       "        vertical-align: middle;\n",
       "    }\n",
       "\n",
       "    .dataframe tbody tr th {\n",
       "        vertical-align: top;\n",
       "    }\n",
       "\n",
       "    .dataframe thead th {\n",
       "        text-align: right;\n",
       "    }\n",
       "</style>\n",
       "<table border=\"1\" class=\"dataframe\">\n",
       "  <thead>\n",
       "    <tr style=\"text-align: right;\">\n",
       "      <th></th>\n",
       "      <th>year</th>\n",
       "      <th>date_published</th>\n",
       "    </tr>\n",
       "  </thead>\n",
       "  <tbody>\n",
       "    <tr>\n",
       "      <th>1</th>\n",
       "      <td>1997</td>\n",
       "      <td>1998-05-22</td>\n",
       "    </tr>\n",
       "    <tr>\n",
       "      <th>4</th>\n",
       "      <td>1962</td>\n",
       "      <td>1967-08-03</td>\n",
       "    </tr>\n",
       "    <tr>\n",
       "      <th>6</th>\n",
       "      <td>1998</td>\n",
       "      <td>1999-02-19</td>\n",
       "    </tr>\n",
       "    <tr>\n",
       "      <th>9</th>\n",
       "      <td>1998</td>\n",
       "      <td>1999-02-26</td>\n",
       "    </tr>\n",
       "    <tr>\n",
       "      <th>12</th>\n",
       "      <td>1971</td>\n",
       "      <td>1973-06-29</td>\n",
       "    </tr>\n",
       "    <tr>\n",
       "      <th>...</th>\n",
       "      <td>...</td>\n",
       "      <td>...</td>\n",
       "    </tr>\n",
       "    <tr>\n",
       "      <th>85834</th>\n",
       "      <td>1973</td>\n",
       "      <td>1976</td>\n",
       "    </tr>\n",
       "    <tr>\n",
       "      <th>85843</th>\n",
       "      <td>1997</td>\n",
       "      <td>1998-05-15</td>\n",
       "    </tr>\n",
       "    <tr>\n",
       "      <th>85849</th>\n",
       "      <td>1998</td>\n",
       "      <td>2005-01-05</td>\n",
       "    </tr>\n",
       "    <tr>\n",
       "      <th>85850</th>\n",
       "      <td>1999</td>\n",
       "      <td>2000-01-20</td>\n",
       "    </tr>\n",
       "    <tr>\n",
       "      <th>85853</th>\n",
       "      <td>1987</td>\n",
       "      <td>1988-02-01</td>\n",
       "    </tr>\n",
       "  </tbody>\n",
       "</table>\n",
       "<p>17818 rows × 2 columns</p>\n",
       "</div>"
      ],
      "text/plain": [
       "       year date_published\n",
       "1      1997     1998-05-22\n",
       "4      1962     1967-08-03\n",
       "6      1998     1999-02-19\n",
       "9      1998     1999-02-26\n",
       "12     1971     1973-06-29\n",
       "...     ...            ...\n",
       "85834  1973           1976\n",
       "85843  1997     1998-05-15\n",
       "85849  1998     2005-01-05\n",
       "85850  1999     2000-01-20\n",
       "85853  1987     1988-02-01\n",
       "\n",
       "[17818 rows x 2 columns]"
      ]
     },
     "execution_count": 101,
     "metadata": {},
     "output_type": "execute_result"
    }
   ],
   "source": [
    "movies[date_check.dt.year != movies['year'].astype(int)][['year', 'date_published']]"
   ]
  },
  {
   "cell_type": "code",
   "execution_count": 102,
   "id": "50038115",
   "metadata": {},
   "outputs": [
    {
     "data": {
      "text/html": [
       "<div>\n",
       "<style scoped>\n",
       "    .dataframe tbody tr th:only-of-type {\n",
       "        vertical-align: middle;\n",
       "    }\n",
       "\n",
       "    .dataframe tbody tr th {\n",
       "        vertical-align: top;\n",
       "    }\n",
       "\n",
       "    .dataframe thead th {\n",
       "        text-align: right;\n",
       "    }\n",
       "</style>\n",
       "<table border=\"1\" class=\"dataframe\">\n",
       "  <thead>\n",
       "    <tr style=\"text-align: right;\">\n",
       "      <th></th>\n",
       "      <th>budget</th>\n",
       "      <th>usa_gross_income</th>\n",
       "      <th>worlwide_gross_income</th>\n",
       "    </tr>\n",
       "  </thead>\n",
       "  <tbody>\n",
       "    <tr>\n",
       "      <th>19992</th>\n",
       "      <td>$ 1000000</td>\n",
       "      <td>$ 6870</td>\n",
       "      <td>$ 6870</td>\n",
       "    </tr>\n",
       "    <tr>\n",
       "      <th>45963</th>\n",
       "      <td>$ 12000000</td>\n",
       "      <td>$ 50722</td>\n",
       "      <td>$ 242115</td>\n",
       "    </tr>\n",
       "    <tr>\n",
       "      <th>28641</th>\n",
       "      <td>$ 1000000</td>\n",
       "      <td>$ 18464</td>\n",
       "      <td>$ 638274</td>\n",
       "    </tr>\n",
       "    <tr>\n",
       "      <th>7337</th>\n",
       "      <td>$ 56000000</td>\n",
       "      <td>$ 12882934</td>\n",
       "      <td>$ 12923936</td>\n",
       "    </tr>\n",
       "    <tr>\n",
       "      <th>17350</th>\n",
       "      <td>$ 30000000</td>\n",
       "      <td>$ 22537881</td>\n",
       "      <td>$ 27437881</td>\n",
       "    </tr>\n",
       "    <tr>\n",
       "      <th>74037</th>\n",
       "      <td>$ 17000000</td>\n",
       "      <td>$ 33000000</td>\n",
       "      <td>$ 33000000</td>\n",
       "    </tr>\n",
       "    <tr>\n",
       "      <th>74531</th>\n",
       "      <td>$ 8000000</td>\n",
       "      <td>$ 108423489</td>\n",
       "      <td>$ 108423489</td>\n",
       "    </tr>\n",
       "    <tr>\n",
       "      <th>4431</th>\n",
       "      <td>$ 75000000</td>\n",
       "      <td>$ 95011339</td>\n",
       "      <td>$ 248118121</td>\n",
       "    </tr>\n",
       "    <tr>\n",
       "      <th>15483</th>\n",
       "      <td>$ 130000000</td>\n",
       "      <td>$ 219964115</td>\n",
       "      <td>$ 459242249</td>\n",
       "    </tr>\n",
       "    <tr>\n",
       "      <th>28610</th>\n",
       "      <td>$ 5000000</td>\n",
       "      <td>$ 9206470</td>\n",
       "      <td>$ 10173061</td>\n",
       "    </tr>\n",
       "  </tbody>\n",
       "</table>\n",
       "</div>"
      ],
      "text/plain": [
       "            budget usa_gross_income worlwide_gross_income\n",
       "19992    $ 1000000           $ 6870                $ 6870\n",
       "45963   $ 12000000          $ 50722              $ 242115\n",
       "28641    $ 1000000          $ 18464              $ 638274\n",
       "7337    $ 56000000       $ 12882934            $ 12923936\n",
       "17350   $ 30000000       $ 22537881            $ 27437881\n",
       "74037   $ 17000000       $ 33000000            $ 33000000\n",
       "74531    $ 8000000      $ 108423489           $ 108423489\n",
       "4431    $ 75000000       $ 95011339           $ 248118121\n",
       "15483  $ 130000000      $ 219964115           $ 459242249\n",
       "28610    $ 5000000        $ 9206470            $ 10173061"
      ]
     },
     "execution_count": 102,
     "metadata": {},
     "output_type": "execute_result"
    }
   ],
   "source": [
    "movies[[\"budget\", \"usa_gross_income\", \"worlwide_gross_income\"]].dropna().sample(10)"
   ]
  },
  {
   "cell_type": "code",
   "execution_count": 103,
   "id": "831245db",
   "metadata": {},
   "outputs": [],
   "source": [
    "non_usd_currency = movies[~movies['budget'].astype(str).str.startswith('$')]['budget'].dropna()"
   ]
  },
  {
   "cell_type": "code",
   "execution_count": 104,
   "id": "0c621862",
   "metadata": {},
   "outputs": [],
   "source": [
    "list_of_curr = non_usd_currency.astype(str).str.slice(0,3).unique().tolist()"
   ]
  },
  {
   "cell_type": "code",
   "execution_count": 105,
   "id": "dc73594f",
   "metadata": {},
   "outputs": [
    {
     "data": {
      "text/plain": [
       "78"
      ]
     },
     "execution_count": 105,
     "metadata": {},
     "output_type": "execute_result"
    }
   ],
   "source": [
    "len(list_of_curr)"
   ]
  },
  {
   "cell_type": "code",
   "execution_count": 106,
   "id": "837da661",
   "metadata": {},
   "outputs": [],
   "source": [
    "non_usd_currency = movies[~movies['usa_gross_income'].astype(str).str.startswith('$')]['usa_gross_income'].dropna()\n",
    "list_of_curr.extend(non_usd_currency.astype(str).str.slice(0,3).unique().tolist())"
   ]
  },
  {
   "cell_type": "code",
   "execution_count": 107,
   "id": "792276eb",
   "metadata": {},
   "outputs": [
    {
     "data": {
      "text/plain": [
       "81"
      ]
     },
     "execution_count": 107,
     "metadata": {},
     "output_type": "execute_result"
    }
   ],
   "source": [
    "len(list_of_curr)"
   ]
  },
  {
   "cell_type": "code",
   "execution_count": 108,
   "id": "768c0291",
   "metadata": {},
   "outputs": [],
   "source": [
    "non_usd_currency = movies[~movies['worlwide_gross_income'].astype(str).str.startswith('$')]['worlwide_gross_income'].dropna()\n",
    "list_of_curr.extend(non_usd_currency.astype(str).str.slice(0,3).unique().tolist())"
   ]
  },
  {
   "cell_type": "code",
   "execution_count": 109,
   "id": "fbbeff23",
   "metadata": {},
   "outputs": [
    {
     "data": {
      "text/plain": [
       "85"
      ]
     },
     "execution_count": 109,
     "metadata": {},
     "output_type": "execute_result"
    }
   ],
   "source": [
    "len(list_of_curr)"
   ]
  },
  {
   "cell_type": "code",
   "execution_count": 110,
   "id": "0c1aaeb5",
   "metadata": {},
   "outputs": [
    {
     "name": "stdout",
     "output_type": "stream",
     "text": [
      "78\n"
     ]
    }
   ],
   "source": [
    "set_of_curr = set(list_of_curr)\n",
    "print(len(set_of_curr))"
   ]
  },
  {
   "cell_type": "code",
   "execution_count": 111,
   "id": "97510733",
   "metadata": {},
   "outputs": [
    {
     "data": {
      "text/html": [
       "<div>\n",
       "<style scoped>\n",
       "    .dataframe tbody tr th:only-of-type {\n",
       "        vertical-align: middle;\n",
       "    }\n",
       "\n",
       "    .dataframe tbody tr th {\n",
       "        vertical-align: top;\n",
       "    }\n",
       "\n",
       "    .dataframe thead th {\n",
       "        text-align: right;\n",
       "    }\n",
       "</style>\n",
       "<table border=\"1\" class=\"dataframe\">\n",
       "  <thead>\n",
       "    <tr style=\"text-align: right;\">\n",
       "      <th></th>\n",
       "      <th>imdb_name_id</th>\n",
       "      <th>name</th>\n",
       "      <th>birth_name</th>\n",
       "      <th>height</th>\n",
       "      <th>bio</th>\n",
       "      <th>birth_details</th>\n",
       "      <th>date_of_birth</th>\n",
       "      <th>place_of_birth</th>\n",
       "      <th>death_details</th>\n",
       "      <th>date_of_death</th>\n",
       "      <th>place_of_death</th>\n",
       "      <th>reason_of_death</th>\n",
       "      <th>spouses_string</th>\n",
       "      <th>spouses</th>\n",
       "      <th>divorces</th>\n",
       "      <th>spouses_with_children</th>\n",
       "      <th>children</th>\n",
       "      <th>created_date</th>\n",
       "    </tr>\n",
       "  </thead>\n",
       "  <tbody>\n",
       "    <tr>\n",
       "      <th>0</th>\n",
       "      <td>nm0262745</td>\n",
       "      <td>Estelle Evans</td>\n",
       "      <td>Estelle Evans</td>\n",
       "      <td>None</td>\n",
       "      <td>Estelle Evans was born on October 1, 1906 in R...</td>\n",
       "      <td>October 1, 1906 in Rolle Town, Bahamas</td>\n",
       "      <td>1906-10-01</td>\n",
       "      <td>Rolle Town, Bahamas</td>\n",
       "      <td>July 20, 1985 in New York City, New York, USA ...</td>\n",
       "      <td>1985-07-20</td>\n",
       "      <td>New York City, New York, USA</td>\n",
       "      <td>undisclosed</td>\n",
       "      <td>None</td>\n",
       "      <td>0</td>\n",
       "      <td>0</td>\n",
       "      <td>0</td>\n",
       "      <td>0</td>\n",
       "      <td>2022-01-05 01:29:06.999280</td>\n",
       "    </tr>\n",
       "    <tr>\n",
       "      <th>1</th>\n",
       "      <td>nm0262748</td>\n",
       "      <td>Evans Evans</td>\n",
       "      <td>Evans Evans</td>\n",
       "      <td>None</td>\n",
       "      <td>Evans Evans was born on November 26, 1936 in B...</td>\n",
       "      <td>November 26, 1936 in Bluefield, West Virginia,...</td>\n",
       "      <td>1936-11-26</td>\n",
       "      <td>Bluefield, West Virginia, USA</td>\n",
       "      <td>None</td>\n",
       "      <td>None</td>\n",
       "      <td>None</td>\n",
       "      <td>None</td>\n",
       "      <td>John Frankenheimer  (13 December 1963 - 6 July...</td>\n",
       "      <td>1</td>\n",
       "      <td>0</td>\n",
       "      <td>0</td>\n",
       "      <td>0</td>\n",
       "      <td>2022-01-05 01:29:06.999280</td>\n",
       "    </tr>\n",
       "    <tr>\n",
       "      <th>2</th>\n",
       "      <td>nm0262753</td>\n",
       "      <td>Fiona Evans</td>\n",
       "      <td>Fiona Evans</td>\n",
       "      <td>None</td>\n",
       "      <td>Fiona Evans is an actress, known for Unmasked ...</td>\n",
       "      <td>None</td>\n",
       "      <td>None</td>\n",
       "      <td>None</td>\n",
       "      <td>None</td>\n",
       "      <td>None</td>\n",
       "      <td>None</td>\n",
       "      <td>None</td>\n",
       "      <td>None</td>\n",
       "      <td>0</td>\n",
       "      <td>0</td>\n",
       "      <td>0</td>\n",
       "      <td>0</td>\n",
       "      <td>2022-01-05 01:29:06.999280</td>\n",
       "    </tr>\n",
       "    <tr>\n",
       "      <th>3</th>\n",
       "      <td>nm0262758</td>\n",
       "      <td>Frank Evans</td>\n",
       "      <td>Frank Evans</td>\n",
       "      <td>None</td>\n",
       "      <td>None</td>\n",
       "      <td>September 3, 1899 in Kansas, USA</td>\n",
       "      <td>1899-09-03</td>\n",
       "      <td>Kansas, USA</td>\n",
       "      <td>March 16, 1976 in Los Angeles, California, USA</td>\n",
       "      <td>1976-03-16</td>\n",
       "      <td>Los Angeles, California, USA</td>\n",
       "      <td>None</td>\n",
       "      <td>None</td>\n",
       "      <td>0</td>\n",
       "      <td>0</td>\n",
       "      <td>0</td>\n",
       "      <td>0</td>\n",
       "      <td>2022-01-05 01:29:06.999280</td>\n",
       "    </tr>\n",
       "    <tr>\n",
       "      <th>4</th>\n",
       "      <td>nm0262762</td>\n",
       "      <td>François Evans</td>\n",
       "      <td>François Evans</td>\n",
       "      <td>165.0</td>\n",
       "      <td>François Evans was born on August 7, 1965 in L...</td>\n",
       "      <td>August 7, 1965 in London, England, UK</td>\n",
       "      <td>1965-08-07</td>\n",
       "      <td>London, England, UK</td>\n",
       "      <td>None</td>\n",
       "      <td>None</td>\n",
       "      <td>None</td>\n",
       "      <td>None</td>\n",
       "      <td>None</td>\n",
       "      <td>0</td>\n",
       "      <td>0</td>\n",
       "      <td>0</td>\n",
       "      <td>0</td>\n",
       "      <td>2022-01-05 01:29:06.999280</td>\n",
       "    </tr>\n",
       "  </tbody>\n",
       "</table>\n",
       "</div>"
      ],
      "text/plain": [
       "  imdb_name_id            name      birth_name height  \\\n",
       "0    nm0262745   Estelle Evans   Estelle Evans   None   \n",
       "1    nm0262748     Evans Evans     Evans Evans   None   \n",
       "2    nm0262753     Fiona Evans     Fiona Evans   None   \n",
       "3    nm0262758     Frank Evans     Frank Evans   None   \n",
       "4    nm0262762  François Evans  François Evans  165.0   \n",
       "\n",
       "                                                 bio  \\\n",
       "0  Estelle Evans was born on October 1, 1906 in R...   \n",
       "1  Evans Evans was born on November 26, 1936 in B...   \n",
       "2  Fiona Evans is an actress, known for Unmasked ...   \n",
       "3                                               None   \n",
       "4  François Evans was born on August 7, 1965 in L...   \n",
       "\n",
       "                                       birth_details date_of_birth  \\\n",
       "0             October 1, 1906 in Rolle Town, Bahamas    1906-10-01   \n",
       "1  November 26, 1936 in Bluefield, West Virginia,...    1936-11-26   \n",
       "2                                               None          None   \n",
       "3                   September 3, 1899 in Kansas, USA    1899-09-03   \n",
       "4              August 7, 1965 in London, England, UK    1965-08-07   \n",
       "\n",
       "                  place_of_birth  \\\n",
       "0            Rolle Town, Bahamas   \n",
       "1  Bluefield, West Virginia, USA   \n",
       "2                           None   \n",
       "3                    Kansas, USA   \n",
       "4            London, England, UK   \n",
       "\n",
       "                                       death_details date_of_death  \\\n",
       "0  July 20, 1985 in New York City, New York, USA ...    1985-07-20   \n",
       "1                                               None          None   \n",
       "2                                               None          None   \n",
       "3     March 16, 1976 in Los Angeles, California, USA    1976-03-16   \n",
       "4                                               None          None   \n",
       "\n",
       "                   place_of_death reason_of_death  \\\n",
       "0  New York City, New York, USA       undisclosed   \n",
       "1                            None            None   \n",
       "2                            None            None   \n",
       "3    Los Angeles, California, USA            None   \n",
       "4                            None            None   \n",
       "\n",
       "                                      spouses_string spouses divorces  \\\n",
       "0                                               None       0        0   \n",
       "1  John Frankenheimer  (13 December 1963 - 6 July...       1        0   \n",
       "2                                               None       0        0   \n",
       "3                                               None       0        0   \n",
       "4                                               None       0        0   \n",
       "\n",
       "  spouses_with_children children               created_date  \n",
       "0                     0        0 2022-01-05 01:29:06.999280  \n",
       "1                     0        0 2022-01-05 01:29:06.999280  \n",
       "2                     0        0 2022-01-05 01:29:06.999280  \n",
       "3                     0        0 2022-01-05 01:29:06.999280  \n",
       "4                     0        0 2022-01-05 01:29:06.999280  "
      ]
     },
     "execution_count": 111,
     "metadata": {},
     "output_type": "execute_result"
    }
   ],
   "source": [
    "names.head()"
   ]
  },
  {
   "cell_type": "code",
   "execution_count": 112,
   "id": "da85b741",
   "metadata": {},
   "outputs": [
    {
     "data": {
      "text/plain": [
       "reason_of_death    92.377018\n",
       "place_of_death     87.558825\n",
       "death_details      86.586386\n",
       "date_of_death      86.586386\n",
       "height             84.991518\n",
       "spouses_string     84.766128\n",
       "place_of_birth     65.068776\n",
       "birth_details      62.845098\n",
       "date_of_birth      62.845098\n",
       "bio                31.241330\n",
       "dtype: float64"
      ]
     },
     "execution_count": 112,
     "metadata": {},
     "output_type": "execute_result"
    }
   ],
   "source": [
    "null_names_pct = names.isnull().sum() / len(names) * 100\n",
    "null_names_pct.where(null_names_pct > 0).dropna().sort_values(ascending=False)"
   ]
  },
  {
   "cell_type": "code",
   "execution_count": 113,
   "id": "8f0e143d",
   "metadata": {},
   "outputs": [
    {
     "data": {
      "text/plain": [
       "imdb_name_id                     object\n",
       "name                             object\n",
       "birth_name                       object\n",
       "height                           object\n",
       "bio                              object\n",
       "birth_details                    object\n",
       "date_of_birth                    object\n",
       "place_of_birth                   object\n",
       "death_details                    object\n",
       "date_of_death                    object\n",
       "place_of_death                   object\n",
       "reason_of_death                  object\n",
       "spouses_string                   object\n",
       "spouses                          object\n",
       "divorces                         object\n",
       "spouses_with_children            object\n",
       "children                         object\n",
       "created_date             datetime64[ns]\n",
       "dtype: object"
      ]
     },
     "execution_count": 113,
     "metadata": {},
     "output_type": "execute_result"
    }
   ],
   "source": [
    "names.dtypes"
   ]
  },
  {
   "cell_type": "code",
   "execution_count": 114,
   "id": "036cbecc",
   "metadata": {},
   "outputs": [
    {
     "name": "stdout",
     "output_type": "stream",
     "text": [
      "False\n"
     ]
    }
   ],
   "source": [
    "print(names.duplicated(subset=['imdb_name_id']).any())"
   ]
  },
  {
   "cell_type": "code",
   "execution_count": 115,
   "id": "d2231a49",
   "metadata": {},
   "outputs": [
    {
     "name": "stdout",
     "output_type": "stream",
     "text": [
      "name\n",
      "birth_name\n",
      "bio\n",
      "birth_details\n",
      "date_of_birth\n",
      "place_of_birth\n",
      "death_details\n",
      "date_of_death\n",
      "place_of_death\n",
      "reason_of_death\n",
      "spouses_string\n"
     ]
    }
   ],
   "source": [
    "for col in names: \n",
    "    if names[col].astype(str).str.contains(',').any():\n",
    "        print(col)"
   ]
  },
  {
   "cell_type": "code",
   "execution_count": 116,
   "id": "73c88a56",
   "metadata": {},
   "outputs": [
    {
     "data": {
      "text/html": [
       "<div>\n",
       "<style scoped>\n",
       "    .dataframe tbody tr th:only-of-type {\n",
       "        vertical-align: middle;\n",
       "    }\n",
       "\n",
       "    .dataframe tbody tr th {\n",
       "        vertical-align: top;\n",
       "    }\n",
       "\n",
       "    .dataframe thead th {\n",
       "        text-align: right;\n",
       "    }\n",
       "</style>\n",
       "<table border=\"1\" class=\"dataframe\">\n",
       "  <thead>\n",
       "    <tr style=\"text-align: right;\">\n",
       "      <th></th>\n",
       "      <th>place_of_birth</th>\n",
       "      <th>date_of_birth</th>\n",
       "      <th>place_of_death</th>\n",
       "      <th>date_of_death</th>\n",
       "    </tr>\n",
       "  </thead>\n",
       "  <tbody>\n",
       "    <tr>\n",
       "      <th>13640</th>\n",
       "      <td>Southwark, London, England, UK</td>\n",
       "      <td>1904 in Southwark, London, England, UK</td>\n",
       "      <td>Buckinghamshire, England, UK</td>\n",
       "      <td>1968 in Buckinghamshire, England, UK</td>\n",
       "    </tr>\n",
       "    <tr>\n",
       "      <th>273966</th>\n",
       "      <td>Riverstone, New South Wales, Australia</td>\n",
       "      <td>1906 in Riverstone, New South Wales, Australia</td>\n",
       "      <td>Los Angeles, California, USA</td>\n",
       "      <td>1972-07-10</td>\n",
       "    </tr>\n",
       "    <tr>\n",
       "      <th>34235</th>\n",
       "      <td>London, England, UK</td>\n",
       "      <td>c. 1914 in London, England, UK</td>\n",
       "      <td>Auckland, New Zealand</td>\n",
       "      <td>1999-05-21</td>\n",
       "    </tr>\n",
       "    <tr>\n",
       "      <th>297079</th>\n",
       "      <td>Newport News, Virginia, USA</td>\n",
       "      <td>1919 in Newport News, Virginia, USA</td>\n",
       "      <td>Atlanta, Georgia, USA</td>\n",
       "      <td>1983 in Atlanta, Georgia, USA  (heart attack)</td>\n",
       "    </tr>\n",
       "    <tr>\n",
       "      <th>272710</th>\n",
       "      <td>Philadelphia, Pennsylvania, USA</td>\n",
       "      <td>1898 in Philadelphia, Pennsylvania, USA</td>\n",
       "      <td>Philadelphia, Pennsylvania, USA</td>\n",
       "      <td>1984-11-01</td>\n",
       "    </tr>\n",
       "    <tr>\n",
       "      <th>61212</th>\n",
       "      <td>Grodno, Poland, Russian Empire [now Hrodna, Be...</td>\n",
       "      <td>1915 in Grodno, Poland, Russian Empire [now Hr...</td>\n",
       "      <td>Lódz, Lódzkie, Poland</td>\n",
       "      <td>1975-09-28</td>\n",
       "    </tr>\n",
       "    <tr>\n",
       "      <th>265702</th>\n",
       "      <td>Tashkent, USSR</td>\n",
       "      <td>1924 in Tashkent, USSR</td>\n",
       "      <td>Tashkent, Uzbekistan</td>\n",
       "      <td>2015-06-12</td>\n",
       "    </tr>\n",
       "    <tr>\n",
       "      <th>84874</th>\n",
       "      <td>Szeged, Hungary</td>\n",
       "      <td>1903 in Szeged, Hungary</td>\n",
       "      <td>Rome, Italy</td>\n",
       "      <td>1981-02-07</td>\n",
       "    </tr>\n",
       "    <tr>\n",
       "      <th>77759</th>\n",
       "      <td>London, England, UK</td>\n",
       "      <td>1866 in London, England, UK</td>\n",
       "      <td>Los Angeles, California, USA</td>\n",
       "      <td>1920-03-21</td>\n",
       "    </tr>\n",
       "    <tr>\n",
       "      <th>282456</th>\n",
       "      <td>Calcutta, Bengal Presidency, British India</td>\n",
       "      <td>1902 in Calcutta, Bengal Presidency, British I...</td>\n",
       "      <td>Calcutta, West Bengal, India</td>\n",
       "      <td>1980 in Calcutta, West Bengal, India</td>\n",
       "    </tr>\n",
       "    <tr>\n",
       "      <th>32125</th>\n",
       "      <td>Amdosuo, Tibet</td>\n",
       "      <td>1971 in Amdosuo, Tibet</td>\n",
       "      <td>Labrang, Tibet</td>\n",
       "      <td>2016-06-29</td>\n",
       "    </tr>\n",
       "    <tr>\n",
       "      <th>70023</th>\n",
       "      <td>Barcelona, Catalonia, Spain</td>\n",
       "      <td>1906 in Barcelona, Catalonia, Spain</td>\n",
       "      <td>Barcelona, Cataluña, Spain</td>\n",
       "      <td>1974-05-09</td>\n",
       "    </tr>\n",
       "    <tr>\n",
       "      <th>287801</th>\n",
       "      <td>Geneva, New York, USA</td>\n",
       "      <td>1947 in Geneva, New York, USA</td>\n",
       "      <td>Winston-Salem, North Carolina, USA</td>\n",
       "      <td>2016-04-30</td>\n",
       "    </tr>\n",
       "    <tr>\n",
       "      <th>21377</th>\n",
       "      <td>Winnipeg, Manitoba, Canada</td>\n",
       "      <td>1914 in Winnipeg, Manitoba, Canada</td>\n",
       "      <td>Toronto, Ontario, Canada</td>\n",
       "      <td>1981-07-04</td>\n",
       "    </tr>\n",
       "    <tr>\n",
       "      <th>53297</th>\n",
       "      <td>Le Cateau-Cambrésis, Nord, France</td>\n",
       "      <td>1900 in Le Cateau-Cambrésis, Nord, France</td>\n",
       "      <td>Monaco</td>\n",
       "      <td>1985-12-10</td>\n",
       "    </tr>\n",
       "    <tr>\n",
       "      <th>56101</th>\n",
       "      <td>Kakinada, Andhra Pradesh, India</td>\n",
       "      <td>1915 in Kakinada, Andhra Pradesh, India</td>\n",
       "      <td>Madras, Tamilnadu, India</td>\n",
       "      <td>1990-01-25</td>\n",
       "    </tr>\n",
       "    <tr>\n",
       "      <th>58552</th>\n",
       "      <td>Uberlândia, Minas Gerais, Brazil</td>\n",
       "      <td>1950 in Uberlândia, Minas Gerais, Brazil</td>\n",
       "      <td>Brasília, Distrito Federal, Brazil</td>\n",
       "      <td>1993-09-01</td>\n",
       "    </tr>\n",
       "    <tr>\n",
       "      <th>60283</th>\n",
       "      <td>Gijón, Asturias, Spain</td>\n",
       "      <td>1943 in Gijón, Asturias, Spain</td>\n",
       "      <td>Gijón, Asturias, Spain</td>\n",
       "      <td>2014-02-24</td>\n",
       "    </tr>\n",
       "    <tr>\n",
       "      <th>6071</th>\n",
       "      <td>Badajoz, Badajoz, Extremadura, Spain</td>\n",
       "      <td>1945 in Badajoz, Badajoz, Extremadura, Spain</td>\n",
       "      <td>Dos Hermanas, Seville, Andalucía, Spain</td>\n",
       "      <td>2014-09-22</td>\n",
       "    </tr>\n",
       "    <tr>\n",
       "      <th>262805</th>\n",
       "      <td>Karaman, Turkey</td>\n",
       "      <td>1942 in Karaman, Turkey</td>\n",
       "      <td>Istanbul, Turkey</td>\n",
       "      <td>1997-10-19</td>\n",
       "    </tr>\n",
       "  </tbody>\n",
       "</table>\n",
       "</div>"
      ],
      "text/plain": [
       "                                           place_of_birth  \\\n",
       "13640                      Southwark, London, England, UK   \n",
       "273966             Riverstone, New South Wales, Australia   \n",
       "34235                                 London, England, UK   \n",
       "297079                        Newport News, Virginia, USA   \n",
       "272710                    Philadelphia, Pennsylvania, USA   \n",
       "61212   Grodno, Poland, Russian Empire [now Hrodna, Be...   \n",
       "265702                                     Tashkent, USSR   \n",
       "84874                                     Szeged, Hungary   \n",
       "77759                                 London, England, UK   \n",
       "282456         Calcutta, Bengal Presidency, British India   \n",
       "32125                                      Amdosuo, Tibet   \n",
       "70023                         Barcelona, Catalonia, Spain   \n",
       "287801                              Geneva, New York, USA   \n",
       "21377                          Winnipeg, Manitoba, Canada   \n",
       "53297                   Le Cateau-Cambrésis, Nord, France   \n",
       "56101                     Kakinada, Andhra Pradesh, India   \n",
       "58552                    Uberlândia, Minas Gerais, Brazil   \n",
       "60283                              Gijón, Asturias, Spain   \n",
       "6071                 Badajoz, Badajoz, Extremadura, Spain   \n",
       "262805                                    Karaman, Turkey   \n",
       "\n",
       "                                            date_of_birth  \\\n",
       "13640              1904 in Southwark, London, England, UK   \n",
       "273966     1906 in Riverstone, New South Wales, Australia   \n",
       "34235                      c. 1914 in London, England, UK   \n",
       "297079                1919 in Newport News, Virginia, USA   \n",
       "272710            1898 in Philadelphia, Pennsylvania, USA   \n",
       "61212   1915 in Grodno, Poland, Russian Empire [now Hr...   \n",
       "265702                             1924 in Tashkent, USSR   \n",
       "84874                             1903 in Szeged, Hungary   \n",
       "77759                         1866 in London, England, UK   \n",
       "282456  1902 in Calcutta, Bengal Presidency, British I...   \n",
       "32125                              1971 in Amdosuo, Tibet   \n",
       "70023                 1906 in Barcelona, Catalonia, Spain   \n",
       "287801                      1947 in Geneva, New York, USA   \n",
       "21377                  1914 in Winnipeg, Manitoba, Canada   \n",
       "53297           1900 in Le Cateau-Cambrésis, Nord, France   \n",
       "56101             1915 in Kakinada, Andhra Pradesh, India   \n",
       "58552            1950 in Uberlândia, Minas Gerais, Brazil   \n",
       "60283                      1943 in Gijón, Asturias, Spain   \n",
       "6071         1945 in Badajoz, Badajoz, Extremadura, Spain   \n",
       "262805                            1942 in Karaman, Turkey   \n",
       "\n",
       "                                 place_of_death  \\\n",
       "13640              Buckinghamshire, England, UK   \n",
       "273966             Los Angeles, California, USA   \n",
       "34235                   Auckland, New Zealand     \n",
       "297079                  Atlanta, Georgia, USA     \n",
       "272710          Philadelphia, Pennsylvania, USA   \n",
       "61212                     Lódz, Lódzkie, Poland   \n",
       "265702                     Tashkent, Uzbekistan   \n",
       "84874                               Rome, Italy   \n",
       "77759            Los Angeles, California, USA     \n",
       "282456             Calcutta, West Bengal, India   \n",
       "32125                          Labrang, Tibet     \n",
       "70023                Barcelona, Cataluña, Spain   \n",
       "287801     Winston-Salem, North Carolina, USA     \n",
       "21377                  Toronto, Ontario, Canada   \n",
       "53297                                    Monaco   \n",
       "56101                Madras, Tamilnadu, India     \n",
       "58552      Brasília, Distrito Federal, Brazil     \n",
       "60283                  Gijón, Asturias, Spain     \n",
       "6071    Dos Hermanas, Seville, Andalucía, Spain   \n",
       "262805                         Istanbul, Turkey   \n",
       "\n",
       "                                        date_of_death  \n",
       "13640            1968 in Buckinghamshire, England, UK  \n",
       "273966                                     1972-07-10  \n",
       "34235                                      1999-05-21  \n",
       "297079  1983 in Atlanta, Georgia, USA  (heart attack)  \n",
       "272710                                     1984-11-01  \n",
       "61212                                      1975-09-28  \n",
       "265702                                     2015-06-12  \n",
       "84874                                      1981-02-07  \n",
       "77759                                      1920-03-21  \n",
       "282456           1980 in Calcutta, West Bengal, India  \n",
       "32125                                      2016-06-29  \n",
       "70023                                      1974-05-09  \n",
       "287801                                     2016-04-30  \n",
       "21377                                      1981-07-04  \n",
       "53297                                      1985-12-10  \n",
       "56101                                      1990-01-25  \n",
       "58552                                      1993-09-01  \n",
       "60283                                      2014-02-24  \n",
       "6071                                       2014-09-22  \n",
       "262805                                     1997-10-19  "
      ]
     },
     "execution_count": 116,
     "metadata": {},
     "output_type": "execute_result"
    }
   ],
   "source": [
    "names[names['date_of_birth'].astype(str).str.contains(',')][['place_of_birth','date_of_birth','place_of_death','date_of_death']].dropna().sample(20)"
   ]
  },
  {
   "cell_type": "code",
   "execution_count": 189,
   "id": "60f40929",
   "metadata": {},
   "outputs": [],
   "source": [
    "names_from_comma = set()\n",
    "for idx, val in movies[~movies['director'].str.title()\n",
    "                      .isin([x.title().strip() for x in names['name'].to_list()])]['director'].str.split(',').items():\n",
    "    try:\n",
    "        names_list = [str.title().strip() for str in val]\n",
    "        names_from_comma.update(names_list)\n",
    "    except:\n",
    "        pass"
   ]
  },
  {
   "cell_type": "code",
   "execution_count": 190,
   "id": "149162bc",
   "metadata": {},
   "outputs": [
    {
     "name": "stdout",
     "output_type": "stream",
     "text": [
      "1\n"
     ]
    }
   ],
   "source": [
    "names_diff_dir = names_from_comma - set([s.title().strip() for s in names['name']])\n",
    "print(len(names_diff))"
   ]
  },
  {
   "cell_type": "code",
   "execution_count": 193,
   "id": "8cb0e654",
   "metadata": {},
   "outputs": [
    {
     "name": "stdout",
     "output_type": "stream",
     "text": [
      "{'Ewelina Lukaszewska'}\n"
     ]
    }
   ],
   "source": [
    "print(names_diff_dir)"
   ]
  },
  {
   "cell_type": "code",
   "execution_count": 194,
   "id": "f08b81c2",
   "metadata": {},
   "outputs": [
    {
     "data": {
      "text/plain": [
       "0                  Samuel M. Sherman, Brett Piper\n",
       "2                     Renato Aragão, Luis Bacalov\n",
       "4                 Harold Bonnett, John T. Chapman\n",
       "5               Daniel Erickson, David Lane Smith\n",
       "6                Nathan Long, Richard Preston Jr.\n",
       "                           ...                   \n",
       "85846                Seppo Huunonen, Lionel White\n",
       "85847        Erkko Kivikoski, Marja-Leena Mikkola\n",
       "85849             Frank Rehwaldt, George Saunders\n",
       "85851                 Ere Kokkonen, Spede Pasanen\n",
       "85852    Rajinder Singh Bedi, Saadat Hassan Manto\n",
       "Name: writer, Length: 55242, dtype: object"
      ]
     },
     "execution_count": 194,
     "metadata": {},
     "output_type": "execute_result"
    }
   ],
   "source": [
    "name_list = names['name'].to_list()\n",
    "writer_names = movies[~movies['writer'].str.title().isin([x.title().strip() for x in name_list])]['writer'].dropna()\n",
    "writer_names"
   ]
  },
  {
   "cell_type": "code",
   "execution_count": 195,
   "id": "224aa93e",
   "metadata": {},
   "outputs": [
    {
     "name": "stdout",
     "output_type": "stream",
     "text": [
      "51482\n"
     ]
    }
   ],
   "source": [
    "writer_name_set = set()\n",
    "for idx, writer in writer_names.str.split(',').items():\n",
    "    names_list = [x.title().strip() for x in writer]\n",
    "    writer_name_set.update(names_list)\n",
    "    \n",
    "print(len(writer_name_set))"
   ]
  },
  {
   "cell_type": "code",
   "execution_count": 196,
   "id": "a0b40feb",
   "metadata": {},
   "outputs": [],
   "source": [
    "# writer_name_set = set()\n",
    "# for writer in writer_names:\n",
    "#     names_list = [x.title().strip() for x in writer.split(',')]\n",
    "#     writer_name_set.update(names_list)\n",
    "    \n",
    "# print(writer_name_set)"
   ]
  },
  {
   "cell_type": "code",
   "execution_count": 197,
   "id": "8a1eb856",
   "metadata": {},
   "outputs": [
    {
     "name": "stdout",
     "output_type": "stream",
     "text": [
      "0\n"
     ]
    }
   ],
   "source": [
    "name_diff_wir = writer_name_set - set([x.title().strip() for x in name_list])\n",
    "print(len(name_diff))"
   ]
  },
  {
   "cell_type": "code",
   "execution_count": 200,
   "id": "4fd373a3",
   "metadata": {},
   "outputs": [
    {
     "data": {
      "text/plain": [
       "87"
      ]
     },
     "execution_count": 200,
     "metadata": {},
     "output_type": "execute_result"
    }
   ],
   "source": [
    "name_diff = set() \n",
    "name_diff.update(names_diff_dir)\n",
    "name_diff.update(name_diff_wir)\n",
    "len(name_diff)"
   ]
  },
  {
   "cell_type": "code",
   "execution_count": 211,
   "id": "ff90b48b",
   "metadata": {},
   "outputs": [
    {
     "data": {
      "text/plain": [
       "list"
      ]
     },
     "execution_count": 211,
     "metadata": {},
     "output_type": "execute_result"
    }
   ],
   "source": [
    "actor_names = movies[~movies['actors'].str.title().isin([x.title().strip() for x in name_list])]['actors'].dropna().str.strip().to_list()\n",
    "type(actor_names)"
   ]
  },
  {
   "cell_type": "code",
   "execution_count": 212,
   "id": "340bcce4",
   "metadata": {},
   "outputs": [
    {
     "data": {
      "text/plain": [
       "417223"
      ]
     },
     "execution_count": 212,
     "metadata": {},
     "output_type": "execute_result"
    }
   ],
   "source": [
    "actor_names_comma = set()\n",
    "for actor in actor_names:\n",
    "    actor_list = [x.title().strip() for x in actor.split(',')]\n",
    "    actor_names_comma.update(actor_list)\n",
    "    \n",
    "len(actor_names_comma)"
   ]
  },
  {
   "cell_type": "code",
   "execution_count": 214,
   "id": "b23b224c",
   "metadata": {},
   "outputs": [
    {
     "name": "stdout",
     "output_type": "stream",
     "text": [
      "270445\n",
      "270520\n"
     ]
    }
   ],
   "source": [
    "name_diff_act = actor_names_comma - set([x.title().strip() for x in name_list])\n",
    "print(len(name_diff_act))\n",
    "name_diff.update(name_diff_act)\n",
    "print(len(name_diff))"
   ]
  },
  {
   "cell_type": "code",
   "execution_count": 215,
   "id": "f1fa4063",
   "metadata": {},
   "outputs": [],
   "source": [
    "ratings = pd.read_sql(\"stg_ratings\", conn)"
   ]
  },
  {
   "cell_type": "code",
   "execution_count": 216,
   "id": "837232e1",
   "metadata": {},
   "outputs": [
    {
     "data": {
      "text/html": [
       "<div>\n",
       "<style scoped>\n",
       "    .dataframe tbody tr th:only-of-type {\n",
       "        vertical-align: middle;\n",
       "    }\n",
       "\n",
       "    .dataframe tbody tr th {\n",
       "        vertical-align: top;\n",
       "    }\n",
       "\n",
       "    .dataframe thead th {\n",
       "        text-align: right;\n",
       "    }\n",
       "</style>\n",
       "<table border=\"1\" class=\"dataframe\">\n",
       "  <thead>\n",
       "    <tr style=\"text-align: right;\">\n",
       "      <th></th>\n",
       "      <th>imdb_title_id</th>\n",
       "      <th>weighted_average_vote</th>\n",
       "      <th>total_votes</th>\n",
       "      <th>mean_vote</th>\n",
       "      <th>median_vote</th>\n",
       "      <th>votes_10</th>\n",
       "      <th>votes_9</th>\n",
       "      <th>votes_8</th>\n",
       "      <th>votes_7</th>\n",
       "      <th>votes_6</th>\n",
       "      <th>...</th>\n",
       "      <th>females_30age_votes</th>\n",
       "      <th>females_45age_avg_vote</th>\n",
       "      <th>females_45age_votes</th>\n",
       "      <th>top1000_voters_rating</th>\n",
       "      <th>top1000_voters_votes</th>\n",
       "      <th>us_voters_rating</th>\n",
       "      <th>us_voters_votes</th>\n",
       "      <th>non_us_voters_rating</th>\n",
       "      <th>non_us_voters_votes</th>\n",
       "      <th>created_date</th>\n",
       "    </tr>\n",
       "  </thead>\n",
       "  <tbody>\n",
       "    <tr>\n",
       "      <th>0</th>\n",
       "      <td>tt0028270</td>\n",
       "      <td>6.4</td>\n",
       "      <td>247</td>\n",
       "      <td>6.6</td>\n",
       "      <td>6.0</td>\n",
       "      <td>13</td>\n",
       "      <td>10</td>\n",
       "      <td>28</td>\n",
       "      <td>69</td>\n",
       "      <td>82</td>\n",
       "      <td>...</td>\n",
       "      <td>17.0</td>\n",
       "      <td>6.8</td>\n",
       "      <td>34.0</td>\n",
       "      <td>6.0</td>\n",
       "      <td>67.0</td>\n",
       "      <td>6.5</td>\n",
       "      <td>147.0</td>\n",
       "      <td>6.0</td>\n",
       "      <td>48.0</td>\n",
       "      <td>2022-01-05 01:31:04.793093</td>\n",
       "    </tr>\n",
       "    <tr>\n",
       "      <th>1</th>\n",
       "      <td>tt0028272</td>\n",
       "      <td>6.1</td>\n",
       "      <td>282</td>\n",
       "      <td>6.3</td>\n",
       "      <td>6.0</td>\n",
       "      <td>14</td>\n",
       "      <td>11</td>\n",
       "      <td>24</td>\n",
       "      <td>74</td>\n",
       "      <td>72</td>\n",
       "      <td>...</td>\n",
       "      <td>19.0</td>\n",
       "      <td>6.2</td>\n",
       "      <td>39.0</td>\n",
       "      <td>6.1</td>\n",
       "      <td>43.0</td>\n",
       "      <td>6.1</td>\n",
       "      <td>170.0</td>\n",
       "      <td>6.1</td>\n",
       "      <td>43.0</td>\n",
       "      <td>2022-01-05 01:31:04.793093</td>\n",
       "    </tr>\n",
       "    <tr>\n",
       "      <th>2</th>\n",
       "      <td>tt0028282</td>\n",
       "      <td>6.5</td>\n",
       "      <td>278</td>\n",
       "      <td>6.5</td>\n",
       "      <td>7.0</td>\n",
       "      <td>14</td>\n",
       "      <td>15</td>\n",
       "      <td>41</td>\n",
       "      <td>79</td>\n",
       "      <td>61</td>\n",
       "      <td>...</td>\n",
       "      <td>8.0</td>\n",
       "      <td>7.1</td>\n",
       "      <td>29.0</td>\n",
       "      <td>6.4</td>\n",
       "      <td>54.0</td>\n",
       "      <td>6.6</td>\n",
       "      <td>139.0</td>\n",
       "      <td>6.2</td>\n",
       "      <td>74.0</td>\n",
       "      <td>2022-01-05 01:31:04.793093</td>\n",
       "    </tr>\n",
       "    <tr>\n",
       "      <th>3</th>\n",
       "      <td>tt0028283</td>\n",
       "      <td>5.2</td>\n",
       "      <td>134</td>\n",
       "      <td>5.5</td>\n",
       "      <td>5.0</td>\n",
       "      <td>12</td>\n",
       "      <td>4</td>\n",
       "      <td>5</td>\n",
       "      <td>13</td>\n",
       "      <td>29</td>\n",
       "      <td>...</td>\n",
       "      <td>2.0</td>\n",
       "      <td>6.8</td>\n",
       "      <td>8.0</td>\n",
       "      <td>5.1</td>\n",
       "      <td>33.0</td>\n",
       "      <td>5.3</td>\n",
       "      <td>74.0</td>\n",
       "      <td>4.6</td>\n",
       "      <td>37.0</td>\n",
       "      <td>2022-01-05 01:31:04.793093</td>\n",
       "    </tr>\n",
       "    <tr>\n",
       "      <th>4</th>\n",
       "      <td>tt0028284</td>\n",
       "      <td>6.1</td>\n",
       "      <td>105</td>\n",
       "      <td>6.1</td>\n",
       "      <td>6.0</td>\n",
       "      <td>5</td>\n",
       "      <td>4</td>\n",
       "      <td>7</td>\n",
       "      <td>22</td>\n",
       "      <td>33</td>\n",
       "      <td>...</td>\n",
       "      <td>2.0</td>\n",
       "      <td>5.3</td>\n",
       "      <td>6.0</td>\n",
       "      <td>5.8</td>\n",
       "      <td>27.0</td>\n",
       "      <td>6.2</td>\n",
       "      <td>55.0</td>\n",
       "      <td>4.8</td>\n",
       "      <td>17.0</td>\n",
       "      <td>2022-01-05 01:31:04.793093</td>\n",
       "    </tr>\n",
       "  </tbody>\n",
       "</table>\n",
       "<p>5 rows × 50 columns</p>\n",
       "</div>"
      ],
      "text/plain": [
       "  imdb_title_id weighted_average_vote total_votes mean_vote median_vote  \\\n",
       "0     tt0028270                   6.4         247       6.6         6.0   \n",
       "1     tt0028272                   6.1         282       6.3         6.0   \n",
       "2     tt0028282                   6.5         278       6.5         7.0   \n",
       "3     tt0028283                   5.2         134       5.5         5.0   \n",
       "4     tt0028284                   6.1         105       6.1         6.0   \n",
       "\n",
       "  votes_10 votes_9 votes_8 votes_7 votes_6  ... females_30age_votes  \\\n",
       "0       13      10      28      69      82  ...                17.0   \n",
       "1       14      11      24      74      72  ...                19.0   \n",
       "2       14      15      41      79      61  ...                 8.0   \n",
       "3       12       4       5      13      29  ...                 2.0   \n",
       "4        5       4       7      22      33  ...                 2.0   \n",
       "\n",
       "  females_45age_avg_vote females_45age_votes top1000_voters_rating  \\\n",
       "0                    6.8                34.0                   6.0   \n",
       "1                    6.2                39.0                   6.1   \n",
       "2                    7.1                29.0                   6.4   \n",
       "3                    6.8                 8.0                   5.1   \n",
       "4                    5.3                 6.0                   5.8   \n",
       "\n",
       "  top1000_voters_votes us_voters_rating us_voters_votes non_us_voters_rating  \\\n",
       "0                 67.0              6.5           147.0                  6.0   \n",
       "1                 43.0              6.1           170.0                  6.1   \n",
       "2                 54.0              6.6           139.0                  6.2   \n",
       "3                 33.0              5.3            74.0                  4.6   \n",
       "4                 27.0              6.2            55.0                  4.8   \n",
       "\n",
       "  non_us_voters_votes               created_date  \n",
       "0                48.0 2022-01-05 01:31:04.793093  \n",
       "1                43.0 2022-01-05 01:31:04.793093  \n",
       "2                74.0 2022-01-05 01:31:04.793093  \n",
       "3                37.0 2022-01-05 01:31:04.793093  \n",
       "4                17.0 2022-01-05 01:31:04.793093  \n",
       "\n",
       "[5 rows x 50 columns]"
      ]
     },
     "execution_count": 216,
     "metadata": {},
     "output_type": "execute_result"
    }
   ],
   "source": [
    "ratings.head()"
   ]
  },
  {
   "cell_type": "code",
   "execution_count": 229,
   "id": "14a695b5",
   "metadata": {},
   "outputs": [
    {
     "data": {
      "text/plain": [
       "females_0age_votes           74.239124\n",
       "females_0age_avg_vote        74.239124\n",
       "males_0age_votes             68.072914\n",
       "males_0age_avg_vote          68.072914\n",
       "allgenders_0age_votes        61.144954\n",
       "allgenders_0age_avg_vote     61.144954\n",
       "females_18age_votes           7.595364\n",
       "females_18age_avg_vote        7.595364\n",
       "females_45age_votes           3.258983\n",
       "females_45age_avg_vote        3.258983\n",
       "males_18age_avg_vote          1.706365\n",
       "males_18age_votes             1.706365\n",
       "females_30age_votes           1.099528\n",
       "females_30age_avg_vote        1.099528\n",
       "allgenders_18age_votes        0.822317\n",
       "allgenders_18age_avg_vote     0.822317\n",
       "top1000_voters_votes          0.790868\n",
       "top1000_voters_rating         0.790868\n",
       "us_voters_votes               0.243434\n",
       "us_voters_rating              0.243434\n",
       "males_45age_votes             0.117640\n",
       "males_45age_avg_vote          0.117640\n",
       "females_allages_votes         0.094345\n",
       "females_allages_avg_vote      0.094345\n",
       "allgenders_45age_votes        0.093180\n",
       "allgenders_45age_avg_vote     0.093180\n",
       "males_30age_votes             0.013977\n",
       "males_30age_avg_vote          0.013977\n",
       "allgenders_30age_votes        0.011648\n",
       "allgenders_30age_avg_vote     0.011648\n",
       "males_allages_votes           0.001165\n",
       "males_allages_avg_vote        0.001165\n",
       "non_us_voters_rating          0.001165\n",
       "non_us_voters_votes           0.001165\n",
       "dtype: float64"
      ]
     },
     "execution_count": 229,
     "metadata": {},
     "output_type": "execute_result"
    }
   ],
   "source": [
    "rating_pct = ratings.isnull().sum()/len(ratings) * 100 \n",
    "rating_pct.where(rating_pct > 0).dropna().sort_values(ascending=False)"
   ]
  },
  {
   "cell_type": "code",
   "execution_count": 233,
   "id": "fc905208",
   "metadata": {},
   "outputs": [
    {
     "data": {
      "text/plain": [
       "imdb_title_id                        object\n",
       "weighted_average_vote                object\n",
       "total_votes                          object\n",
       "mean_vote                            object\n",
       "median_vote                          object\n",
       "votes_10                             object\n",
       "votes_9                              object\n",
       "votes_8                              object\n",
       "votes_7                              object\n",
       "votes_6                              object\n",
       "votes_5                              object\n",
       "votes_4                              object\n",
       "votes_3                              object\n",
       "votes_2                              object\n",
       "votes_1                              object\n",
       "allgenders_0age_avg_vote             object\n",
       "allgenders_0age_votes                object\n",
       "allgenders_18age_avg_vote            object\n",
       "allgenders_18age_votes               object\n",
       "allgenders_30age_avg_vote            object\n",
       "allgenders_30age_votes               object\n",
       "allgenders_45age_avg_vote            object\n",
       "allgenders_45age_votes               object\n",
       "males_allages_avg_vote               object\n",
       "males_allages_votes                  object\n",
       "males_0age_avg_vote                  object\n",
       "males_0age_votes                     object\n",
       "males_18age_avg_vote                 object\n",
       "males_18age_votes                    object\n",
       "males_30age_avg_vote                 object\n",
       "males_30age_votes                    object\n",
       "males_45age_avg_vote                 object\n",
       "males_45age_votes                    object\n",
       "females_allages_avg_vote             object\n",
       "females_allages_votes                object\n",
       "females_0age_avg_vote                object\n",
       "females_0age_votes                   object\n",
       "females_18age_avg_vote               object\n",
       "females_18age_votes                  object\n",
       "females_30age_avg_vote               object\n",
       "females_30age_votes                  object\n",
       "females_45age_avg_vote               object\n",
       "females_45age_votes                  object\n",
       "top1000_voters_rating                object\n",
       "top1000_voters_votes                 object\n",
       "us_voters_rating                     object\n",
       "us_voters_votes                      object\n",
       "non_us_voters_rating                 object\n",
       "non_us_voters_votes                  object\n",
       "created_date                 datetime64[ns]\n",
       "dtype: object"
      ]
     },
     "execution_count": 233,
     "metadata": {},
     "output_type": "execute_result"
    }
   ],
   "source": [
    "ratings.dtypes"
   ]
  },
  {
   "cell_type": "code",
   "execution_count": 234,
   "id": "e9087ccb",
   "metadata": {},
   "outputs": [],
   "source": [
    "for col in ratings:\n",
    "    if ratings[col].astype(str).str.contains(',').any():\n",
    "        print(col)"
   ]
  },
  {
   "cell_type": "code",
   "execution_count": 236,
   "id": "6b0b8663",
   "metadata": {},
   "outputs": [
    {
     "data": {
      "text/plain": [
       "0"
      ]
     },
     "execution_count": 236,
     "metadata": {},
     "output_type": "execute_result"
    }
   ],
   "source": [
    "ratings.duplicated(subset=['imdb_title_id']).sum()"
   ]
  },
  {
   "cell_type": "code",
   "execution_count": 244,
   "id": "15d37d6e",
   "metadata": {},
   "outputs": [
    {
     "data": {
      "text/plain": [
       "array(['USA', 'UK', 'Brazil', ..., 'Greece, Sweden',\n",
       "       'Greenland, Denmark, Norway, Sweden',\n",
       "       'France, Germany, Norway, Iceland'], dtype=object)"
      ]
     },
     "execution_count": 244,
     "metadata": {},
     "output_type": "execute_result"
    }
   ],
   "source": [
    "movies['country'].unique()"
   ]
  },
  {
   "cell_type": "code",
   "execution_count": null,
   "id": "5556c939",
   "metadata": {},
   "outputs": [],
   "source": []
  }
 ],
 "metadata": {
  "kernelspec": {
   "display_name": "Python 3",
   "language": "python",
   "name": "python3"
  },
  "language_info": {
   "codemirror_mode": {
    "name": "ipython",
    "version": 3
   },
   "file_extension": ".py",
   "mimetype": "text/x-python",
   "name": "python",
   "nbconvert_exporter": "python",
   "pygments_lexer": "ipython3",
   "version": "3.8.8"
  }
 },
 "nbformat": 4,
 "nbformat_minor": 5
}
